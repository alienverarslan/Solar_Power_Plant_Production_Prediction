{
 "cells": [
  {
   "cell_type": "code",
   "execution_count": 106,
   "metadata": {
    "ExecuteTime": {
     "end_time": "2022-02-26T14:38:53.005085Z",
     "start_time": "2022-02-26T14:38:52.989125Z"
    }
   },
   "outputs": [],
   "source": [
    "import numpy as np\n",
    "import pandas as pd\n",
    "import seaborn as sns\n",
    "import time\n",
    "from matplotlib import pyplot as plt\n",
    "\n",
    "from sklearn.preprocessing import MaxAbsScaler, RobustScaler, StandardScaler\n",
    "from sklearn.compose import ColumnTransformer \n",
    "from sklearn.metrics import make_scorer, accuracy_score, auc, classification_report, confusion_matrix, f1_score\n",
    "from sklearn.pipeline import Pipeline, Parallel\n",
    "\n",
    "from sklearn.model_selection import GridSearchCV, KFold, learning_curve, RandomizedSearchCV, TimeSeriesSplit, train_test_split\n",
    "from lightgbm import LGBMClassifier\n",
    "from xgboost import XGBClassifier\n",
    "from sklearn.ensemble import AdaBoostClassifier, BaggingClassifier, ExtraTreesClassifier, GradientBoostingClassifier, RandomForestClassifier, VotingClassifier\n",
    "from sklearn.naive_bayes import BernoulliNB, MultinomialNB, GaussianNB \n",
    "from sklearn.linear_model import LogisticRegression"
   ]
  },
  {
   "cell_type": "code",
   "execution_count": 284,
   "metadata": {
    "ExecuteTime": {
     "end_time": "2022-02-26T19:52:01.565113Z",
     "start_time": "2022-02-26T19:52:01.284113Z"
    }
   },
   "outputs": [],
   "source": [
    "#Data Import\n",
    "\n",
    "y = pd.read_csv('generation_data.csv', parse_dates=['DateTime'], index_col=[\"DateTime\"])\n",
    "X = pd.read_csv('features_data.csv', parse_dates=['DateTime'], index_col=[\"DateTime\"])\n",
    "sample_submission = pd.read_csv(\"sample_submission.csv\")"
   ]
  },
  {
   "cell_type": "code",
   "execution_count": 285,
   "metadata": {
    "ExecuteTime": {
     "end_time": "2022-02-26T19:52:03.275137Z",
     "start_time": "2022-02-26T19:52:03.219108Z"
    }
   },
   "outputs": [],
   "source": [
    "X.columns = [i.replace(' ', '_').replace(\"'\", '').replace(',', '') for i in X.columns]\n",
    "X[\"Month\"] = [month for month in X.index.month]\n",
    "\n",
    "def SeasonSelector(x):\n",
    "    if x in (1, 2, 12):\n",
    "        return 'Winter'\n",
    "    elif x in (3, 4, 5):\n",
    "        return 'Spring'\n",
    "    elif x in (6, 7, 8):\n",
    "        return 'Summer'\n",
    "    elif x in (9, 10, 11):\n",
    "        return 'Autumn'\n",
    "    \n",
    "    \n",
    "X[\"Season\"] = [SeasonSelector(month)  for month in X.index.month]"
   ]
  },
  {
   "cell_type": "code",
   "execution_count": 286,
   "metadata": {
    "ExecuteTime": {
     "end_time": "2022-02-26T19:52:06.879186Z",
     "start_time": "2022-02-26T19:52:06.825185Z"
    }
   },
   "outputs": [],
   "source": [
    "X = X.merge(pd.get_dummies(X[\"Season\"]), how='left', left_index=True, right_index=True)\n",
    "X = X.drop(\"Season\", axis=1)"
   ]
  },
  {
   "cell_type": "code",
   "execution_count": 287,
   "metadata": {
    "ExecuteTime": {
     "end_time": "2022-02-26T19:52:11.501393Z",
     "start_time": "2022-02-26T19:52:11.481395Z"
    }
   },
   "outputs": [],
   "source": [
    "X = X.drop(['Commemoration_of_Ataturk_Youth_and_Sports_Day',\n",
    "                          'Democracy_and_National_Unity_Day', 'Labour_Day',\n",
    "                          'National_Sovereignty_and_Childrens_Day', 'New_Years_Day',\n",
    "                          'Ramadan_Feast', 'Ramadan_Feast_Holiday', 'Republic_Day',\n",
    "                          'Sacrifice_Feast', 'Sacrifice_Feast_Holiday', 'Victory_Day', \n",
    "                          'Day_Friday', 'Day_Monday', 'Day_Saturday', 'Day_Sunday',\n",
    "                          'Day_Thursday', 'Day_Tuesday', 'Day_Wednesday'], axis=1)"
   ]
  },
  {
   "cell_type": "code",
   "execution_count": 288,
   "metadata": {
    "ExecuteTime": {
     "end_time": "2022-02-26T19:52:26.686968Z",
     "start_time": "2022-02-26T19:52:26.648969Z"
    }
   },
   "outputs": [
    {
     "data": {
      "text/plain": [
       "count    20050.000000\n",
       "mean        13.095711\n",
       "std         24.471306\n",
       "min          0.000000\n",
       "25%          0.000000\n",
       "50%          3.000000\n",
       "75%         10.000000\n",
       "max         99.000000\n",
       "Name: WWCode, dtype: float64"
      ]
     },
     "execution_count": 288,
     "metadata": {},
     "output_type": "execute_result"
    }
   ],
   "source": [
    "X[\"WWCode\"].describe()"
   ]
  },
  {
   "cell_type": "code",
   "execution_count": 71,
   "metadata": {
    "ExecuteTime": {
     "end_time": "2022-02-26T13:22:09.455983Z",
     "start_time": "2022-02-26T13:22:09.428754Z"
    }
   },
   "outputs": [],
   "source": [
    "y = X[[\"WWCode\"]]\n",
    "X2 = X.drop('WWCode', axis=1)\n",
    "y_train = y[~y[\"WWCode\"].isna()]\n",
    "y_test = y[y[\"WWCode\"].isna()]\n",
    "\n",
    "X_train = X2[X2.index.isin(y_train.index)]\n",
    "X_test = X2[X2.index.isin(y_test.index)]"
   ]
  },
  {
   "cell_type": "code",
   "execution_count": 72,
   "metadata": {
    "ExecuteTime": {
     "end_time": "2022-02-26T13:22:11.859124Z",
     "start_time": "2022-02-26T13:22:11.842152Z"
    }
   },
   "outputs": [
    {
     "data": {
      "text/html": [
       "<div>\n",
       "<style scoped>\n",
       "    .dataframe tbody tr th:only-of-type {\n",
       "        vertical-align: middle;\n",
       "    }\n",
       "\n",
       "    .dataframe tbody tr th {\n",
       "        vertical-align: top;\n",
       "    }\n",
       "\n",
       "    .dataframe thead th {\n",
       "        text-align: right;\n",
       "    }\n",
       "</style>\n",
       "<table border=\"1\" class=\"dataframe\">\n",
       "  <thead>\n",
       "    <tr style=\"text-align: right;\">\n",
       "      <th></th>\n",
       "      <th>AirTemperature</th>\n",
       "      <th>ComfortTemperature</th>\n",
       "      <th>RelativeHumidity</th>\n",
       "      <th>WindSpeed</th>\n",
       "      <th>WindDirection</th>\n",
       "      <th>EffectiveCloudCover</th>\n",
       "      <th>is_holiday</th>\n",
       "      <th>Hour</th>\n",
       "      <th>DayGroup</th>\n",
       "      <th>Month</th>\n",
       "      <th>Autumn</th>\n",
       "      <th>Spring</th>\n",
       "      <th>Summer</th>\n",
       "      <th>Winter</th>\n",
       "    </tr>\n",
       "    <tr>\n",
       "      <th>DateTime</th>\n",
       "      <th></th>\n",
       "      <th></th>\n",
       "      <th></th>\n",
       "      <th></th>\n",
       "      <th></th>\n",
       "      <th></th>\n",
       "      <th></th>\n",
       "      <th></th>\n",
       "      <th></th>\n",
       "      <th></th>\n",
       "      <th></th>\n",
       "      <th></th>\n",
       "      <th></th>\n",
       "      <th></th>\n",
       "    </tr>\n",
       "  </thead>\n",
       "  <tbody>\n",
       "    <tr>\n",
       "      <th>2019-01-01 00:00:00</th>\n",
       "      <td>-1.7</td>\n",
       "      <td>-6.1</td>\n",
       "      <td>75.3</td>\n",
       "      <td>3.6</td>\n",
       "      <td>60.0</td>\n",
       "      <td>6.3</td>\n",
       "      <td>1</td>\n",
       "      <td>0</td>\n",
       "      <td>0</td>\n",
       "      <td>1</td>\n",
       "      <td>0</td>\n",
       "      <td>0</td>\n",
       "      <td>0</td>\n",
       "      <td>1</td>\n",
       "    </tr>\n",
       "    <tr>\n",
       "      <th>2019-01-01 01:00:00</th>\n",
       "      <td>-1.8</td>\n",
       "      <td>-5.3</td>\n",
       "      <td>75.3</td>\n",
       "      <td>2.6</td>\n",
       "      <td>70.0</td>\n",
       "      <td>4.5</td>\n",
       "      <td>1</td>\n",
       "      <td>1</td>\n",
       "      <td>0</td>\n",
       "      <td>1</td>\n",
       "      <td>0</td>\n",
       "      <td>0</td>\n",
       "      <td>0</td>\n",
       "      <td>1</td>\n",
       "    </tr>\n",
       "    <tr>\n",
       "      <th>2019-01-01 02:00:00</th>\n",
       "      <td>-2.0</td>\n",
       "      <td>-6.0</td>\n",
       "      <td>74.7</td>\n",
       "      <td>3.1</td>\n",
       "      <td>80.0</td>\n",
       "      <td>5.5</td>\n",
       "      <td>1</td>\n",
       "      <td>2</td>\n",
       "      <td>0</td>\n",
       "      <td>1</td>\n",
       "      <td>0</td>\n",
       "      <td>0</td>\n",
       "      <td>0</td>\n",
       "      <td>1</td>\n",
       "    </tr>\n",
       "    <tr>\n",
       "      <th>2019-01-01 03:00:00</th>\n",
       "      <td>-1.9</td>\n",
       "      <td>-5.9</td>\n",
       "      <td>76.4</td>\n",
       "      <td>3.1</td>\n",
       "      <td>60.0</td>\n",
       "      <td>7.6</td>\n",
       "      <td>1</td>\n",
       "      <td>3</td>\n",
       "      <td>0</td>\n",
       "      <td>1</td>\n",
       "      <td>0</td>\n",
       "      <td>0</td>\n",
       "      <td>0</td>\n",
       "      <td>1</td>\n",
       "    </tr>\n",
       "    <tr>\n",
       "      <th>2019-01-01 04:00:00</th>\n",
       "      <td>-2.0</td>\n",
       "      <td>-7.1</td>\n",
       "      <td>76.4</td>\n",
       "      <td>4.6</td>\n",
       "      <td>60.0</td>\n",
       "      <td>6.5</td>\n",
       "      <td>1</td>\n",
       "      <td>4</td>\n",
       "      <td>0</td>\n",
       "      <td>1</td>\n",
       "      <td>0</td>\n",
       "      <td>0</td>\n",
       "      <td>0</td>\n",
       "      <td>1</td>\n",
       "    </tr>\n",
       "  </tbody>\n",
       "</table>\n",
       "</div>"
      ],
      "text/plain": [
       "                     AirTemperature  ComfortTemperature  RelativeHumidity  \\\n",
       "DateTime                                                                    \n",
       "2019-01-01 00:00:00            -1.7                -6.1              75.3   \n",
       "2019-01-01 01:00:00            -1.8                -5.3              75.3   \n",
       "2019-01-01 02:00:00            -2.0                -6.0              74.7   \n",
       "2019-01-01 03:00:00            -1.9                -5.9              76.4   \n",
       "2019-01-01 04:00:00            -2.0                -7.1              76.4   \n",
       "\n",
       "                     WindSpeed  WindDirection  EffectiveCloudCover  \\\n",
       "DateTime                                                             \n",
       "2019-01-01 00:00:00        3.6           60.0                  6.3   \n",
       "2019-01-01 01:00:00        2.6           70.0                  4.5   \n",
       "2019-01-01 02:00:00        3.1           80.0                  5.5   \n",
       "2019-01-01 03:00:00        3.1           60.0                  7.6   \n",
       "2019-01-01 04:00:00        4.6           60.0                  6.5   \n",
       "\n",
       "                     is_holiday  Hour  DayGroup  Month  Autumn  Spring  \\\n",
       "DateTime                                                                 \n",
       "2019-01-01 00:00:00           1     0         0      1       0       0   \n",
       "2019-01-01 01:00:00           1     1         0      1       0       0   \n",
       "2019-01-01 02:00:00           1     2         0      1       0       0   \n",
       "2019-01-01 03:00:00           1     3         0      1       0       0   \n",
       "2019-01-01 04:00:00           1     4         0      1       0       0   \n",
       "\n",
       "                     Summer  Winter  \n",
       "DateTime                             \n",
       "2019-01-01 00:00:00       0       1  \n",
       "2019-01-01 01:00:00       0       1  \n",
       "2019-01-01 02:00:00       0       1  \n",
       "2019-01-01 03:00:00       0       1  \n",
       "2019-01-01 04:00:00       0       1  "
      ]
     },
     "execution_count": 72,
     "metadata": {},
     "output_type": "execute_result"
    }
   ],
   "source": [
    "X_train.head()"
   ]
  },
  {
   "cell_type": "code",
   "execution_count": 73,
   "metadata": {
    "ExecuteTime": {
     "end_time": "2022-02-26T13:22:19.543385Z",
     "start_time": "2022-02-26T13:22:19.521342Z"
    }
   },
   "outputs": [],
   "source": [
    "y_train = y_train.replace({'WWCode': {99:96, 87:86, 84:83, 82:81, 72:73, 62: 63}})\n",
    "y_val = y_val.replace({'WWCode': {99:96, 87:86, 84:83, 82:81, 72:73, 62: 63}})"
   ]
  },
  {
   "cell_type": "code",
   "execution_count": 74,
   "metadata": {
    "ExecuteTime": {
     "end_time": "2022-02-26T13:22:21.599283Z",
     "start_time": "2022-02-26T13:22:21.586281Z"
    }
   },
   "outputs": [
    {
     "data": {
      "text/plain": [
       "0.0     6294\n",
       "2.0     2206\n",
       "3.0     1646\n",
       "5.0     1432\n",
       "1.0     1226\n",
       "10.0    1207\n",
       "4.0     1147\n",
       "80.0     969\n",
       "25.0     895\n",
       "6.0      748\n",
       "60.0     404\n",
       "95.0     331\n",
       "7.0      212\n",
       "70.0     203\n",
       "71.0     155\n",
       "21.0     120\n",
       "29.0      97\n",
       "22.0      91\n",
       "61.0      91\n",
       "26.0      76\n",
       "45.0      70\n",
       "51.0      66\n",
       "17.0      46\n",
       "68.0      43\n",
       "81.0      32\n",
       "85.0      30\n",
       "50.0      28\n",
       "23.0      26\n",
       "73.0      21\n",
       "83.0      20\n",
       "77.0      20\n",
       "41.0      12\n",
       "27.0       9\n",
       "40.0       9\n",
       "42.0       8\n",
       "86.0       6\n",
       "48.0       6\n",
       "13.0       6\n",
       "46.0       6\n",
       "91.0       6\n",
       "8.0        5\n",
       "44.0       5\n",
       "96.0       4\n",
       "63.0       4\n",
       "47.0       4\n",
       "20.0       3\n",
       "28.0       3\n",
       "43.0       2\n",
       "Name: WWCode, dtype: int64"
      ]
     },
     "execution_count": 74,
     "metadata": {},
     "output_type": "execute_result"
    }
   ],
   "source": [
    "y_train[\"WWCode\"].value_counts()"
   ]
  },
  {
   "cell_type": "code",
   "execution_count": 75,
   "metadata": {
    "ExecuteTime": {
     "end_time": "2022-02-26T13:22:24.664378Z",
     "start_time": "2022-02-26T13:22:24.534319Z"
    },
    "scrolled": true
   },
   "outputs": [],
   "source": [
    "X_train, X_val, y_train, y_val = train_test_split(X_train, y_train, test_size=0.25, stratify=y_train)"
   ]
  },
  {
   "cell_type": "code",
   "execution_count": 90,
   "metadata": {
    "ExecuteTime": {
     "end_time": "2022-02-26T13:58:02.884900Z",
     "start_time": "2022-02-26T13:58:02.876889Z"
    }
   },
   "outputs": [],
   "source": [
    "gnb = GaussianNB()\n",
    "bnb = BernoulliNB()\n",
    "bnb_columns = [\"is_holiday\", \"Hour\",\"Month\", \"DayGroup\", \"Autumn\", \"Spring\", \"Summer\", \"Winter\"]\n",
    "gnb_columns = X_train.drop(bnb_columns, axis=1).columns"
   ]
  },
  {
   "cell_type": "code",
   "execution_count": 112,
   "metadata": {
    "ExecuteTime": {
     "end_time": "2022-02-26T14:45:07.699565Z",
     "start_time": "2022-02-26T14:45:07.501597Z"
    }
   },
   "outputs": [],
   "source": [
    "gnb.fit(X_train[gnb_columns], np.ravel(y_train))\n",
    "y_train_gnb = gnb.predict(X_train[gnb_columns])\n",
    "y_val_gnb = gnb.predict(X_val[gnb_columns])\n",
    "\n",
    "y_train_prob_gnb = gnb.predict_proba(X_train[gnb_columns])\n",
    "y_val_prob_gnb = gnb.predict_proba(X_val[gnb_columns])\n",
    "\n",
    "###########################################\n",
    "\n",
    "bnb.fit(X_train[bnb_columns], np.ravel(y_train))\n",
    "y_train_bnb = bnb.predict(X_train[bnb_columns])\n",
    "y_val_bnb = bnb.predict(X_val[bnb_columns])\n",
    "\n",
    "y_train_prob_bnb = bnb.predict_proba(X_train[bnb_columns])\n",
    "y_val_prob_bnb = bnb.predict_proba(X_val[bnb_columns])"
   ]
  },
  {
   "cell_type": "code",
   "execution_count": 96,
   "metadata": {
    "ExecuteTime": {
     "end_time": "2022-02-26T14:01:42.072798Z",
     "start_time": "2022-02-26T14:01:42.056796Z"
    }
   },
   "outputs": [
    {
     "name": "stdout",
     "output_type": "stream",
     "text": [
      "Gaussian Train Accuracy: 0.42767839329653523\n",
      "Gaussian Val Accuracy: 0.4211051266706563\n",
      "\n",
      "Bernoulli Train Accuracy: 0.31010174901908627\n",
      "Bernoulli Val Accuracy: 0.3167763814083383\n"
     ]
    }
   ],
   "source": [
    "print(\"Gaussian Train Accuracy:\",accuracy_score(y_train, y_train_gnb))\n",
    "print(\"Gaussian Val Accuracy:\",accuracy_score(y_val, y_val_gnb))\n",
    "print()\n",
    "print(\"Bernoulli Train Accuracy:\",accuracy_score(y_train, y_train_bnb))\n",
    "print(\"Bernoulli Val Accuracy:\",accuracy_score(y_val, y_val_bnb))"
   ]
  },
  {
   "cell_type": "code",
   "execution_count": 113,
   "metadata": {
    "ExecuteTime": {
     "end_time": "2022-02-26T14:46:59.317381Z",
     "start_time": "2022-02-26T14:46:42.906368Z"
    }
   },
   "outputs": [
    {
     "name": "stdout",
     "output_type": "stream",
     "text": [
      "LGBM Train Accuracy: 0.23761388574848707\n",
      "LGBM Val Accuracy: 0.23498902852583284\n"
     ]
    }
   ],
   "source": [
    "lgbm = LGBMClassifier(random_state=42)\n",
    "lgbm.fit(X_train, np.ravel(y_train))\n",
    "lgbm.fit(X_train, np.ravel(y_train))\n",
    "y_train_lgbm = lgbm.predict(X_train)\n",
    "y_val_lgbm = lgbm.predict(X_val)\n",
    "\n",
    "y_train_prob_lgbm = lgbm.predict_proba(X_train)\n",
    "y_val_prob_lgbm = lgbm.predict_proba(X_val)\n",
    "\n",
    "print(\"LGBM Train Accuracy:\",accuracy_score(y_train, y_train_lgbm))\n",
    "print(\"LGBM Val Accuracy:\",accuracy_score(y_val, y_val_lgbm))"
   ]
  },
  {
   "cell_type": "code",
   "execution_count": 176,
   "metadata": {
    "ExecuteTime": {
     "end_time": "2022-02-26T15:41:51.609336Z",
     "start_time": "2022-02-26T15:41:43.726312Z"
    }
   },
   "outputs": [
    {
     "name": "stdout",
     "output_type": "stream",
     "text": [
      "Random Forest Train Accuracy: 0.9999334973731462\n",
      "Random Forest Val Accuracy: 0.6351486136046279\n"
     ]
    }
   ],
   "source": [
    "rf = RandomForestClassifier(random_state=42)\n",
    "rf.fit(X_train, np.ravel(y_train))\n",
    "rf.fit(X_train, np.ravel(y_train))\n",
    "y_train_rf = rf.predict(X_train)\n",
    "y_val_rf = rf.predict(X_val)\n",
    "\n",
    "y_train_prob_rf = rf.predict_proba(X_train)\n",
    "y_val_prob_rf = rf.predict_proba(X_val)\n",
    "\n",
    "print(\"Random Forest Train Accuracy:\",accuracy_score(y_train, y_train_rf))\n",
    "print(\"Random Forest Val Accuracy:\",accuracy_score(y_val, y_val_rf))"
   ]
  },
  {
   "cell_type": "code",
   "execution_count": 175,
   "metadata": {
    "ExecuteTime": {
     "end_time": "2022-02-26T15:39:53.304950Z",
     "start_time": "2022-02-26T15:37:36.625567Z"
    }
   },
   "outputs": [
    {
     "name": "stderr",
     "output_type": "stream",
     "text": [
      "c:\\python37\\lib\\site-packages\\sklearn\\linear_model\\_logistic.py:764: ConvergenceWarning: lbfgs failed to converge (status=1):\n",
      "STOP: TOTAL NO. of ITERATIONS REACHED LIMIT.\n",
      "\n",
      "Increase the number of iterations (max_iter) or scale the data as shown in:\n",
      "    https://scikit-learn.org/stable/modules/preprocessing.html\n",
      "Please also refer to the documentation for alternative solver options:\n",
      "    https://scikit-learn.org/stable/modules/linear_model.html#logistic-regression\n",
      "  extra_warning_msg=_LOGISTIC_SOLVER_CONVERGENCE_MSG)\n"
     ]
    },
    {
     "name": "stdout",
     "output_type": "stream",
     "text": [
      "Logit Train Accuracy: 0.4641218328123961\n",
      "Logit Val Accuracy: 0.4703770197486535\n"
     ]
    },
    {
     "name": "stderr",
     "output_type": "stream",
     "text": [
      "c:\\python37\\lib\\site-packages\\sklearn\\linear_model\\_logistic.py:764: ConvergenceWarning: lbfgs failed to converge (status=1):\n",
      "STOP: TOTAL NO. of ITERATIONS REACHED LIMIT.\n",
      "\n",
      "Increase the number of iterations (max_iter) or scale the data as shown in:\n",
      "    https://scikit-learn.org/stable/modules/preprocessing.html\n",
      "Please also refer to the documentation for alternative solver options:\n",
      "    https://scikit-learn.org/stable/modules/linear_model.html#logistic-regression\n",
      "  extra_warning_msg=_LOGISTIC_SOLVER_CONVERGENCE_MSG)\n"
     ]
    }
   ],
   "source": [
    "logit = LogisticRegression(max_iter=2000)\n",
    "\n",
    "\n",
    "scaler = Pipeline(steps=[\n",
    "        ('standard_scaler', StandardScaler())])\n",
    "\n",
    "preprocessor = ColumnTransformer(\n",
    "        remainder='passthrough', #passthough features not listed\n",
    "        transformers=[\n",
    "            ('scaler',  scaler, gnb_columns)\n",
    "        ])\n",
    "\n",
    "\n",
    "pipeline = Pipeline(steps=([('preprocessor', preprocessor), ('logit', logit)]))\n",
    "\n",
    "\n",
    "pipeline.fit(X_train, np.ravel(y_train))\n",
    "pipeline.fit(X_train, np.ravel(y_train))\n",
    "y_train_logit = pipeline.predict(X_train)\n",
    "y_val_logit = pipeline.predict(X_val)\n",
    "\n",
    "y_train_prob_logit = pipeline.predict_proba(X_train)\n",
    "y_val_prob_logit = pipeline.predict_proba(X_val)\n",
    "\n",
    "print(\"Logit Train Accuracy:\",accuracy_score(y_train, y_train_logit))\n",
    "print(\"Logit Val Accuracy:\",accuracy_score(y_val, y_val_logit))"
   ]
  },
  {
   "cell_type": "code",
   "execution_count": 177,
   "metadata": {
    "ExecuteTime": {
     "end_time": "2022-02-26T15:42:59.191110Z",
     "start_time": "2022-02-26T15:42:58.945936Z"
    }
   },
   "outputs": [],
   "source": [
    "from scipy.sparse import csr_matrix, hstack\n",
    "\n",
    "sparse_lgbm = csr_matrix(y_train_prob_lgbm)\n",
    "sparse_gnb = csr_matrix(y_train_prob_gnb) \n",
    "sparse_bnb = csr_matrix(y_train_prob_bnb) \n",
    "sparse_logit = csr_matrix(y_train_prob_logit)\n",
    "sparse_rf = csr_matrix(y_train_prob_rf)\n",
    "sparse_merged = hstack((sparse_lgbm, sparse_bnb, sparse_logit, sparse_gnb, sparse_rf), format='csr')\n",
    "\n",
    "sparse_lgbm_val = csr_matrix(y_val_prob_lgbm)\n",
    "sparse_gnb_val = csr_matrix(y_val_prob_gnb) \n",
    "sparse_bnb_val = csr_matrix(y_val_prob_bnb) \n",
    "sparse_logit_val = csr_matrix(y_val_prob_logit)\n",
    "sparse_rf_val = csr_matrix(y_val_prob_rf)\n",
    "sparse_merged_val = hstack((sparse_lgbm_val, sparse_gnb_val, sparse_bnb_val, sparse_logit_val, y_val_prob_rf), format='csr')"
   ]
  },
  {
   "cell_type": "code",
   "execution_count": 178,
   "metadata": {
    "ExecuteTime": {
     "end_time": "2022-02-26T15:43:02.400400Z",
     "start_time": "2022-02-26T15:43:02.236373Z"
    }
   },
   "outputs": [
    {
     "name": "stdout",
     "output_type": "stream",
     "text": [
      "Multinomial Naive Bayes\n",
      "Train Overall Accuracy: 0.8455809004455676\n",
      "Val Overall Accuracy: 0.6070217434669858\n"
     ]
    }
   ],
   "source": [
    "mnb_sparse = MultinomialNB()\n",
    "mnb_sparse.fit(sparse_merged, np.ravel(y_train))\n",
    "sparse_predict = mnb_sparse.predict(sparse_merged)\n",
    "sparse_predict_val = mnb_sparse.predict(sparse_merged_val)\n",
    "print(\"Multinomial Naive Bayes\")\n",
    "print(\"Train Overall Accuracy:\", accuracy_score(y_train, sparse_predict))\n",
    "print(\"Val Overall Accuracy:\", accuracy_score(y_val, sparse_predict_val))"
   ]
  },
  {
   "cell_type": "code",
   "execution_count": 179,
   "metadata": {
    "ExecuteTime": {
     "end_time": "2022-02-26T15:43:16.551408Z",
     "start_time": "2022-02-26T15:43:06.927261Z"
    }
   },
   "outputs": [
    {
     "name": "stdout",
     "output_type": "stream",
     "text": [
      "Logistic Regression\n",
      "Train Overall Accuracy: 0.9989359579703398\n",
      "Val Overall Accuracy: 0.637542389786555\n"
     ]
    }
   ],
   "source": [
    "logit_sparse = LogisticRegression()\n",
    "logit_sparse.fit(sparse_merged, np.ravel(y_train))\n",
    "sparse_predict = logit_sparse.predict(sparse_merged)\n",
    "sparse_predict_val = logit_sparse.predict(sparse_merged_val)\n",
    "print(\"Logistic Regression\")\n",
    "print(\"Train Overall Accuracy:\", accuracy_score(y_train, sparse_predict))\n",
    "print(\"Val Overall Accuracy:\", accuracy_score(y_val, sparse_predict_val))\n"
   ]
  },
  {
   "cell_type": "code",
   "execution_count": 180,
   "metadata": {
    "ExecuteTime": {
     "end_time": "2022-02-26T15:44:43.761157Z",
     "start_time": "2022-02-26T15:43:21.204044Z"
    }
   },
   "outputs": [
    {
     "name": "stdout",
     "output_type": "stream",
     "text": [
      "LGBM\n",
      "Train Overall Accuracy: 0.375207820708918\n",
      "Val Overall Accuracy: 0.14402553361260723\n"
     ]
    }
   ],
   "source": [
    "lgbm_sparse = LGBMClassifier(random_state=42, max_depth=40, n_estimators=1000)\n",
    "lgbm_sparse.fit(sparse_merged, np.ravel(y_train))\n",
    "sparse_predict = lgbm_sparse.predict(sparse_merged)\n",
    "sparse_predict_val = lgbm_sparse.predict(sparse_merged_val)\n",
    "print(\"LGBM\")\n",
    "print(\"Train Overall Accuracy:\", accuracy_score(y_train, sparse_predict))\n",
    "print(\"Val Overall Accuracy:\", accuracy_score(y_val, sparse_predict_val))\n"
   ]
  },
  {
   "cell_type": "markdown",
   "metadata": {},
   "source": [
    "**Hyperparameter tuning for Random Forest**"
   ]
  },
  {
   "cell_type": "code",
   "execution_count": null,
   "metadata": {},
   "outputs": [],
   "source": [
    "rf = RandomForestClassifier(random_state=42)\n",
    "rf.fit(X_train, np.ravel(y_train))\n",
    "rf.fit(X_train, np.ravel(y_train))\n",
    "y_train_rf = rf.predict(X_train)\n",
    "y_val_rf = rf.predict(X_val)\n",
    "\n",
    "y_train_prob_rf = rf.predict_proba(X_train)\n",
    "y_val_prob_rf = rf.predict_proba(X_val)\n",
    "\n",
    "print(\"Random Forest Train Accuracy:\",accuracy_score(y_train, y_train_rf))\n",
    "print(\"Random Forest Val Accuracy:\",accuracy_score(y_val, y_val_rf))"
   ]
  },
  {
   "cell_type": "code",
   "execution_count": 194,
   "metadata": {
    "ExecuteTime": {
     "end_time": "2022-02-26T17:32:06.677472Z",
     "start_time": "2022-02-26T16:56:43.958289Z"
    }
   },
   "outputs": [
    {
     "name": "stdout",
     "output_type": "stream",
     "text": [
      "Fitting 5 folds for each of 192 candidates, totalling 960 fits\n"
     ]
    },
    {
     "name": "stderr",
     "output_type": "stream",
     "text": [
      "c:\\python37\\lib\\site-packages\\sklearn\\model_selection\\_split.py:672: UserWarning: The least populated class in y has only 2 members, which is less than n_splits=5.\n",
      "  % (min_groups, self.n_splits)), UserWarning)\n",
      "[Parallel(n_jobs=-1)]: Using backend LokyBackend with 8 concurrent workers.\n",
      "[Parallel(n_jobs=-1)]: Done  25 tasks      | elapsed:   52.9s\n",
      "[Parallel(n_jobs=-1)]: Done 146 tasks      | elapsed:  4.3min\n",
      "[Parallel(n_jobs=-1)]: Done 349 tasks      | elapsed: 12.2min\n",
      "[Parallel(n_jobs=-1)]: Done 632 tasks      | elapsed: 22.2min\n",
      "[Parallel(n_jobs=-1)]: Done 960 out of 960 | elapsed: 35.1min finished\n",
      "c:\\python37\\lib\\site-packages\\sklearn\\model_selection\\_search.py:765: DataConversionWarning: A column-vector y was passed when a 1d array was expected. Please change the shape of y to (n_samples,), for example using ravel().\n",
      "  self.best_estimator_.fit(X, y, **fit_params)\n"
     ]
    },
    {
     "name": "stdout",
     "output_type": "stream",
     "text": [
      "{'class_weight': None, 'criterion': 'gini', 'max_depth': 30, 'max_samples': 0.9, 'min_samples_split': 5}\n",
      "Train Set Accuracy: 0.9703398284232227\n",
      "\n",
      "Val Set Accuracy: 0.642130460801915\n"
     ]
    }
   ],
   "source": [
    "\n",
    "rf = RandomForestClassifier(random_state=42, n_estimators=500)\n",
    "\n",
    "params = {\n",
    "    \"criterion\": ['gini', 'entropy'],\n",
    "    \"max_depth\": [15, 30, 40, 50],\n",
    "    \"min_samples_split\": [5, 10, 20, 50],\n",
    "#    \"min_samples_leaf\": [5, 10, 20, 30],\n",
    " #   \"min_impurity_decrease\": [0, 0.001, 0.0001],\n",
    "    \"class_weight\": [\"balanced\", None],\n",
    "    \"max_samples\": [None, 0.75, 0.9],\n",
    " #   \"ccp_alpha\": [0, 0.001]\n",
    "}\n",
    "\n",
    "\n",
    "grid1 = GridSearchCV(rf, param_grid=params, cv=5, n_jobs=-1, scoring='accuracy', verbose=2)\n",
    "grid1.fit(X_train, y_train)\n",
    "\n",
    "print(grid1.best_params_)\n",
    "\n",
    "y_train_grid1 = grid1.predict(X_train)\n",
    "y_val_grid1 = grid1.predict(X_val)\n",
    "\n",
    "\n",
    "print(\"Train Set Accuracy:\", accuracy_score(y_train, y_train_grid1))\n",
    "\n",
    "print()\n",
    "print(\"Val Set Accuracy:\", accuracy_score(y_val, y_val_grid1))\n"
   ]
  },
  {
   "cell_type": "code",
   "execution_count": 210,
   "metadata": {
    "ExecuteTime": {
     "end_time": "2022-02-26T18:38:12.965615Z",
     "start_time": "2022-02-26T18:38:10.250366Z"
    }
   },
   "outputs": [],
   "source": [
    "from sklearn.model_selection import cross_val_score \n",
    "from sklearn.preprocessing import StandardScaler \n",
    "import joblib \n",
    "\n",
    "import optuna \n",
    "from optuna.samplers import TPESampler"
   ]
  },
  {
   "cell_type": "code",
   "execution_count": 242,
   "metadata": {
    "ExecuteTime": {
     "end_time": "2022-02-26T19:12:38.632000Z",
     "start_time": "2022-02-26T19:12:38.610009Z"
    }
   },
   "outputs": [],
   "source": [
    "# define the search space and the objecive function\n",
    "\n",
    "def objective(trial):\n",
    "    # Define the search space\n",
    "    criterions = trial.suggest_categorical('criterion', ['gini', 'entropy'])\n",
    "    max_depths = trial.suggest_int('max_depth', 2, 500, 1)\n",
    "    n_estimators = trial.suggest_int('n_estimators', 100, 1000, 100)\n",
    "    class_weights = trial.suggest_categorical('class_weight', ['balanced', 'balanced_subsample', None])\n",
    "    min_samples_splits = trial.suggest_int('min_samples_split', 2, 100, 1)\n",
    "    min_samples_leafs = trial.suggest_int('min_samples_leaf', 2, 100, 1)\n",
    "    max_sampless = trial.suggest_categorical(\"max_samples\", np.arange(0.5, 1.0001, 0.0001))\n",
    "\n",
    "    clf = RandomForestClassifier(n_estimators=n_estimators,\n",
    "                                 criterion=criterions,\n",
    "                                 max_depth=max_depths,\n",
    "                                 class_weight=class_weights,\n",
    "                                 min_samples_split=min_samples_splits,\n",
    "                                 min_samples_leaf=min_samples_leafs,\n",
    "                                 max_samples=max_sampless,\n",
    "                                 n_jobs=-1)\n",
    "    score = cross_val_score(clf, X_train, np.ravel(y_train), scoring=\"accuracy\").mean()\n",
    "\n",
    "    return score"
   ]
  },
  {
   "cell_type": "code",
   "execution_count": 243,
   "metadata": {
    "ExecuteTime": {
     "end_time": "2022-02-26T19:16:49.407380Z",
     "start_time": "2022-02-26T19:12:39.829045Z"
    },
    "scrolled": true
   },
   "outputs": [
    {
     "name": "stderr",
     "output_type": "stream",
     "text": [
      "\u001b[32m[I 2022-02-26 22:12:39,831]\u001b[0m A new study created in memory with name: randomForest_optimization\u001b[0m\n",
      "c:\\python37\\lib\\site-packages\\sklearn\\model_selection\\_split.py:672: UserWarning:\n",
      "\n",
      "The least populated class in y has only 2 members, which is less than n_splits=5.\n",
      "\n",
      "\u001b[32m[I 2022-02-26 22:12:48,737]\u001b[0m Trial 0 finished with value: 0.38677810286636144 and parameters: {'criterion': 'entropy', 'max_depth': 183, 'n_estimators': 200, 'class_weight': 'balanced_subsample', 'min_samples_split': 38, 'min_samples_leaf': 80, 'max_samples': 0.7839999999999687}. Best is trial 0 with value: 0.38677810286636144.\u001b[0m\n",
      "c:\\python37\\lib\\site-packages\\sklearn\\model_selection\\_split.py:672: UserWarning:\n",
      "\n",
      "The least populated class in y has only 2 members, which is less than n_splits=5.\n",
      "\n",
      "\u001b[32m[I 2022-02-26 22:12:51,630]\u001b[0m Trial 1 finished with value: 0.586021446412272 and parameters: {'criterion': 'entropy', 'max_depth': 429, 'n_estimators': 100, 'class_weight': None, 'min_samples_split': 35, 'min_samples_leaf': 40, 'max_samples': 0.6476999999999837}. Best is trial 1 with value: 0.586021446412272.\u001b[0m\n",
      "c:\\python37\\lib\\site-packages\\sklearn\\model_selection\\_split.py:672: UserWarning:\n",
      "\n",
      "The least populated class in y has only 2 members, which is less than n_splits=5.\n",
      "\n",
      "\u001b[32m[I 2022-02-26 22:13:05,813]\u001b[0m Trial 2 finished with value: 0.5832943875637697 and parameters: {'criterion': 'gini', 'max_depth': 135, 'n_estimators': 700, 'class_weight': None, 'min_samples_split': 24, 'min_samples_leaf': 48, 'max_samples': 0.9587999999999495}. Best is trial 1 with value: 0.586021446412272.\u001b[0m\n",
      "c:\\python37\\lib\\site-packages\\sklearn\\model_selection\\_split.py:672: UserWarning:\n",
      "\n",
      "The least populated class in y has only 2 members, which is less than n_splits=5.\n",
      "\n",
      "\u001b[32m[I 2022-02-26 22:13:25,033]\u001b[0m Trial 3 finished with value: 0.44776291047838734 and parameters: {'criterion': 'entropy', 'max_depth': 325, 'n_estimators': 800, 'class_weight': 'balanced', 'min_samples_split': 91, 'min_samples_leaf': 28, 'max_samples': 0.7530999999999721}. Best is trial 1 with value: 0.586021446412272.\u001b[0m\n",
      "c:\\python37\\lib\\site-packages\\sklearn\\model_selection\\_split.py:672: UserWarning:\n",
      "\n",
      "The least populated class in y has only 2 members, which is less than n_splits=5.\n",
      "\n",
      "\u001b[32m[I 2022-02-26 22:13:31,385]\u001b[0m Trial 4 finished with value: 0.40167600952387694 and parameters: {'criterion': 'gini', 'max_depth': 238, 'n_estimators': 300, 'class_weight': 'balanced', 'min_samples_split': 35, 'min_samples_leaf': 76, 'max_samples': 0.5770999999999915}. Best is trial 1 with value: 0.586021446412272.\u001b[0m\n",
      "c:\\python37\\lib\\site-packages\\sklearn\\model_selection\\_split.py:672: UserWarning:\n",
      "\n",
      "The least populated class in y has only 2 members, which is less than n_splits=5.\n",
      "\n",
      "\u001b[32m[I 2022-02-26 22:13:45,224]\u001b[0m Trial 5 finished with value: 0.3968872055629064 and parameters: {'criterion': 'entropy', 'max_depth': 256, 'n_estimators': 700, 'class_weight': 'balanced_subsample', 'min_samples_split': 58, 'min_samples_leaf': 69, 'max_samples': 0.5338999999999963}. Best is trial 1 with value: 0.586021446412272.\u001b[0m\n",
      "c:\\python37\\lib\\site-packages\\sklearn\\model_selection\\_split.py:672: UserWarning:\n",
      "\n",
      "The least populated class in y has only 2 members, which is less than n_splits=5.\n",
      "\n",
      "\u001b[32m[I 2022-02-26 22:13:50,030]\u001b[0m Trial 6 finished with value: 0.5898782937330624 and parameters: {'criterion': 'gini', 'max_depth': 383, 'n_estimators': 200, 'class_weight': None, 'min_samples_split': 54, 'min_samples_leaf': 26, 'max_samples': 0.5152999999999983}. Best is trial 6 with value: 0.5898782937330624.\u001b[0m\n",
      "c:\\python37\\lib\\site-packages\\sklearn\\model_selection\\_split.py:672: UserWarning:\n",
      "\n",
      "The least populated class in y has only 2 members, which is less than n_splits=5.\n",
      "\n",
      "\u001b[32m[I 2022-02-26 22:14:03,058]\u001b[0m Trial 7 finished with value: 0.6240609455596516 and parameters: {'criterion': 'entropy', 'max_depth': 279, 'n_estimators': 400, 'class_weight': None, 'min_samples_split': 16, 'min_samples_leaf': 6, 'max_samples': 0.6025999999999887}. Best is trial 7 with value: 0.6240609455596516.\u001b[0m\n",
      "c:\\python37\\lib\\site-packages\\sklearn\\model_selection\\_split.py:672: UserWarning:\n",
      "\n",
      "The least populated class in y has only 2 members, which is less than n_splits=5.\n",
      "\n",
      "\u001b[32m[I 2022-02-26 22:14:06,439]\u001b[0m Trial 8 finished with value: 0.5978586533903162 and parameters: {'criterion': 'entropy', 'max_depth': 234, 'n_estimators': 100, 'class_weight': None, 'min_samples_split': 96, 'min_samples_leaf': 17, 'max_samples': 0.9963999999999453}. Best is trial 7 with value: 0.6240609455596516.\u001b[0m\n",
      "c:\\python37\\lib\\site-packages\\sklearn\\model_selection\\_split.py:672: UserWarning:\n",
      "\n",
      "The least populated class in y has only 2 members, which is less than n_splits=5.\n",
      "\n",
      "\u001b[32m[I 2022-02-26 22:14:11,699]\u001b[0m Trial 9 finished with value: 0.4792181275605148 and parameters: {'criterion': 'gini', 'max_depth': 68, 'n_estimators': 200, 'class_weight': 'balanced', 'min_samples_split': 66, 'min_samples_leaf': 13, 'max_samples': 0.5314999999999965}. Best is trial 7 with value: 0.6240609455596516.\u001b[0m\n",
      "c:\\python37\\lib\\site-packages\\sklearn\\model_selection\\_split.py:672: UserWarning:\n",
      "\n",
      "The least populated class in y has only 2 members, which is less than n_splits=5.\n",
      "\n",
      "\u001b[32m[I 2022-02-26 22:14:30,281]\u001b[0m Trial 10 finished with value: 0.5394025200065097 and parameters: {'criterion': 'entropy', 'max_depth': 478, 'n_estimators': 1000, 'class_weight': None, 'min_samples_split': 2, 'min_samples_leaf': 100, 'max_samples': 0.5940999999999896}. Best is trial 7 with value: 0.6240609455596516.\u001b[0m\n",
      "c:\\python37\\lib\\site-packages\\sklearn\\model_selection\\_split.py:672: UserWarning:\n",
      "\n",
      "The least populated class in y has only 2 members, which is less than n_splits=5.\n",
      "\n",
      "\u001b[32m[I 2022-02-26 22:14:41,627]\u001b[0m Trial 11 finished with value: 0.5974595403278873 and parameters: {'criterion': 'entropy', 'max_depth': 309, 'n_estimators': 400, 'class_weight': None, 'min_samples_split': 100, 'min_samples_leaf': 10, 'max_samples': 0.7521999999999722}. Best is trial 7 with value: 0.6240609455596516.\u001b[0m\n",
      "c:\\python37\\lib\\site-packages\\sklearn\\model_selection\\_split.py:672: UserWarning:\n",
      "\n",
      "The least populated class in y has only 2 members, which is less than n_splits=5.\n",
      "\n",
      "\u001b[32m[I 2022-02-26 22:14:56,873]\u001b[0m Trial 12 finished with value: 0.606437594195105 and parameters: {'criterion': 'entropy', 'max_depth': 156, 'n_estimators': 500, 'class_weight': None, 'min_samples_split': 80, 'min_samples_leaf': 2, 'max_samples': 0.8145999999999654}. Best is trial 7 with value: 0.6240609455596516.\u001b[0m\n",
      "c:\\python37\\lib\\site-packages\\sklearn\\model_selection\\_split.py:672: UserWarning:\n",
      "\n",
      "The least populated class in y has only 2 members, which is less than n_splits=5.\n",
      "\n",
      "\u001b[32m[I 2022-02-26 22:15:12,831]\u001b[0m Trial 13 finished with value: 0.6114252913414797 and parameters: {'criterion': 'entropy', 'max_depth': 28, 'n_estimators': 500, 'class_weight': None, 'min_samples_split': 75, 'min_samples_leaf': 2, 'max_samples': 0.9620999999999491}. Best is trial 7 with value: 0.6240609455596516.\u001b[0m\n",
      "c:\\python37\\lib\\site-packages\\sklearn\\model_selection\\_split.py:672: UserWarning:\n",
      "\n",
      "The least populated class in y has only 2 members, which is less than n_splits=5.\n",
      "\n",
      "\u001b[32m[I 2022-02-26 22:15:37,433]\u001b[0m Trial 14 finished with value: 0.6362312405804895 and parameters: {'criterion': 'entropy', 'max_depth': 18, 'n_estimators': 500, 'class_weight': None, 'min_samples_split': 7, 'min_samples_leaf': 2, 'max_samples': 0.6025999999999887}. Best is trial 14 with value: 0.6362312405804895.\u001b[0m\n",
      "c:\\python37\\lib\\site-packages\\sklearn\\model_selection\\_split.py:672: UserWarning:\n",
      "\n",
      "The least populated class in y has only 2 members, which is less than n_splits=5.\n",
      "\n",
      "\u001b[32m[I 2022-02-26 22:15:51,964]\u001b[0m Trial 15 finished with value: 0.6018488111074161 and parameters: {'criterion': 'entropy', 'max_depth': 94, 'n_estimators': 600, 'class_weight': None, 'min_samples_split': 2, 'min_samples_leaf': 29, 'max_samples': 0.7741999999999698}. Best is trial 14 with value: 0.6362312405804895.\u001b[0m\n",
      "c:\\python37\\lib\\site-packages\\sklearn\\model_selection\\_split.py:672: UserWarning:\n",
      "\n",
      "The least populated class in y has only 2 members, which is less than n_splits=5.\n",
      "\n",
      "\u001b[32m[I 2022-02-26 22:16:02,048]\u001b[0m Trial 16 finished with value: 0.5806347025380496 and parameters: {'criterion': 'entropy', 'max_depth': 12, 'n_estimators': 400, 'class_weight': None, 'min_samples_split': 18, 'min_samples_leaf': 59, 'max_samples': 0.9017999999999557}. Best is trial 14 with value: 0.6362312405804895.\u001b[0m\n"
     ]
    },
    {
     "name": "stderr",
     "output_type": "stream",
     "text": [
      "c:\\python37\\lib\\site-packages\\sklearn\\model_selection\\_split.py:672: UserWarning:\n",
      "\n",
      "The least populated class in y has only 2 members, which is less than n_splits=5.\n",
      "\n",
      "\u001b[32m[I 2022-02-26 22:16:14,315]\u001b[0m Trial 17 finished with value: 0.5942013847122671 and parameters: {'criterion': 'entropy', 'max_depth': 331, 'n_estimators': 400, 'class_weight': None, 'min_samples_split': 17, 'min_samples_leaf': 39, 'max_samples': 0.8032999999999666}. Best is trial 14 with value: 0.6362312405804895.\u001b[0m\n",
      "c:\\python37\\lib\\site-packages\\sklearn\\model_selection\\_split.py:672: UserWarning:\n",
      "\n",
      "The least populated class in y has only 2 members, which is less than n_splits=5.\n",
      "\n",
      "\u001b[32m[I 2022-02-26 22:16:32,783]\u001b[0m Trial 18 finished with value: 0.6059718812133391 and parameters: {'criterion': 'gini', 'max_depth': 384, 'n_estimators': 900, 'class_weight': None, 'min_samples_split': 14, 'min_samples_leaf': 19, 'max_samples': 0.8051999999999664}. Best is trial 14 with value: 0.6362312405804895.\u001b[0m\n",
      "c:\\python37\\lib\\site-packages\\sklearn\\model_selection\\_split.py:672: UserWarning:\n",
      "\n",
      "The least populated class in y has only 2 members, which is less than n_splits=5.\n",
      "\n",
      "\u001b[32m[I 2022-02-26 22:16:49,399]\u001b[0m Trial 19 finished with value: 0.6163464327915713 and parameters: {'criterion': 'entropy', 'max_depth': 263, 'n_estimators': 600, 'class_weight': None, 'min_samples_split': 41, 'min_samples_leaf': 3, 'max_samples': 0.68199999999998}. Best is trial 14 with value: 0.6362312405804895.\u001b[0m\n"
     ]
    }
   ],
   "source": [
    "# create a study object and pass the objective function to method optimize()\n",
    "\n",
    "study = optuna.create_study(study_name=\"randomForest_optimization\",\n",
    "                            direction=\"maximize\",\n",
    "                            sampler=TPESampler())\n",
    "\n",
    "study.optimize(objective, n_trials=20)"
   ]
  },
  {
   "cell_type": "code",
   "execution_count": 244,
   "metadata": {
    "ExecuteTime": {
     "end_time": "2022-02-26T19:17:14.547938Z",
     "start_time": "2022-02-26T19:17:14.516921Z"
    }
   },
   "outputs": [
    {
     "name": "stdout",
     "output_type": "stream",
     "text": [
      "{'criterion': 'entropy', 'max_depth': 18, 'n_estimators': 500, 'class_weight': None, 'min_samples_split': 7, 'min_samples_leaf': 2, 'max_samples': 0.6025999999999887}\n"
     ]
    }
   ],
   "source": [
    "# print best parameters \n",
    "print(study.best_params)"
   ]
  },
  {
   "cell_type": "code",
   "execution_count": 245,
   "metadata": {
    "ExecuteTime": {
     "end_time": "2022-02-26T19:17:17.449109Z",
     "start_time": "2022-02-26T19:17:17.430108Z"
    }
   },
   "outputs": [
    {
     "name": "stdout",
     "output_type": "stream",
     "text": [
      "0.6362312405804895\n"
     ]
    }
   ],
   "source": [
    "# print best score \n",
    "print(study.best_value)"
   ]
  },
  {
   "cell_type": "code",
   "execution_count": 246,
   "metadata": {
    "ExecuteTime": {
     "end_time": "2022-02-26T19:17:23.216373Z",
     "start_time": "2022-02-26T19:17:22.740148Z"
    }
   },
   "outputs": [
    {
     "data": {
      "application/vnd.plotly.v1+json": {
       "config": {
        "plotlyServerURL": "https://plot.ly"
       },
       "data": [
        {
         "dimensions": [
          {
           "label": "Objective Value",
           "range": [
            0.38677810286636144,
            0.6362312405804895
           ],
           "values": [
            0.38677810286636144,
            0.586021446412272,
            0.5832943875637697,
            0.44776291047838734,
            0.40167600952387694,
            0.3968872055629064,
            0.5898782937330624,
            0.6240609455596516,
            0.5978586533903162,
            0.4792181275605148,
            0.5394025200065097,
            0.5974595403278873,
            0.606437594195105,
            0.6114252913414797,
            0.6362312405804895,
            0.6018488111074161,
            0.5806347025380496,
            0.5942013847122671,
            0.6059718812133391,
            0.6163464327915713
           ]
          },
          {
           "label": "criterion",
           "range": [
            0,
            1
           ],
           "ticktext": [
            "entropy",
            "gini"
           ],
           "tickvals": [
            0,
            1
           ],
           "values": [
            0,
            0,
            1,
            0,
            1,
            0,
            1,
            0,
            0,
            1,
            0,
            0,
            0,
            0,
            0,
            0,
            0,
            0,
            1,
            0
           ]
          },
          {
           "label": "max_depth",
           "range": [
            12,
            478
           ],
           "values": [
            183,
            429,
            135,
            325,
            238,
            256,
            383,
            279,
            234,
            68,
            478,
            309,
            156,
            28,
            18,
            94,
            12,
            331,
            384,
            263
           ]
          },
          {
           "label": "n_estimators",
           "range": [
            100,
            1000
           ],
           "values": [
            200,
            100,
            700,
            800,
            300,
            700,
            200,
            400,
            100,
            200,
            1000,
            400,
            500,
            500,
            500,
            600,
            400,
            400,
            900,
            600
           ]
          }
         ],
         "labelangle": 30,
         "labelside": "bottom",
         "line": {
          "color": [
           0.38677810286636144,
           0.586021446412272,
           0.5832943875637697,
           0.44776291047838734,
           0.40167600952387694,
           0.3968872055629064,
           0.5898782937330624,
           0.6240609455596516,
           0.5978586533903162,
           0.4792181275605148,
           0.5394025200065097,
           0.5974595403278873,
           0.606437594195105,
           0.6114252913414797,
           0.6362312405804895,
           0.6018488111074161,
           0.5806347025380496,
           0.5942013847122671,
           0.6059718812133391,
           0.6163464327915713
          ],
          "colorbar": {
           "title": {
            "text": "Objective Value"
           }
          },
          "colorscale": [
           [
            0,
            "rgb(247,251,255)"
           ],
           [
            0.125,
            "rgb(222,235,247)"
           ],
           [
            0.25,
            "rgb(198,219,239)"
           ],
           [
            0.375,
            "rgb(158,202,225)"
           ],
           [
            0.5,
            "rgb(107,174,214)"
           ],
           [
            0.625,
            "rgb(66,146,198)"
           ],
           [
            0.75,
            "rgb(33,113,181)"
           ],
           [
            0.875,
            "rgb(8,81,156)"
           ],
           [
            1,
            "rgb(8,48,107)"
           ]
          ],
          "reversescale": false,
          "showscale": true
         },
         "type": "parcoords"
        }
       ],
       "layout": {
        "template": {
         "data": {
          "bar": [
           {
            "error_x": {
             "color": "#2a3f5f"
            },
            "error_y": {
             "color": "#2a3f5f"
            },
            "marker": {
             "line": {
              "color": "#E5ECF6",
              "width": 0.5
             }
            },
            "type": "bar"
           }
          ],
          "barpolar": [
           {
            "marker": {
             "line": {
              "color": "#E5ECF6",
              "width": 0.5
             }
            },
            "type": "barpolar"
           }
          ],
          "carpet": [
           {
            "aaxis": {
             "endlinecolor": "#2a3f5f",
             "gridcolor": "white",
             "linecolor": "white",
             "minorgridcolor": "white",
             "startlinecolor": "#2a3f5f"
            },
            "baxis": {
             "endlinecolor": "#2a3f5f",
             "gridcolor": "white",
             "linecolor": "white",
             "minorgridcolor": "white",
             "startlinecolor": "#2a3f5f"
            },
            "type": "carpet"
           }
          ],
          "choropleth": [
           {
            "colorbar": {
             "outlinewidth": 0,
             "ticks": ""
            },
            "type": "choropleth"
           }
          ],
          "contour": [
           {
            "colorbar": {
             "outlinewidth": 0,
             "ticks": ""
            },
            "colorscale": [
             [
              0,
              "#0d0887"
             ],
             [
              0.1111111111111111,
              "#46039f"
             ],
             [
              0.2222222222222222,
              "#7201a8"
             ],
             [
              0.3333333333333333,
              "#9c179e"
             ],
             [
              0.4444444444444444,
              "#bd3786"
             ],
             [
              0.5555555555555556,
              "#d8576b"
             ],
             [
              0.6666666666666666,
              "#ed7953"
             ],
             [
              0.7777777777777778,
              "#fb9f3a"
             ],
             [
              0.8888888888888888,
              "#fdca26"
             ],
             [
              1,
              "#f0f921"
             ]
            ],
            "type": "contour"
           }
          ],
          "contourcarpet": [
           {
            "colorbar": {
             "outlinewidth": 0,
             "ticks": ""
            },
            "type": "contourcarpet"
           }
          ],
          "heatmap": [
           {
            "colorbar": {
             "outlinewidth": 0,
             "ticks": ""
            },
            "colorscale": [
             [
              0,
              "#0d0887"
             ],
             [
              0.1111111111111111,
              "#46039f"
             ],
             [
              0.2222222222222222,
              "#7201a8"
             ],
             [
              0.3333333333333333,
              "#9c179e"
             ],
             [
              0.4444444444444444,
              "#bd3786"
             ],
             [
              0.5555555555555556,
              "#d8576b"
             ],
             [
              0.6666666666666666,
              "#ed7953"
             ],
             [
              0.7777777777777778,
              "#fb9f3a"
             ],
             [
              0.8888888888888888,
              "#fdca26"
             ],
             [
              1,
              "#f0f921"
             ]
            ],
            "type": "heatmap"
           }
          ],
          "heatmapgl": [
           {
            "colorbar": {
             "outlinewidth": 0,
             "ticks": ""
            },
            "colorscale": [
             [
              0,
              "#0d0887"
             ],
             [
              0.1111111111111111,
              "#46039f"
             ],
             [
              0.2222222222222222,
              "#7201a8"
             ],
             [
              0.3333333333333333,
              "#9c179e"
             ],
             [
              0.4444444444444444,
              "#bd3786"
             ],
             [
              0.5555555555555556,
              "#d8576b"
             ],
             [
              0.6666666666666666,
              "#ed7953"
             ],
             [
              0.7777777777777778,
              "#fb9f3a"
             ],
             [
              0.8888888888888888,
              "#fdca26"
             ],
             [
              1,
              "#f0f921"
             ]
            ],
            "type": "heatmapgl"
           }
          ],
          "histogram": [
           {
            "marker": {
             "colorbar": {
              "outlinewidth": 0,
              "ticks": ""
             }
            },
            "type": "histogram"
           }
          ],
          "histogram2d": [
           {
            "colorbar": {
             "outlinewidth": 0,
             "ticks": ""
            },
            "colorscale": [
             [
              0,
              "#0d0887"
             ],
             [
              0.1111111111111111,
              "#46039f"
             ],
             [
              0.2222222222222222,
              "#7201a8"
             ],
             [
              0.3333333333333333,
              "#9c179e"
             ],
             [
              0.4444444444444444,
              "#bd3786"
             ],
             [
              0.5555555555555556,
              "#d8576b"
             ],
             [
              0.6666666666666666,
              "#ed7953"
             ],
             [
              0.7777777777777778,
              "#fb9f3a"
             ],
             [
              0.8888888888888888,
              "#fdca26"
             ],
             [
              1,
              "#f0f921"
             ]
            ],
            "type": "histogram2d"
           }
          ],
          "histogram2dcontour": [
           {
            "colorbar": {
             "outlinewidth": 0,
             "ticks": ""
            },
            "colorscale": [
             [
              0,
              "#0d0887"
             ],
             [
              0.1111111111111111,
              "#46039f"
             ],
             [
              0.2222222222222222,
              "#7201a8"
             ],
             [
              0.3333333333333333,
              "#9c179e"
             ],
             [
              0.4444444444444444,
              "#bd3786"
             ],
             [
              0.5555555555555556,
              "#d8576b"
             ],
             [
              0.6666666666666666,
              "#ed7953"
             ],
             [
              0.7777777777777778,
              "#fb9f3a"
             ],
             [
              0.8888888888888888,
              "#fdca26"
             ],
             [
              1,
              "#f0f921"
             ]
            ],
            "type": "histogram2dcontour"
           }
          ],
          "mesh3d": [
           {
            "colorbar": {
             "outlinewidth": 0,
             "ticks": ""
            },
            "type": "mesh3d"
           }
          ],
          "parcoords": [
           {
            "line": {
             "colorbar": {
              "outlinewidth": 0,
              "ticks": ""
             }
            },
            "type": "parcoords"
           }
          ],
          "pie": [
           {
            "automargin": true,
            "type": "pie"
           }
          ],
          "scatter": [
           {
            "marker": {
             "colorbar": {
              "outlinewidth": 0,
              "ticks": ""
             }
            },
            "type": "scatter"
           }
          ],
          "scatter3d": [
           {
            "line": {
             "colorbar": {
              "outlinewidth": 0,
              "ticks": ""
             }
            },
            "marker": {
             "colorbar": {
              "outlinewidth": 0,
              "ticks": ""
             }
            },
            "type": "scatter3d"
           }
          ],
          "scattercarpet": [
           {
            "marker": {
             "colorbar": {
              "outlinewidth": 0,
              "ticks": ""
             }
            },
            "type": "scattercarpet"
           }
          ],
          "scattergeo": [
           {
            "marker": {
             "colorbar": {
              "outlinewidth": 0,
              "ticks": ""
             }
            },
            "type": "scattergeo"
           }
          ],
          "scattergl": [
           {
            "marker": {
             "colorbar": {
              "outlinewidth": 0,
              "ticks": ""
             }
            },
            "type": "scattergl"
           }
          ],
          "scattermapbox": [
           {
            "marker": {
             "colorbar": {
              "outlinewidth": 0,
              "ticks": ""
             }
            },
            "type": "scattermapbox"
           }
          ],
          "scatterpolar": [
           {
            "marker": {
             "colorbar": {
              "outlinewidth": 0,
              "ticks": ""
             }
            },
            "type": "scatterpolar"
           }
          ],
          "scatterpolargl": [
           {
            "marker": {
             "colorbar": {
              "outlinewidth": 0,
              "ticks": ""
             }
            },
            "type": "scatterpolargl"
           }
          ],
          "scatterternary": [
           {
            "marker": {
             "colorbar": {
              "outlinewidth": 0,
              "ticks": ""
             }
            },
            "type": "scatterternary"
           }
          ],
          "surface": [
           {
            "colorbar": {
             "outlinewidth": 0,
             "ticks": ""
            },
            "colorscale": [
             [
              0,
              "#0d0887"
             ],
             [
              0.1111111111111111,
              "#46039f"
             ],
             [
              0.2222222222222222,
              "#7201a8"
             ],
             [
              0.3333333333333333,
              "#9c179e"
             ],
             [
              0.4444444444444444,
              "#bd3786"
             ],
             [
              0.5555555555555556,
              "#d8576b"
             ],
             [
              0.6666666666666666,
              "#ed7953"
             ],
             [
              0.7777777777777778,
              "#fb9f3a"
             ],
             [
              0.8888888888888888,
              "#fdca26"
             ],
             [
              1,
              "#f0f921"
             ]
            ],
            "type": "surface"
           }
          ],
          "table": [
           {
            "cells": {
             "fill": {
              "color": "#EBF0F8"
             },
             "line": {
              "color": "white"
             }
            },
            "header": {
             "fill": {
              "color": "#C8D4E3"
             },
             "line": {
              "color": "white"
             }
            },
            "type": "table"
           }
          ]
         },
         "layout": {
          "annotationdefaults": {
           "arrowcolor": "#2a3f5f",
           "arrowhead": 0,
           "arrowwidth": 1
          },
          "coloraxis": {
           "colorbar": {
            "outlinewidth": 0,
            "ticks": ""
           }
          },
          "colorscale": {
           "diverging": [
            [
             0,
             "#8e0152"
            ],
            [
             0.1,
             "#c51b7d"
            ],
            [
             0.2,
             "#de77ae"
            ],
            [
             0.3,
             "#f1b6da"
            ],
            [
             0.4,
             "#fde0ef"
            ],
            [
             0.5,
             "#f7f7f7"
            ],
            [
             0.6,
             "#e6f5d0"
            ],
            [
             0.7,
             "#b8e186"
            ],
            [
             0.8,
             "#7fbc41"
            ],
            [
             0.9,
             "#4d9221"
            ],
            [
             1,
             "#276419"
            ]
           ],
           "sequential": [
            [
             0,
             "#0d0887"
            ],
            [
             0.1111111111111111,
             "#46039f"
            ],
            [
             0.2222222222222222,
             "#7201a8"
            ],
            [
             0.3333333333333333,
             "#9c179e"
            ],
            [
             0.4444444444444444,
             "#bd3786"
            ],
            [
             0.5555555555555556,
             "#d8576b"
            ],
            [
             0.6666666666666666,
             "#ed7953"
            ],
            [
             0.7777777777777778,
             "#fb9f3a"
            ],
            [
             0.8888888888888888,
             "#fdca26"
            ],
            [
             1,
             "#f0f921"
            ]
           ],
           "sequentialminus": [
            [
             0,
             "#0d0887"
            ],
            [
             0.1111111111111111,
             "#46039f"
            ],
            [
             0.2222222222222222,
             "#7201a8"
            ],
            [
             0.3333333333333333,
             "#9c179e"
            ],
            [
             0.4444444444444444,
             "#bd3786"
            ],
            [
             0.5555555555555556,
             "#d8576b"
            ],
            [
             0.6666666666666666,
             "#ed7953"
            ],
            [
             0.7777777777777778,
             "#fb9f3a"
            ],
            [
             0.8888888888888888,
             "#fdca26"
            ],
            [
             1,
             "#f0f921"
            ]
           ]
          },
          "colorway": [
           "#636efa",
           "#EF553B",
           "#00cc96",
           "#ab63fa",
           "#FFA15A",
           "#19d3f3",
           "#FF6692",
           "#B6E880",
           "#FF97FF",
           "#FECB52"
          ],
          "font": {
           "color": "#2a3f5f"
          },
          "geo": {
           "bgcolor": "white",
           "lakecolor": "white",
           "landcolor": "#E5ECF6",
           "showlakes": true,
           "showland": true,
           "subunitcolor": "white"
          },
          "hoverlabel": {
           "align": "left"
          },
          "hovermode": "closest",
          "mapbox": {
           "style": "light"
          },
          "paper_bgcolor": "white",
          "plot_bgcolor": "#E5ECF6",
          "polar": {
           "angularaxis": {
            "gridcolor": "white",
            "linecolor": "white",
            "ticks": ""
           },
           "bgcolor": "#E5ECF6",
           "radialaxis": {
            "gridcolor": "white",
            "linecolor": "white",
            "ticks": ""
           }
          },
          "scene": {
           "xaxis": {
            "backgroundcolor": "#E5ECF6",
            "gridcolor": "white",
            "gridwidth": 2,
            "linecolor": "white",
            "showbackground": true,
            "ticks": "",
            "zerolinecolor": "white"
           },
           "yaxis": {
            "backgroundcolor": "#E5ECF6",
            "gridcolor": "white",
            "gridwidth": 2,
            "linecolor": "white",
            "showbackground": true,
            "ticks": "",
            "zerolinecolor": "white"
           },
           "zaxis": {
            "backgroundcolor": "#E5ECF6",
            "gridcolor": "white",
            "gridwidth": 2,
            "linecolor": "white",
            "showbackground": true,
            "ticks": "",
            "zerolinecolor": "white"
           }
          },
          "shapedefaults": {
           "line": {
            "color": "#2a3f5f"
           }
          },
          "ternary": {
           "aaxis": {
            "gridcolor": "white",
            "linecolor": "white",
            "ticks": ""
           },
           "baxis": {
            "gridcolor": "white",
            "linecolor": "white",
            "ticks": ""
           },
           "bgcolor": "#E5ECF6",
           "caxis": {
            "gridcolor": "white",
            "linecolor": "white",
            "ticks": ""
           }
          },
          "title": {
           "x": 0.05
          },
          "xaxis": {
           "automargin": true,
           "gridcolor": "white",
           "linecolor": "white",
           "ticks": "",
           "title": {
            "standoff": 15
           },
           "zerolinecolor": "white",
           "zerolinewidth": 2
          },
          "yaxis": {
           "automargin": true,
           "gridcolor": "white",
           "linecolor": "white",
           "ticks": "",
           "title": {
            "standoff": 15
           },
           "zerolinecolor": "white",
           "zerolinewidth": 2
          }
         }
        },
        "title": {
         "text": "Parallel Coordinate Plot"
        }
       }
      },
      "text/html": [
       "<div>\n",
       "        \n",
       "        \n",
       "            <div id=\"404b01ee-220e-478d-aaa5-4e46bce1b637\" class=\"plotly-graph-div\" style=\"height:525px; width:100%;\"></div>\n",
       "            <script type=\"text/javascript\">\n",
       "                require([\"plotly\"], function(Plotly) {\n",
       "                    window.PLOTLYENV=window.PLOTLYENV || {};\n",
       "                    \n",
       "                if (document.getElementById(\"404b01ee-220e-478d-aaa5-4e46bce1b637\")) {\n",
       "                    Plotly.newPlot(\n",
       "                        '404b01ee-220e-478d-aaa5-4e46bce1b637',\n",
       "                        [{\"dimensions\": [{\"label\": \"Objective Value\", \"range\": [0.38677810286636144, 0.6362312405804895], \"values\": [0.38677810286636144, 0.586021446412272, 0.5832943875637697, 0.44776291047838734, 0.40167600952387694, 0.3968872055629064, 0.5898782937330624, 0.6240609455596516, 0.5978586533903162, 0.4792181275605148, 0.5394025200065097, 0.5974595403278873, 0.606437594195105, 0.6114252913414797, 0.6362312405804895, 0.6018488111074161, 0.5806347025380496, 0.5942013847122671, 0.6059718812133391, 0.6163464327915713]}, {\"label\": \"criterion\", \"range\": [0, 1], \"ticktext\": [\"entropy\", \"gini\"], \"tickvals\": [0, 1], \"values\": [0, 0, 1, 0, 1, 0, 1, 0, 0, 1, 0, 0, 0, 0, 0, 0, 0, 0, 1, 0]}, {\"label\": \"max_depth\", \"range\": [12, 478], \"values\": [183, 429, 135, 325, 238, 256, 383, 279, 234, 68, 478, 309, 156, 28, 18, 94, 12, 331, 384, 263]}, {\"label\": \"n_estimators\", \"range\": [100, 1000], \"values\": [200, 100, 700, 800, 300, 700, 200, 400, 100, 200, 1000, 400, 500, 500, 500, 600, 400, 400, 900, 600]}], \"labelangle\": 30, \"labelside\": \"bottom\", \"line\": {\"color\": [0.38677810286636144, 0.586021446412272, 0.5832943875637697, 0.44776291047838734, 0.40167600952387694, 0.3968872055629064, 0.5898782937330624, 0.6240609455596516, 0.5978586533903162, 0.4792181275605148, 0.5394025200065097, 0.5974595403278873, 0.606437594195105, 0.6114252913414797, 0.6362312405804895, 0.6018488111074161, 0.5806347025380496, 0.5942013847122671, 0.6059718812133391, 0.6163464327915713], \"colorbar\": {\"title\": {\"text\": \"Objective Value\"}}, \"colorscale\": [[0.0, \"rgb(247,251,255)\"], [0.125, \"rgb(222,235,247)\"], [0.25, \"rgb(198,219,239)\"], [0.375, \"rgb(158,202,225)\"], [0.5, \"rgb(107,174,214)\"], [0.625, \"rgb(66,146,198)\"], [0.75, \"rgb(33,113,181)\"], [0.875, \"rgb(8,81,156)\"], [1.0, \"rgb(8,48,107)\"]], \"reversescale\": false, \"showscale\": true}, \"type\": \"parcoords\"}],\n",
       "                        {\"template\": {\"data\": {\"bar\": [{\"error_x\": {\"color\": \"#2a3f5f\"}, \"error_y\": {\"color\": \"#2a3f5f\"}, \"marker\": {\"line\": {\"color\": \"#E5ECF6\", \"width\": 0.5}}, \"type\": \"bar\"}], \"barpolar\": [{\"marker\": {\"line\": {\"color\": \"#E5ECF6\", \"width\": 0.5}}, \"type\": \"barpolar\"}], \"carpet\": [{\"aaxis\": {\"endlinecolor\": \"#2a3f5f\", \"gridcolor\": \"white\", \"linecolor\": \"white\", \"minorgridcolor\": \"white\", \"startlinecolor\": \"#2a3f5f\"}, \"baxis\": {\"endlinecolor\": \"#2a3f5f\", \"gridcolor\": \"white\", \"linecolor\": \"white\", \"minorgridcolor\": \"white\", \"startlinecolor\": \"#2a3f5f\"}, \"type\": \"carpet\"}], \"choropleth\": [{\"colorbar\": {\"outlinewidth\": 0, \"ticks\": \"\"}, \"type\": \"choropleth\"}], \"contour\": [{\"colorbar\": {\"outlinewidth\": 0, \"ticks\": \"\"}, \"colorscale\": [[0.0, \"#0d0887\"], [0.1111111111111111, \"#46039f\"], [0.2222222222222222, \"#7201a8\"], [0.3333333333333333, \"#9c179e\"], [0.4444444444444444, \"#bd3786\"], [0.5555555555555556, \"#d8576b\"], [0.6666666666666666, \"#ed7953\"], [0.7777777777777778, \"#fb9f3a\"], [0.8888888888888888, \"#fdca26\"], [1.0, \"#f0f921\"]], \"type\": \"contour\"}], \"contourcarpet\": [{\"colorbar\": {\"outlinewidth\": 0, \"ticks\": \"\"}, \"type\": \"contourcarpet\"}], \"heatmap\": [{\"colorbar\": {\"outlinewidth\": 0, \"ticks\": \"\"}, \"colorscale\": [[0.0, \"#0d0887\"], [0.1111111111111111, \"#46039f\"], [0.2222222222222222, \"#7201a8\"], [0.3333333333333333, \"#9c179e\"], [0.4444444444444444, \"#bd3786\"], [0.5555555555555556, \"#d8576b\"], [0.6666666666666666, \"#ed7953\"], [0.7777777777777778, \"#fb9f3a\"], [0.8888888888888888, \"#fdca26\"], [1.0, \"#f0f921\"]], \"type\": \"heatmap\"}], \"heatmapgl\": [{\"colorbar\": {\"outlinewidth\": 0, \"ticks\": \"\"}, \"colorscale\": [[0.0, \"#0d0887\"], [0.1111111111111111, \"#46039f\"], [0.2222222222222222, \"#7201a8\"], [0.3333333333333333, \"#9c179e\"], [0.4444444444444444, \"#bd3786\"], [0.5555555555555556, \"#d8576b\"], [0.6666666666666666, \"#ed7953\"], [0.7777777777777778, \"#fb9f3a\"], [0.8888888888888888, \"#fdca26\"], [1.0, \"#f0f921\"]], \"type\": \"heatmapgl\"}], \"histogram\": [{\"marker\": {\"colorbar\": {\"outlinewidth\": 0, \"ticks\": \"\"}}, \"type\": \"histogram\"}], \"histogram2d\": [{\"colorbar\": {\"outlinewidth\": 0, \"ticks\": \"\"}, \"colorscale\": [[0.0, \"#0d0887\"], [0.1111111111111111, \"#46039f\"], [0.2222222222222222, \"#7201a8\"], [0.3333333333333333, \"#9c179e\"], [0.4444444444444444, \"#bd3786\"], [0.5555555555555556, \"#d8576b\"], [0.6666666666666666, \"#ed7953\"], [0.7777777777777778, \"#fb9f3a\"], [0.8888888888888888, \"#fdca26\"], [1.0, \"#f0f921\"]], \"type\": \"histogram2d\"}], \"histogram2dcontour\": [{\"colorbar\": {\"outlinewidth\": 0, \"ticks\": \"\"}, \"colorscale\": [[0.0, \"#0d0887\"], [0.1111111111111111, \"#46039f\"], [0.2222222222222222, \"#7201a8\"], [0.3333333333333333, \"#9c179e\"], [0.4444444444444444, \"#bd3786\"], [0.5555555555555556, \"#d8576b\"], [0.6666666666666666, \"#ed7953\"], [0.7777777777777778, \"#fb9f3a\"], [0.8888888888888888, \"#fdca26\"], [1.0, \"#f0f921\"]], \"type\": \"histogram2dcontour\"}], \"mesh3d\": [{\"colorbar\": {\"outlinewidth\": 0, \"ticks\": \"\"}, \"type\": \"mesh3d\"}], \"parcoords\": [{\"line\": {\"colorbar\": {\"outlinewidth\": 0, \"ticks\": \"\"}}, \"type\": \"parcoords\"}], \"pie\": [{\"automargin\": true, \"type\": \"pie\"}], \"scatter\": [{\"marker\": {\"colorbar\": {\"outlinewidth\": 0, \"ticks\": \"\"}}, \"type\": \"scatter\"}], \"scatter3d\": [{\"line\": {\"colorbar\": {\"outlinewidth\": 0, \"ticks\": \"\"}}, \"marker\": {\"colorbar\": {\"outlinewidth\": 0, \"ticks\": \"\"}}, \"type\": \"scatter3d\"}], \"scattercarpet\": [{\"marker\": {\"colorbar\": {\"outlinewidth\": 0, \"ticks\": \"\"}}, \"type\": \"scattercarpet\"}], \"scattergeo\": [{\"marker\": {\"colorbar\": {\"outlinewidth\": 0, \"ticks\": \"\"}}, \"type\": \"scattergeo\"}], \"scattergl\": [{\"marker\": {\"colorbar\": {\"outlinewidth\": 0, \"ticks\": \"\"}}, \"type\": \"scattergl\"}], \"scattermapbox\": [{\"marker\": {\"colorbar\": {\"outlinewidth\": 0, \"ticks\": \"\"}}, \"type\": \"scattermapbox\"}], \"scatterpolar\": [{\"marker\": {\"colorbar\": {\"outlinewidth\": 0, \"ticks\": \"\"}}, \"type\": \"scatterpolar\"}], \"scatterpolargl\": [{\"marker\": {\"colorbar\": {\"outlinewidth\": 0, \"ticks\": \"\"}}, \"type\": \"scatterpolargl\"}], \"scatterternary\": [{\"marker\": {\"colorbar\": {\"outlinewidth\": 0, \"ticks\": \"\"}}, \"type\": \"scatterternary\"}], \"surface\": [{\"colorbar\": {\"outlinewidth\": 0, \"ticks\": \"\"}, \"colorscale\": [[0.0, \"#0d0887\"], [0.1111111111111111, \"#46039f\"], [0.2222222222222222, \"#7201a8\"], [0.3333333333333333, \"#9c179e\"], [0.4444444444444444, \"#bd3786\"], [0.5555555555555556, \"#d8576b\"], [0.6666666666666666, \"#ed7953\"], [0.7777777777777778, \"#fb9f3a\"], [0.8888888888888888, \"#fdca26\"], [1.0, \"#f0f921\"]], \"type\": \"surface\"}], \"table\": [{\"cells\": {\"fill\": {\"color\": \"#EBF0F8\"}, \"line\": {\"color\": \"white\"}}, \"header\": {\"fill\": {\"color\": \"#C8D4E3\"}, \"line\": {\"color\": \"white\"}}, \"type\": \"table\"}]}, \"layout\": {\"annotationdefaults\": {\"arrowcolor\": \"#2a3f5f\", \"arrowhead\": 0, \"arrowwidth\": 1}, \"coloraxis\": {\"colorbar\": {\"outlinewidth\": 0, \"ticks\": \"\"}}, \"colorscale\": {\"diverging\": [[0, \"#8e0152\"], [0.1, \"#c51b7d\"], [0.2, \"#de77ae\"], [0.3, \"#f1b6da\"], [0.4, \"#fde0ef\"], [0.5, \"#f7f7f7\"], [0.6, \"#e6f5d0\"], [0.7, \"#b8e186\"], [0.8, \"#7fbc41\"], [0.9, \"#4d9221\"], [1, \"#276419\"]], \"sequential\": [[0.0, \"#0d0887\"], [0.1111111111111111, \"#46039f\"], [0.2222222222222222, \"#7201a8\"], [0.3333333333333333, \"#9c179e\"], [0.4444444444444444, \"#bd3786\"], [0.5555555555555556, \"#d8576b\"], [0.6666666666666666, \"#ed7953\"], [0.7777777777777778, \"#fb9f3a\"], [0.8888888888888888, \"#fdca26\"], [1.0, \"#f0f921\"]], \"sequentialminus\": [[0.0, \"#0d0887\"], [0.1111111111111111, \"#46039f\"], [0.2222222222222222, \"#7201a8\"], [0.3333333333333333, \"#9c179e\"], [0.4444444444444444, \"#bd3786\"], [0.5555555555555556, \"#d8576b\"], [0.6666666666666666, \"#ed7953\"], [0.7777777777777778, \"#fb9f3a\"], [0.8888888888888888, \"#fdca26\"], [1.0, \"#f0f921\"]]}, \"colorway\": [\"#636efa\", \"#EF553B\", \"#00cc96\", \"#ab63fa\", \"#FFA15A\", \"#19d3f3\", \"#FF6692\", \"#B6E880\", \"#FF97FF\", \"#FECB52\"], \"font\": {\"color\": \"#2a3f5f\"}, \"geo\": {\"bgcolor\": \"white\", \"lakecolor\": \"white\", \"landcolor\": \"#E5ECF6\", \"showlakes\": true, \"showland\": true, \"subunitcolor\": \"white\"}, \"hoverlabel\": {\"align\": \"left\"}, \"hovermode\": \"closest\", \"mapbox\": {\"style\": \"light\"}, \"paper_bgcolor\": \"white\", \"plot_bgcolor\": \"#E5ECF6\", \"polar\": {\"angularaxis\": {\"gridcolor\": \"white\", \"linecolor\": \"white\", \"ticks\": \"\"}, \"bgcolor\": \"#E5ECF6\", \"radialaxis\": {\"gridcolor\": \"white\", \"linecolor\": \"white\", \"ticks\": \"\"}}, \"scene\": {\"xaxis\": {\"backgroundcolor\": \"#E5ECF6\", \"gridcolor\": \"white\", \"gridwidth\": 2, \"linecolor\": \"white\", \"showbackground\": true, \"ticks\": \"\", \"zerolinecolor\": \"white\"}, \"yaxis\": {\"backgroundcolor\": \"#E5ECF6\", \"gridcolor\": \"white\", \"gridwidth\": 2, \"linecolor\": \"white\", \"showbackground\": true, \"ticks\": \"\", \"zerolinecolor\": \"white\"}, \"zaxis\": {\"backgroundcolor\": \"#E5ECF6\", \"gridcolor\": \"white\", \"gridwidth\": 2, \"linecolor\": \"white\", \"showbackground\": true, \"ticks\": \"\", \"zerolinecolor\": \"white\"}}, \"shapedefaults\": {\"line\": {\"color\": \"#2a3f5f\"}}, \"ternary\": {\"aaxis\": {\"gridcolor\": \"white\", \"linecolor\": \"white\", \"ticks\": \"\"}, \"baxis\": {\"gridcolor\": \"white\", \"linecolor\": \"white\", \"ticks\": \"\"}, \"bgcolor\": \"#E5ECF6\", \"caxis\": {\"gridcolor\": \"white\", \"linecolor\": \"white\", \"ticks\": \"\"}}, \"title\": {\"x\": 0.05}, \"xaxis\": {\"automargin\": true, \"gridcolor\": \"white\", \"linecolor\": \"white\", \"ticks\": \"\", \"title\": {\"standoff\": 15}, \"zerolinecolor\": \"white\", \"zerolinewidth\": 2}, \"yaxis\": {\"automargin\": true, \"gridcolor\": \"white\", \"linecolor\": \"white\", \"ticks\": \"\", \"title\": {\"standoff\": 15}, \"zerolinecolor\": \"white\", \"zerolinewidth\": 2}}}, \"title\": {\"text\": \"Parallel Coordinate Plot\"}},\n",
       "                        {\"responsive\": true}\n",
       "                    ).then(function(){\n",
       "                            \n",
       "var gd = document.getElementById('404b01ee-220e-478d-aaa5-4e46bce1b637');\n",
       "var x = new MutationObserver(function (mutations, observer) {{\n",
       "        var display = window.getComputedStyle(gd).display;\n",
       "        if (!display || display === 'none') {{\n",
       "            console.log([gd, 'removed!']);\n",
       "            Plotly.purge(gd);\n",
       "            observer.disconnect();\n",
       "        }}\n",
       "}});\n",
       "\n",
       "// Listen for the removal of the full notebook cells\n",
       "var notebookContainer = gd.closest('#notebook-container');\n",
       "if (notebookContainer) {{\n",
       "    x.observe(notebookContainer, {childList: true});\n",
       "}}\n",
       "\n",
       "// Listen for the clearing of the current output cell\n",
       "var outputEl = gd.closest('.output');\n",
       "if (outputEl) {{\n",
       "    x.observe(outputEl, {childList: true});\n",
       "}}\n",
       "\n",
       "                        })\n",
       "                };\n",
       "                });\n",
       "            </script>\n",
       "        </div>"
      ]
     },
     "metadata": {},
     "output_type": "display_data"
    }
   ],
   "source": [
    "# Plot the high-dimentional parameter relationships in a study.\n",
    "\n",
    "optuna.visualization.plot_parallel_coordinate(study, params=['criterion', 'max_depth','n_estimators'])\n"
   ]
  },
  {
   "cell_type": "code",
   "execution_count": 247,
   "metadata": {
    "ExecuteTime": {
     "end_time": "2022-02-26T19:17:40.709084Z",
     "start_time": "2022-02-26T19:17:26.873729Z"
    }
   },
   "outputs": [
    {
     "data": {
      "application/vnd.plotly.v1+json": {
       "config": {
        "plotlyServerURL": "https://plot.ly"
       },
       "data": [
        {
         "cliponaxis": false,
         "hovertemplate": [
          "criterion (CategoricalDistribution): 0.002680585215262411<extra></extra>",
          "max_depth (IntUniformDistribution): 0.002794886731331004<extra></extra>",
          "min_samples_split (IntUniformDistribution): 0.0038433505459378983<extra></extra>",
          "n_estimators (IntUniformDistribution): 0.017469999973824157<extra></extra>",
          "max_samples (CategoricalDistribution): 0.028837204923441037<extra></extra>",
          "min_samples_leaf (IntUniformDistribution): 0.032441280232768654<extra></extra>",
          "class_weight (CategoricalDistribution): 0.911932692377435<extra></extra>"
         ],
         "marker": {
          "color": "rgb(66,146,198)"
         },
         "orientation": "h",
         "text": [
          "0.002680585215262411",
          "0.002794886731331004",
          "0.0038433505459378983",
          "0.017469999973824157",
          "0.028837204923441037",
          "0.032441280232768654",
          "0.911932692377435"
         ],
         "textposition": "outside",
         "texttemplate": "%{text:.2f}",
         "type": "bar",
         "x": [
          0.002680585215262411,
          0.002794886731331004,
          0.0038433505459378983,
          0.017469999973824157,
          0.028837204923441037,
          0.032441280232768654,
          0.911932692377435
         ],
         "y": [
          "criterion",
          "max_depth",
          "min_samples_split",
          "n_estimators",
          "max_samples",
          "min_samples_leaf",
          "class_weight"
         ]
        }
       ],
       "layout": {
        "showlegend": false,
        "template": {
         "data": {
          "bar": [
           {
            "error_x": {
             "color": "#2a3f5f"
            },
            "error_y": {
             "color": "#2a3f5f"
            },
            "marker": {
             "line": {
              "color": "#E5ECF6",
              "width": 0.5
             }
            },
            "type": "bar"
           }
          ],
          "barpolar": [
           {
            "marker": {
             "line": {
              "color": "#E5ECF6",
              "width": 0.5
             }
            },
            "type": "barpolar"
           }
          ],
          "carpet": [
           {
            "aaxis": {
             "endlinecolor": "#2a3f5f",
             "gridcolor": "white",
             "linecolor": "white",
             "minorgridcolor": "white",
             "startlinecolor": "#2a3f5f"
            },
            "baxis": {
             "endlinecolor": "#2a3f5f",
             "gridcolor": "white",
             "linecolor": "white",
             "minorgridcolor": "white",
             "startlinecolor": "#2a3f5f"
            },
            "type": "carpet"
           }
          ],
          "choropleth": [
           {
            "colorbar": {
             "outlinewidth": 0,
             "ticks": ""
            },
            "type": "choropleth"
           }
          ],
          "contour": [
           {
            "colorbar": {
             "outlinewidth": 0,
             "ticks": ""
            },
            "colorscale": [
             [
              0,
              "#0d0887"
             ],
             [
              0.1111111111111111,
              "#46039f"
             ],
             [
              0.2222222222222222,
              "#7201a8"
             ],
             [
              0.3333333333333333,
              "#9c179e"
             ],
             [
              0.4444444444444444,
              "#bd3786"
             ],
             [
              0.5555555555555556,
              "#d8576b"
             ],
             [
              0.6666666666666666,
              "#ed7953"
             ],
             [
              0.7777777777777778,
              "#fb9f3a"
             ],
             [
              0.8888888888888888,
              "#fdca26"
             ],
             [
              1,
              "#f0f921"
             ]
            ],
            "type": "contour"
           }
          ],
          "contourcarpet": [
           {
            "colorbar": {
             "outlinewidth": 0,
             "ticks": ""
            },
            "type": "contourcarpet"
           }
          ],
          "heatmap": [
           {
            "colorbar": {
             "outlinewidth": 0,
             "ticks": ""
            },
            "colorscale": [
             [
              0,
              "#0d0887"
             ],
             [
              0.1111111111111111,
              "#46039f"
             ],
             [
              0.2222222222222222,
              "#7201a8"
             ],
             [
              0.3333333333333333,
              "#9c179e"
             ],
             [
              0.4444444444444444,
              "#bd3786"
             ],
             [
              0.5555555555555556,
              "#d8576b"
             ],
             [
              0.6666666666666666,
              "#ed7953"
             ],
             [
              0.7777777777777778,
              "#fb9f3a"
             ],
             [
              0.8888888888888888,
              "#fdca26"
             ],
             [
              1,
              "#f0f921"
             ]
            ],
            "type": "heatmap"
           }
          ],
          "heatmapgl": [
           {
            "colorbar": {
             "outlinewidth": 0,
             "ticks": ""
            },
            "colorscale": [
             [
              0,
              "#0d0887"
             ],
             [
              0.1111111111111111,
              "#46039f"
             ],
             [
              0.2222222222222222,
              "#7201a8"
             ],
             [
              0.3333333333333333,
              "#9c179e"
             ],
             [
              0.4444444444444444,
              "#bd3786"
             ],
             [
              0.5555555555555556,
              "#d8576b"
             ],
             [
              0.6666666666666666,
              "#ed7953"
             ],
             [
              0.7777777777777778,
              "#fb9f3a"
             ],
             [
              0.8888888888888888,
              "#fdca26"
             ],
             [
              1,
              "#f0f921"
             ]
            ],
            "type": "heatmapgl"
           }
          ],
          "histogram": [
           {
            "marker": {
             "colorbar": {
              "outlinewidth": 0,
              "ticks": ""
             }
            },
            "type": "histogram"
           }
          ],
          "histogram2d": [
           {
            "colorbar": {
             "outlinewidth": 0,
             "ticks": ""
            },
            "colorscale": [
             [
              0,
              "#0d0887"
             ],
             [
              0.1111111111111111,
              "#46039f"
             ],
             [
              0.2222222222222222,
              "#7201a8"
             ],
             [
              0.3333333333333333,
              "#9c179e"
             ],
             [
              0.4444444444444444,
              "#bd3786"
             ],
             [
              0.5555555555555556,
              "#d8576b"
             ],
             [
              0.6666666666666666,
              "#ed7953"
             ],
             [
              0.7777777777777778,
              "#fb9f3a"
             ],
             [
              0.8888888888888888,
              "#fdca26"
             ],
             [
              1,
              "#f0f921"
             ]
            ],
            "type": "histogram2d"
           }
          ],
          "histogram2dcontour": [
           {
            "colorbar": {
             "outlinewidth": 0,
             "ticks": ""
            },
            "colorscale": [
             [
              0,
              "#0d0887"
             ],
             [
              0.1111111111111111,
              "#46039f"
             ],
             [
              0.2222222222222222,
              "#7201a8"
             ],
             [
              0.3333333333333333,
              "#9c179e"
             ],
             [
              0.4444444444444444,
              "#bd3786"
             ],
             [
              0.5555555555555556,
              "#d8576b"
             ],
             [
              0.6666666666666666,
              "#ed7953"
             ],
             [
              0.7777777777777778,
              "#fb9f3a"
             ],
             [
              0.8888888888888888,
              "#fdca26"
             ],
             [
              1,
              "#f0f921"
             ]
            ],
            "type": "histogram2dcontour"
           }
          ],
          "mesh3d": [
           {
            "colorbar": {
             "outlinewidth": 0,
             "ticks": ""
            },
            "type": "mesh3d"
           }
          ],
          "parcoords": [
           {
            "line": {
             "colorbar": {
              "outlinewidth": 0,
              "ticks": ""
             }
            },
            "type": "parcoords"
           }
          ],
          "pie": [
           {
            "automargin": true,
            "type": "pie"
           }
          ],
          "scatter": [
           {
            "marker": {
             "colorbar": {
              "outlinewidth": 0,
              "ticks": ""
             }
            },
            "type": "scatter"
           }
          ],
          "scatter3d": [
           {
            "line": {
             "colorbar": {
              "outlinewidth": 0,
              "ticks": ""
             }
            },
            "marker": {
             "colorbar": {
              "outlinewidth": 0,
              "ticks": ""
             }
            },
            "type": "scatter3d"
           }
          ],
          "scattercarpet": [
           {
            "marker": {
             "colorbar": {
              "outlinewidth": 0,
              "ticks": ""
             }
            },
            "type": "scattercarpet"
           }
          ],
          "scattergeo": [
           {
            "marker": {
             "colorbar": {
              "outlinewidth": 0,
              "ticks": ""
             }
            },
            "type": "scattergeo"
           }
          ],
          "scattergl": [
           {
            "marker": {
             "colorbar": {
              "outlinewidth": 0,
              "ticks": ""
             }
            },
            "type": "scattergl"
           }
          ],
          "scattermapbox": [
           {
            "marker": {
             "colorbar": {
              "outlinewidth": 0,
              "ticks": ""
             }
            },
            "type": "scattermapbox"
           }
          ],
          "scatterpolar": [
           {
            "marker": {
             "colorbar": {
              "outlinewidth": 0,
              "ticks": ""
             }
            },
            "type": "scatterpolar"
           }
          ],
          "scatterpolargl": [
           {
            "marker": {
             "colorbar": {
              "outlinewidth": 0,
              "ticks": ""
             }
            },
            "type": "scatterpolargl"
           }
          ],
          "scatterternary": [
           {
            "marker": {
             "colorbar": {
              "outlinewidth": 0,
              "ticks": ""
             }
            },
            "type": "scatterternary"
           }
          ],
          "surface": [
           {
            "colorbar": {
             "outlinewidth": 0,
             "ticks": ""
            },
            "colorscale": [
             [
              0,
              "#0d0887"
             ],
             [
              0.1111111111111111,
              "#46039f"
             ],
             [
              0.2222222222222222,
              "#7201a8"
             ],
             [
              0.3333333333333333,
              "#9c179e"
             ],
             [
              0.4444444444444444,
              "#bd3786"
             ],
             [
              0.5555555555555556,
              "#d8576b"
             ],
             [
              0.6666666666666666,
              "#ed7953"
             ],
             [
              0.7777777777777778,
              "#fb9f3a"
             ],
             [
              0.8888888888888888,
              "#fdca26"
             ],
             [
              1,
              "#f0f921"
             ]
            ],
            "type": "surface"
           }
          ],
          "table": [
           {
            "cells": {
             "fill": {
              "color": "#EBF0F8"
             },
             "line": {
              "color": "white"
             }
            },
            "header": {
             "fill": {
              "color": "#C8D4E3"
             },
             "line": {
              "color": "white"
             }
            },
            "type": "table"
           }
          ]
         },
         "layout": {
          "annotationdefaults": {
           "arrowcolor": "#2a3f5f",
           "arrowhead": 0,
           "arrowwidth": 1
          },
          "coloraxis": {
           "colorbar": {
            "outlinewidth": 0,
            "ticks": ""
           }
          },
          "colorscale": {
           "diverging": [
            [
             0,
             "#8e0152"
            ],
            [
             0.1,
             "#c51b7d"
            ],
            [
             0.2,
             "#de77ae"
            ],
            [
             0.3,
             "#f1b6da"
            ],
            [
             0.4,
             "#fde0ef"
            ],
            [
             0.5,
             "#f7f7f7"
            ],
            [
             0.6,
             "#e6f5d0"
            ],
            [
             0.7,
             "#b8e186"
            ],
            [
             0.8,
             "#7fbc41"
            ],
            [
             0.9,
             "#4d9221"
            ],
            [
             1,
             "#276419"
            ]
           ],
           "sequential": [
            [
             0,
             "#0d0887"
            ],
            [
             0.1111111111111111,
             "#46039f"
            ],
            [
             0.2222222222222222,
             "#7201a8"
            ],
            [
             0.3333333333333333,
             "#9c179e"
            ],
            [
             0.4444444444444444,
             "#bd3786"
            ],
            [
             0.5555555555555556,
             "#d8576b"
            ],
            [
             0.6666666666666666,
             "#ed7953"
            ],
            [
             0.7777777777777778,
             "#fb9f3a"
            ],
            [
             0.8888888888888888,
             "#fdca26"
            ],
            [
             1,
             "#f0f921"
            ]
           ],
           "sequentialminus": [
            [
             0,
             "#0d0887"
            ],
            [
             0.1111111111111111,
             "#46039f"
            ],
            [
             0.2222222222222222,
             "#7201a8"
            ],
            [
             0.3333333333333333,
             "#9c179e"
            ],
            [
             0.4444444444444444,
             "#bd3786"
            ],
            [
             0.5555555555555556,
             "#d8576b"
            ],
            [
             0.6666666666666666,
             "#ed7953"
            ],
            [
             0.7777777777777778,
             "#fb9f3a"
            ],
            [
             0.8888888888888888,
             "#fdca26"
            ],
            [
             1,
             "#f0f921"
            ]
           ]
          },
          "colorway": [
           "#636efa",
           "#EF553B",
           "#00cc96",
           "#ab63fa",
           "#FFA15A",
           "#19d3f3",
           "#FF6692",
           "#B6E880",
           "#FF97FF",
           "#FECB52"
          ],
          "font": {
           "color": "#2a3f5f"
          },
          "geo": {
           "bgcolor": "white",
           "lakecolor": "white",
           "landcolor": "#E5ECF6",
           "showlakes": true,
           "showland": true,
           "subunitcolor": "white"
          },
          "hoverlabel": {
           "align": "left"
          },
          "hovermode": "closest",
          "mapbox": {
           "style": "light"
          },
          "paper_bgcolor": "white",
          "plot_bgcolor": "#E5ECF6",
          "polar": {
           "angularaxis": {
            "gridcolor": "white",
            "linecolor": "white",
            "ticks": ""
           },
           "bgcolor": "#E5ECF6",
           "radialaxis": {
            "gridcolor": "white",
            "linecolor": "white",
            "ticks": ""
           }
          },
          "scene": {
           "xaxis": {
            "backgroundcolor": "#E5ECF6",
            "gridcolor": "white",
            "gridwidth": 2,
            "linecolor": "white",
            "showbackground": true,
            "ticks": "",
            "zerolinecolor": "white"
           },
           "yaxis": {
            "backgroundcolor": "#E5ECF6",
            "gridcolor": "white",
            "gridwidth": 2,
            "linecolor": "white",
            "showbackground": true,
            "ticks": "",
            "zerolinecolor": "white"
           },
           "zaxis": {
            "backgroundcolor": "#E5ECF6",
            "gridcolor": "white",
            "gridwidth": 2,
            "linecolor": "white",
            "showbackground": true,
            "ticks": "",
            "zerolinecolor": "white"
           }
          },
          "shapedefaults": {
           "line": {
            "color": "#2a3f5f"
           }
          },
          "ternary": {
           "aaxis": {
            "gridcolor": "white",
            "linecolor": "white",
            "ticks": ""
           },
           "baxis": {
            "gridcolor": "white",
            "linecolor": "white",
            "ticks": ""
           },
           "bgcolor": "#E5ECF6",
           "caxis": {
            "gridcolor": "white",
            "linecolor": "white",
            "ticks": ""
           }
          },
          "title": {
           "x": 0.05
          },
          "xaxis": {
           "automargin": true,
           "gridcolor": "white",
           "linecolor": "white",
           "ticks": "",
           "title": {
            "standoff": 15
           },
           "zerolinecolor": "white",
           "zerolinewidth": 2
          },
          "yaxis": {
           "automargin": true,
           "gridcolor": "white",
           "linecolor": "white",
           "ticks": "",
           "title": {
            "standoff": 15
           },
           "zerolinecolor": "white",
           "zerolinewidth": 2
          }
         }
        },
        "title": {
         "text": "Hyperparameter Importances"
        },
        "xaxis": {
         "title": {
          "text": "Importance for Objective Value"
         }
        },
        "yaxis": {
         "title": {
          "text": "Hyperparameter"
         }
        }
       }
      },
      "text/html": [
       "<div>\n",
       "        \n",
       "        \n",
       "            <div id=\"d806665e-1185-4807-b14a-0676a5442e95\" class=\"plotly-graph-div\" style=\"height:525px; width:100%;\"></div>\n",
       "            <script type=\"text/javascript\">\n",
       "                require([\"plotly\"], function(Plotly) {\n",
       "                    window.PLOTLYENV=window.PLOTLYENV || {};\n",
       "                    \n",
       "                if (document.getElementById(\"d806665e-1185-4807-b14a-0676a5442e95\")) {\n",
       "                    Plotly.newPlot(\n",
       "                        'd806665e-1185-4807-b14a-0676a5442e95',\n",
       "                        [{\"cliponaxis\": false, \"hovertemplate\": [\"criterion (CategoricalDistribution): 0.002680585215262411<extra></extra>\", \"max_depth (IntUniformDistribution): 0.002794886731331004<extra></extra>\", \"min_samples_split (IntUniformDistribution): 0.0038433505459378983<extra></extra>\", \"n_estimators (IntUniformDistribution): 0.017469999973824157<extra></extra>\", \"max_samples (CategoricalDistribution): 0.028837204923441037<extra></extra>\", \"min_samples_leaf (IntUniformDistribution): 0.032441280232768654<extra></extra>\", \"class_weight (CategoricalDistribution): 0.911932692377435<extra></extra>\"], \"marker\": {\"color\": \"rgb(66,146,198)\"}, \"orientation\": \"h\", \"text\": [\"0.002680585215262411\", \"0.002794886731331004\", \"0.0038433505459378983\", \"0.017469999973824157\", \"0.028837204923441037\", \"0.032441280232768654\", \"0.911932692377435\"], \"textposition\": \"outside\", \"texttemplate\": \"%{text:.2f}\", \"type\": \"bar\", \"x\": [0.002680585215262411, 0.002794886731331004, 0.0038433505459378983, 0.017469999973824157, 0.028837204923441037, 0.032441280232768654, 0.911932692377435], \"y\": [\"criterion\", \"max_depth\", \"min_samples_split\", \"n_estimators\", \"max_samples\", \"min_samples_leaf\", \"class_weight\"]}],\n",
       "                        {\"showlegend\": false, \"template\": {\"data\": {\"bar\": [{\"error_x\": {\"color\": \"#2a3f5f\"}, \"error_y\": {\"color\": \"#2a3f5f\"}, \"marker\": {\"line\": {\"color\": \"#E5ECF6\", \"width\": 0.5}}, \"type\": \"bar\"}], \"barpolar\": [{\"marker\": {\"line\": {\"color\": \"#E5ECF6\", \"width\": 0.5}}, \"type\": \"barpolar\"}], \"carpet\": [{\"aaxis\": {\"endlinecolor\": \"#2a3f5f\", \"gridcolor\": \"white\", \"linecolor\": \"white\", \"minorgridcolor\": \"white\", \"startlinecolor\": \"#2a3f5f\"}, \"baxis\": {\"endlinecolor\": \"#2a3f5f\", \"gridcolor\": \"white\", \"linecolor\": \"white\", \"minorgridcolor\": \"white\", \"startlinecolor\": \"#2a3f5f\"}, \"type\": \"carpet\"}], \"choropleth\": [{\"colorbar\": {\"outlinewidth\": 0, \"ticks\": \"\"}, \"type\": \"choropleth\"}], \"contour\": [{\"colorbar\": {\"outlinewidth\": 0, \"ticks\": \"\"}, \"colorscale\": [[0.0, \"#0d0887\"], [0.1111111111111111, \"#46039f\"], [0.2222222222222222, \"#7201a8\"], [0.3333333333333333, \"#9c179e\"], [0.4444444444444444, \"#bd3786\"], [0.5555555555555556, \"#d8576b\"], [0.6666666666666666, \"#ed7953\"], [0.7777777777777778, \"#fb9f3a\"], [0.8888888888888888, \"#fdca26\"], [1.0, \"#f0f921\"]], \"type\": \"contour\"}], \"contourcarpet\": [{\"colorbar\": {\"outlinewidth\": 0, \"ticks\": \"\"}, \"type\": \"contourcarpet\"}], \"heatmap\": [{\"colorbar\": {\"outlinewidth\": 0, \"ticks\": \"\"}, \"colorscale\": [[0.0, \"#0d0887\"], [0.1111111111111111, \"#46039f\"], [0.2222222222222222, \"#7201a8\"], [0.3333333333333333, \"#9c179e\"], [0.4444444444444444, \"#bd3786\"], [0.5555555555555556, \"#d8576b\"], [0.6666666666666666, \"#ed7953\"], [0.7777777777777778, \"#fb9f3a\"], [0.8888888888888888, \"#fdca26\"], [1.0, \"#f0f921\"]], \"type\": \"heatmap\"}], \"heatmapgl\": [{\"colorbar\": {\"outlinewidth\": 0, \"ticks\": \"\"}, \"colorscale\": [[0.0, \"#0d0887\"], [0.1111111111111111, \"#46039f\"], [0.2222222222222222, \"#7201a8\"], [0.3333333333333333, \"#9c179e\"], [0.4444444444444444, \"#bd3786\"], [0.5555555555555556, \"#d8576b\"], [0.6666666666666666, \"#ed7953\"], [0.7777777777777778, \"#fb9f3a\"], [0.8888888888888888, \"#fdca26\"], [1.0, \"#f0f921\"]], \"type\": \"heatmapgl\"}], \"histogram\": [{\"marker\": {\"colorbar\": {\"outlinewidth\": 0, \"ticks\": \"\"}}, \"type\": \"histogram\"}], \"histogram2d\": [{\"colorbar\": {\"outlinewidth\": 0, \"ticks\": \"\"}, \"colorscale\": [[0.0, \"#0d0887\"], [0.1111111111111111, \"#46039f\"], [0.2222222222222222, \"#7201a8\"], [0.3333333333333333, \"#9c179e\"], [0.4444444444444444, \"#bd3786\"], [0.5555555555555556, \"#d8576b\"], [0.6666666666666666, \"#ed7953\"], [0.7777777777777778, \"#fb9f3a\"], [0.8888888888888888, \"#fdca26\"], [1.0, \"#f0f921\"]], \"type\": \"histogram2d\"}], \"histogram2dcontour\": [{\"colorbar\": {\"outlinewidth\": 0, \"ticks\": \"\"}, \"colorscale\": [[0.0, \"#0d0887\"], [0.1111111111111111, \"#46039f\"], [0.2222222222222222, \"#7201a8\"], [0.3333333333333333, \"#9c179e\"], [0.4444444444444444, \"#bd3786\"], [0.5555555555555556, \"#d8576b\"], [0.6666666666666666, \"#ed7953\"], [0.7777777777777778, \"#fb9f3a\"], [0.8888888888888888, \"#fdca26\"], [1.0, \"#f0f921\"]], \"type\": \"histogram2dcontour\"}], \"mesh3d\": [{\"colorbar\": {\"outlinewidth\": 0, \"ticks\": \"\"}, \"type\": \"mesh3d\"}], \"parcoords\": [{\"line\": {\"colorbar\": {\"outlinewidth\": 0, \"ticks\": \"\"}}, \"type\": \"parcoords\"}], \"pie\": [{\"automargin\": true, \"type\": \"pie\"}], \"scatter\": [{\"marker\": {\"colorbar\": {\"outlinewidth\": 0, \"ticks\": \"\"}}, \"type\": \"scatter\"}], \"scatter3d\": [{\"line\": {\"colorbar\": {\"outlinewidth\": 0, \"ticks\": \"\"}}, \"marker\": {\"colorbar\": {\"outlinewidth\": 0, \"ticks\": \"\"}}, \"type\": \"scatter3d\"}], \"scattercarpet\": [{\"marker\": {\"colorbar\": {\"outlinewidth\": 0, \"ticks\": \"\"}}, \"type\": \"scattercarpet\"}], \"scattergeo\": [{\"marker\": {\"colorbar\": {\"outlinewidth\": 0, \"ticks\": \"\"}}, \"type\": \"scattergeo\"}], \"scattergl\": [{\"marker\": {\"colorbar\": {\"outlinewidth\": 0, \"ticks\": \"\"}}, \"type\": \"scattergl\"}], \"scattermapbox\": [{\"marker\": {\"colorbar\": {\"outlinewidth\": 0, \"ticks\": \"\"}}, \"type\": \"scattermapbox\"}], \"scatterpolar\": [{\"marker\": {\"colorbar\": {\"outlinewidth\": 0, \"ticks\": \"\"}}, \"type\": \"scatterpolar\"}], \"scatterpolargl\": [{\"marker\": {\"colorbar\": {\"outlinewidth\": 0, \"ticks\": \"\"}}, \"type\": \"scatterpolargl\"}], \"scatterternary\": [{\"marker\": {\"colorbar\": {\"outlinewidth\": 0, \"ticks\": \"\"}}, \"type\": \"scatterternary\"}], \"surface\": [{\"colorbar\": {\"outlinewidth\": 0, \"ticks\": \"\"}, \"colorscale\": [[0.0, \"#0d0887\"], [0.1111111111111111, \"#46039f\"], [0.2222222222222222, \"#7201a8\"], [0.3333333333333333, \"#9c179e\"], [0.4444444444444444, \"#bd3786\"], [0.5555555555555556, \"#d8576b\"], [0.6666666666666666, \"#ed7953\"], [0.7777777777777778, \"#fb9f3a\"], [0.8888888888888888, \"#fdca26\"], [1.0, \"#f0f921\"]], \"type\": \"surface\"}], \"table\": [{\"cells\": {\"fill\": {\"color\": \"#EBF0F8\"}, \"line\": {\"color\": \"white\"}}, \"header\": {\"fill\": {\"color\": \"#C8D4E3\"}, \"line\": {\"color\": \"white\"}}, \"type\": \"table\"}]}, \"layout\": {\"annotationdefaults\": {\"arrowcolor\": \"#2a3f5f\", \"arrowhead\": 0, \"arrowwidth\": 1}, \"coloraxis\": {\"colorbar\": {\"outlinewidth\": 0, \"ticks\": \"\"}}, \"colorscale\": {\"diverging\": [[0, \"#8e0152\"], [0.1, \"#c51b7d\"], [0.2, \"#de77ae\"], [0.3, \"#f1b6da\"], [0.4, \"#fde0ef\"], [0.5, \"#f7f7f7\"], [0.6, \"#e6f5d0\"], [0.7, \"#b8e186\"], [0.8, \"#7fbc41\"], [0.9, \"#4d9221\"], [1, \"#276419\"]], \"sequential\": [[0.0, \"#0d0887\"], [0.1111111111111111, \"#46039f\"], [0.2222222222222222, \"#7201a8\"], [0.3333333333333333, \"#9c179e\"], [0.4444444444444444, \"#bd3786\"], [0.5555555555555556, \"#d8576b\"], [0.6666666666666666, \"#ed7953\"], [0.7777777777777778, \"#fb9f3a\"], [0.8888888888888888, \"#fdca26\"], [1.0, \"#f0f921\"]], \"sequentialminus\": [[0.0, \"#0d0887\"], [0.1111111111111111, \"#46039f\"], [0.2222222222222222, \"#7201a8\"], [0.3333333333333333, \"#9c179e\"], [0.4444444444444444, \"#bd3786\"], [0.5555555555555556, \"#d8576b\"], [0.6666666666666666, \"#ed7953\"], [0.7777777777777778, \"#fb9f3a\"], [0.8888888888888888, \"#fdca26\"], [1.0, \"#f0f921\"]]}, \"colorway\": [\"#636efa\", \"#EF553B\", \"#00cc96\", \"#ab63fa\", \"#FFA15A\", \"#19d3f3\", \"#FF6692\", \"#B6E880\", \"#FF97FF\", \"#FECB52\"], \"font\": {\"color\": \"#2a3f5f\"}, \"geo\": {\"bgcolor\": \"white\", \"lakecolor\": \"white\", \"landcolor\": \"#E5ECF6\", \"showlakes\": true, \"showland\": true, \"subunitcolor\": \"white\"}, \"hoverlabel\": {\"align\": \"left\"}, \"hovermode\": \"closest\", \"mapbox\": {\"style\": \"light\"}, \"paper_bgcolor\": \"white\", \"plot_bgcolor\": \"#E5ECF6\", \"polar\": {\"angularaxis\": {\"gridcolor\": \"white\", \"linecolor\": \"white\", \"ticks\": \"\"}, \"bgcolor\": \"#E5ECF6\", \"radialaxis\": {\"gridcolor\": \"white\", \"linecolor\": \"white\", \"ticks\": \"\"}}, \"scene\": {\"xaxis\": {\"backgroundcolor\": \"#E5ECF6\", \"gridcolor\": \"white\", \"gridwidth\": 2, \"linecolor\": \"white\", \"showbackground\": true, \"ticks\": \"\", \"zerolinecolor\": \"white\"}, \"yaxis\": {\"backgroundcolor\": \"#E5ECF6\", \"gridcolor\": \"white\", \"gridwidth\": 2, \"linecolor\": \"white\", \"showbackground\": true, \"ticks\": \"\", \"zerolinecolor\": \"white\"}, \"zaxis\": {\"backgroundcolor\": \"#E5ECF6\", \"gridcolor\": \"white\", \"gridwidth\": 2, \"linecolor\": \"white\", \"showbackground\": true, \"ticks\": \"\", \"zerolinecolor\": \"white\"}}, \"shapedefaults\": {\"line\": {\"color\": \"#2a3f5f\"}}, \"ternary\": {\"aaxis\": {\"gridcolor\": \"white\", \"linecolor\": \"white\", \"ticks\": \"\"}, \"baxis\": {\"gridcolor\": \"white\", \"linecolor\": \"white\", \"ticks\": \"\"}, \"bgcolor\": \"#E5ECF6\", \"caxis\": {\"gridcolor\": \"white\", \"linecolor\": \"white\", \"ticks\": \"\"}}, \"title\": {\"x\": 0.05}, \"xaxis\": {\"automargin\": true, \"gridcolor\": \"white\", \"linecolor\": \"white\", \"ticks\": \"\", \"title\": {\"standoff\": 15}, \"zerolinecolor\": \"white\", \"zerolinewidth\": 2}, \"yaxis\": {\"automargin\": true, \"gridcolor\": \"white\", \"linecolor\": \"white\", \"ticks\": \"\", \"title\": {\"standoff\": 15}, \"zerolinecolor\": \"white\", \"zerolinewidth\": 2}}}, \"title\": {\"text\": \"Hyperparameter Importances\"}, \"xaxis\": {\"title\": {\"text\": \"Importance for Objective Value\"}}, \"yaxis\": {\"title\": {\"text\": \"Hyperparameter\"}}},\n",
       "                        {\"responsive\": true}\n",
       "                    ).then(function(){\n",
       "                            \n",
       "var gd = document.getElementById('d806665e-1185-4807-b14a-0676a5442e95');\n",
       "var x = new MutationObserver(function (mutations, observer) {{\n",
       "        var display = window.getComputedStyle(gd).display;\n",
       "        if (!display || display === 'none') {{\n",
       "            console.log([gd, 'removed!']);\n",
       "            Plotly.purge(gd);\n",
       "            observer.disconnect();\n",
       "        }}\n",
       "}});\n",
       "\n",
       "// Listen for the removal of the full notebook cells\n",
       "var notebookContainer = gd.closest('#notebook-container');\n",
       "if (notebookContainer) {{\n",
       "    x.observe(notebookContainer, {childList: true});\n",
       "}}\n",
       "\n",
       "// Listen for the clearing of the current output cell\n",
       "var outputEl = gd.closest('.output');\n",
       "if (outputEl) {{\n",
       "    x.observe(outputEl, {childList: true});\n",
       "}}\n",
       "\n",
       "                        })\n",
       "                };\n",
       "                });\n",
       "            </script>\n",
       "        </div>"
      ]
     },
     "metadata": {},
     "output_type": "display_data"
    }
   ],
   "source": [
    "# Plot hyperparameter importances.\n",
    "\n",
    "optuna.visualization.plot_param_importances(study)"
   ]
  },
  {
   "cell_type": "code",
   "execution_count": 249,
   "metadata": {
    "ExecuteTime": {
     "end_time": "2022-02-26T19:19:44.962407Z",
     "start_time": "2022-02-26T19:19:03.804759Z"
    }
   },
   "outputs": [
    {
     "name": "stdout",
     "output_type": "stream",
     "text": [
      "Random Forest Train Accuracy: 0.8341424486267207\n",
      "Random Forest Val Accuracy: 0.6459206064232994\n"
     ]
    }
   ],
   "source": [
    "rf_op = RandomForestClassifier( random_state=42,criterion= 'entropy', max_depth= 18, n_estimators= 500,\n",
    "                                class_weight= None, min_samples_split= 7, min_samples_leaf= 2, max_samples=0.6025999999999887)\n",
    "\n",
    "rf_op.fit(X_train, np.ravel(y_train))\n",
    "rf_op.fit(X_train, np.ravel(y_train))\n",
    "y_train_rf_op = rf_op.predict(X_train)\n",
    "y_val_rf_op = rf_op.predict(X_val)\n",
    "\n",
    "print(\"Random Forest Train Accuracy:\",accuracy_score(y_train, y_train_rf_op))\n",
    "print(\"Random Forest Val Accuracy:\",accuracy_score(y_val, y_val_rf_op))"
   ]
  },
  {
   "cell_type": "markdown",
   "metadata": {},
   "source": [
    "**Predict the Missing Data in WWCode**"
   ]
  },
  {
   "cell_type": "code",
   "execution_count": 252,
   "metadata": {
    "ExecuteTime": {
     "end_time": "2022-02-26T19:22:26.728463Z",
     "start_time": "2022-02-26T19:22:25.132400Z"
    },
    "scrolled": true
   },
   "outputs": [],
   "source": [
    "y_test_pred = rf_op.predict(X_test) "
   ]
  },
  {
   "cell_type": "code",
   "execution_count": 259,
   "metadata": {
    "ExecuteTime": {
     "end_time": "2022-02-26T19:23:18.122274Z",
     "start_time": "2022-02-26T19:23:18.108239Z"
    }
   },
   "outputs": [
    {
     "data": {
      "text/plain": [
       "0.0     2740\n",
       "3.0      904\n",
       "2.0      683\n",
       "4.0      608\n",
       "5.0      404\n",
       "6.0      180\n",
       "1.0      165\n",
       "10.0     151\n",
       "80.0     146\n",
       "25.0     132\n",
       "95.0      78\n",
       "60.0      38\n",
       "70.0       9\n",
       "22.0       5\n",
       "7.0        4\n",
       "29.0       4\n",
       "17.0       3\n",
       "dtype: int64"
      ]
     },
     "execution_count": 259,
     "metadata": {},
     "output_type": "execute_result"
    }
   ],
   "source": [
    "pd.Series(y_test_pred).value_counts()"
   ]
  },
  {
   "cell_type": "code",
   "execution_count": 262,
   "metadata": {
    "ExecuteTime": {
     "end_time": "2022-02-26T19:24:24.265856Z",
     "start_time": "2022-02-26T19:24:24.252857Z"
    }
   },
   "outputs": [
    {
     "name": "stderr",
     "output_type": "stream",
     "text": [
      "c:\\python37\\lib\\site-packages\\ipykernel_launcher.py:1: SettingWithCopyWarning:\n",
      "\n",
      "\n",
      "A value is trying to be set on a copy of a slice from a DataFrame.\n",
      "Try using .loc[row_indexer,col_indexer] = value instead\n",
      "\n",
      "See the caveats in the documentation: https://pandas.pydata.org/pandas-docs/stable/user_guide/indexing.html#returning-a-view-versus-a-copy\n",
      "\n"
     ]
    }
   ],
   "source": [
    "X_test[\"WWCode\"] = pd.Series(y_test_pred, index=X_test.index)"
   ]
  },
  {
   "cell_type": "code",
   "execution_count": 324,
   "metadata": {
    "ExecuteTime": {
     "end_time": "2022-02-26T20:09:53.600618Z",
     "start_time": "2022-02-26T20:09:53.576584Z"
    }
   },
   "outputs": [
    {
     "data": {
      "text/html": [
       "<div>\n",
       "<style scoped>\n",
       "    .dataframe tbody tr th:only-of-type {\n",
       "        vertical-align: middle;\n",
       "    }\n",
       "\n",
       "    .dataframe tbody tr th {\n",
       "        vertical-align: top;\n",
       "    }\n",
       "\n",
       "    .dataframe thead th {\n",
       "        text-align: right;\n",
       "    }\n",
       "</style>\n",
       "<table border=\"1\" class=\"dataframe\">\n",
       "  <thead>\n",
       "    <tr style=\"text-align: right;\">\n",
       "      <th></th>\n",
       "      <th>WWCode</th>\n",
       "    </tr>\n",
       "  </thead>\n",
       "  <tbody>\n",
       "    <tr>\n",
       "      <th>count</th>\n",
       "      <td>6254.000000</td>\n",
       "    </tr>\n",
       "    <tr>\n",
       "      <th>mean</th>\n",
       "      <td>5.898625</td>\n",
       "    </tr>\n",
       "    <tr>\n",
       "      <th>std</th>\n",
       "      <td>16.697790</td>\n",
       "    </tr>\n",
       "    <tr>\n",
       "      <th>min</th>\n",
       "      <td>0.000000</td>\n",
       "    </tr>\n",
       "    <tr>\n",
       "      <th>25%</th>\n",
       "      <td>0.000000</td>\n",
       "    </tr>\n",
       "    <tr>\n",
       "      <th>50%</th>\n",
       "      <td>2.000000</td>\n",
       "    </tr>\n",
       "    <tr>\n",
       "      <th>75%</th>\n",
       "      <td>4.000000</td>\n",
       "    </tr>\n",
       "    <tr>\n",
       "      <th>max</th>\n",
       "      <td>95.000000</td>\n",
       "    </tr>\n",
       "  </tbody>\n",
       "</table>\n",
       "</div>"
      ],
      "text/plain": [
       "            WWCode\n",
       "count  6254.000000\n",
       "mean      5.898625\n",
       "std      16.697790\n",
       "min       0.000000\n",
       "25%       0.000000\n",
       "50%       2.000000\n",
       "75%       4.000000\n",
       "max      95.000000"
      ]
     },
     "execution_count": 324,
     "metadata": {},
     "output_type": "execute_result"
    }
   ],
   "source": [
    "X_copy = X.copy()\n",
    "X_copy = X_copy[[\"WWCode\"]].fillna(X_test[[\"WWCode\"]])\n",
    "\n",
    "X_copy[X_copy.index.isin(X_test.index)].describe()"
   ]
  },
  {
   "cell_type": "code",
   "execution_count": 333,
   "metadata": {
    "ExecuteTime": {
     "end_time": "2022-02-26T20:11:22.675786Z",
     "start_time": "2022-02-26T20:11:22.586787Z"
    }
   },
   "outputs": [
    {
     "data": {
      "text/html": [
       "<div>\n",
       "<style scoped>\n",
       "    .dataframe tbody tr th:only-of-type {\n",
       "        vertical-align: middle;\n",
       "    }\n",
       "\n",
       "    .dataframe tbody tr th {\n",
       "        vertical-align: top;\n",
       "    }\n",
       "\n",
       "    .dataframe thead th {\n",
       "        text-align: right;\n",
       "    }\n",
       "</style>\n",
       "<table border=\"1\" class=\"dataframe\">\n",
       "  <thead>\n",
       "    <tr style=\"text-align: right;\">\n",
       "      <th></th>\n",
       "      <th>AirTemperature</th>\n",
       "      <th>ComfortTemperature</th>\n",
       "      <th>RelativeHumidity</th>\n",
       "      <th>WindSpeed</th>\n",
       "      <th>WindDirection</th>\n",
       "      <th>WWCode</th>\n",
       "      <th>EffectiveCloudCover</th>\n",
       "      <th>is_holiday</th>\n",
       "      <th>Hour</th>\n",
       "      <th>DayGroup</th>\n",
       "      <th>Month</th>\n",
       "      <th>Autumn</th>\n",
       "      <th>Spring</th>\n",
       "      <th>Summer</th>\n",
       "      <th>Winter</th>\n",
       "    </tr>\n",
       "  </thead>\n",
       "  <tbody>\n",
       "    <tr>\n",
       "      <th>count</th>\n",
       "      <td>26304.000000</td>\n",
       "      <td>26304.000000</td>\n",
       "      <td>26304.000000</td>\n",
       "      <td>26304.000000</td>\n",
       "      <td>26304.000000</td>\n",
       "      <td>26304.000000</td>\n",
       "      <td>26304.000000</td>\n",
       "      <td>26304.000000</td>\n",
       "      <td>26304.000000</td>\n",
       "      <td>26304.000000</td>\n",
       "      <td>26304.000000</td>\n",
       "      <td>26304.000000</td>\n",
       "      <td>26304.000000</td>\n",
       "      <td>26304.000000</td>\n",
       "      <td>26304.000000</td>\n",
       "    </tr>\n",
       "    <tr>\n",
       "      <th>mean</th>\n",
       "      <td>13.741522</td>\n",
       "      <td>13.239397</td>\n",
       "      <td>54.352832</td>\n",
       "      <td>1.655931</td>\n",
       "      <td>87.463960</td>\n",
       "      <td>11.384542</td>\n",
       "      <td>2.614051</td>\n",
       "      <td>0.038321</td>\n",
       "      <td>11.500000</td>\n",
       "      <td>0.750000</td>\n",
       "      <td>6.521898</td>\n",
       "      <td>0.249088</td>\n",
       "      <td>0.251825</td>\n",
       "      <td>0.251825</td>\n",
       "      <td>0.247263</td>\n",
       "    </tr>\n",
       "    <tr>\n",
       "      <th>std</th>\n",
       "      <td>9.379876</td>\n",
       "      <td>9.767058</td>\n",
       "      <td>22.566688</td>\n",
       "      <td>1.353196</td>\n",
       "      <td>100.762932</td>\n",
       "      <td>23.067932</td>\n",
       "      <td>2.497609</td>\n",
       "      <td>0.191974</td>\n",
       "      <td>6.922318</td>\n",
       "      <td>1.050813</td>\n",
       "      <td>3.449052</td>\n",
       "      <td>0.432493</td>\n",
       "      <td>0.434069</td>\n",
       "      <td>0.434069</td>\n",
       "      <td>0.431429</td>\n",
       "    </tr>\n",
       "    <tr>\n",
       "      <th>min</th>\n",
       "      <td>-13.100000</td>\n",
       "      <td>-19.300000</td>\n",
       "      <td>1.600000</td>\n",
       "      <td>0.000000</td>\n",
       "      <td>0.000000</td>\n",
       "      <td>0.000000</td>\n",
       "      <td>0.000000</td>\n",
       "      <td>0.000000</td>\n",
       "      <td>0.000000</td>\n",
       "      <td>0.000000</td>\n",
       "      <td>1.000000</td>\n",
       "      <td>0.000000</td>\n",
       "      <td>0.000000</td>\n",
       "      <td>0.000000</td>\n",
       "      <td>0.000000</td>\n",
       "    </tr>\n",
       "    <tr>\n",
       "      <th>25%</th>\n",
       "      <td>6.000000</td>\n",
       "      <td>5.100000</td>\n",
       "      <td>36.600000</td>\n",
       "      <td>0.500000</td>\n",
       "      <td>20.000000</td>\n",
       "      <td>0.000000</td>\n",
       "      <td>0.000000</td>\n",
       "      <td>0.000000</td>\n",
       "      <td>5.750000</td>\n",
       "      <td>0.000000</td>\n",
       "      <td>4.000000</td>\n",
       "      <td>0.000000</td>\n",
       "      <td>0.000000</td>\n",
       "      <td>0.000000</td>\n",
       "      <td>0.000000</td>\n",
       "    </tr>\n",
       "    <tr>\n",
       "      <th>50%</th>\n",
       "      <td>13.400000</td>\n",
       "      <td>13.000000</td>\n",
       "      <td>55.100000</td>\n",
       "      <td>1.500000</td>\n",
       "      <td>30.000000</td>\n",
       "      <td>2.000000</td>\n",
       "      <td>2.100000</td>\n",
       "      <td>0.000000</td>\n",
       "      <td>11.500000</td>\n",
       "      <td>0.000000</td>\n",
       "      <td>7.000000</td>\n",
       "      <td>0.000000</td>\n",
       "      <td>0.000000</td>\n",
       "      <td>0.000000</td>\n",
       "      <td>0.000000</td>\n",
       "    </tr>\n",
       "    <tr>\n",
       "      <th>75%</th>\n",
       "      <td>21.000000</td>\n",
       "      <td>21.200000</td>\n",
       "      <td>72.500000</td>\n",
       "      <td>2.600000</td>\n",
       "      <td>170.000000</td>\n",
       "      <td>6.000000</td>\n",
       "      <td>5.000000</td>\n",
       "      <td>0.000000</td>\n",
       "      <td>17.250000</td>\n",
       "      <td>2.000000</td>\n",
       "      <td>10.000000</td>\n",
       "      <td>0.000000</td>\n",
       "      <td>1.000000</td>\n",
       "      <td>1.000000</td>\n",
       "      <td>0.000000</td>\n",
       "    </tr>\n",
       "    <tr>\n",
       "      <th>max</th>\n",
       "      <td>39.000000</td>\n",
       "      <td>37.200000</td>\n",
       "      <td>100.000000</td>\n",
       "      <td>13.400000</td>\n",
       "      <td>360.000000</td>\n",
       "      <td>99.000000</td>\n",
       "      <td>8.000000</td>\n",
       "      <td>1.000000</td>\n",
       "      <td>23.000000</td>\n",
       "      <td>3.000000</td>\n",
       "      <td>12.000000</td>\n",
       "      <td>1.000000</td>\n",
       "      <td>1.000000</td>\n",
       "      <td>1.000000</td>\n",
       "      <td>1.000000</td>\n",
       "    </tr>\n",
       "  </tbody>\n",
       "</table>\n",
       "</div>"
      ],
      "text/plain": [
       "       AirTemperature  ComfortTemperature  RelativeHumidity     WindSpeed  \\\n",
       "count    26304.000000        26304.000000      26304.000000  26304.000000   \n",
       "mean        13.741522           13.239397         54.352832      1.655931   \n",
       "std          9.379876            9.767058         22.566688      1.353196   \n",
       "min        -13.100000          -19.300000          1.600000      0.000000   \n",
       "25%          6.000000            5.100000         36.600000      0.500000   \n",
       "50%         13.400000           13.000000         55.100000      1.500000   \n",
       "75%         21.000000           21.200000         72.500000      2.600000   \n",
       "max         39.000000           37.200000        100.000000     13.400000   \n",
       "\n",
       "       WindDirection        WWCode  EffectiveCloudCover    is_holiday  \\\n",
       "count   26304.000000  26304.000000         26304.000000  26304.000000   \n",
       "mean       87.463960     11.384542             2.614051      0.038321   \n",
       "std       100.762932     23.067932             2.497609      0.191974   \n",
       "min         0.000000      0.000000             0.000000      0.000000   \n",
       "25%        20.000000      0.000000             0.000000      0.000000   \n",
       "50%        30.000000      2.000000             2.100000      0.000000   \n",
       "75%       170.000000      6.000000             5.000000      0.000000   \n",
       "max       360.000000     99.000000             8.000000      1.000000   \n",
       "\n",
       "               Hour      DayGroup         Month        Autumn        Spring  \\\n",
       "count  26304.000000  26304.000000  26304.000000  26304.000000  26304.000000   \n",
       "mean      11.500000      0.750000      6.521898      0.249088      0.251825   \n",
       "std        6.922318      1.050813      3.449052      0.432493      0.434069   \n",
       "min        0.000000      0.000000      1.000000      0.000000      0.000000   \n",
       "25%        5.750000      0.000000      4.000000      0.000000      0.000000   \n",
       "50%       11.500000      0.000000      7.000000      0.000000      0.000000   \n",
       "75%       17.250000      2.000000     10.000000      0.000000      1.000000   \n",
       "max       23.000000      3.000000     12.000000      1.000000      1.000000   \n",
       "\n",
       "             Summer        Winter  \n",
       "count  26304.000000  26304.000000  \n",
       "mean       0.251825      0.247263  \n",
       "std        0.434069      0.431429  \n",
       "min        0.000000      0.000000  \n",
       "25%        0.000000      0.000000  \n",
       "50%        0.000000      0.000000  \n",
       "75%        1.000000      0.000000  \n",
       "max        1.000000      1.000000  "
      ]
     },
     "execution_count": 333,
     "metadata": {},
     "output_type": "execute_result"
    }
   ],
   "source": [
    "X_imputed = X.copy()\n",
    "X_imputed[\"WWCode\"] = X_copy\n",
    "X_imputed.describe()"
   ]
  },
  {
   "cell_type": "code",
   "execution_count": 334,
   "metadata": {
    "ExecuteTime": {
     "end_time": "2022-02-26T20:12:26.111154Z",
     "start_time": "2022-02-26T20:12:25.835147Z"
    }
   },
   "outputs": [],
   "source": [
    "X_imputed.to_csv(\"X_imputed.csv\")"
   ]
  }
 ],
 "metadata": {
  "kernelspec": {
   "display_name": "Python 3",
   "language": "python",
   "name": "python3"
  },
  "language_info": {
   "codemirror_mode": {
    "name": "ipython",
    "version": 3
   },
   "file_extension": ".py",
   "mimetype": "text/x-python",
   "name": "python",
   "nbconvert_exporter": "python",
   "pygments_lexer": "ipython3",
   "version": "3.7.6"
  },
  "toc": {
   "base_numbering": 1,
   "nav_menu": {},
   "number_sections": true,
   "sideBar": true,
   "skip_h1_title": false,
   "title_cell": "Table of Contents",
   "title_sidebar": "Contents",
   "toc_cell": false,
   "toc_position": {},
   "toc_section_display": true,
   "toc_window_display": false
  },
  "varInspector": {
   "cols": {
    "lenName": 16,
    "lenType": 16,
    "lenVar": 40
   },
   "kernels_config": {
    "python": {
     "delete_cmd_postfix": "",
     "delete_cmd_prefix": "del ",
     "library": "var_list.py",
     "varRefreshCmd": "print(var_dic_list())"
    },
    "r": {
     "delete_cmd_postfix": ") ",
     "delete_cmd_prefix": "rm(",
     "library": "var_list.r",
     "varRefreshCmd": "cat(var_dic_list()) "
    }
   },
   "types_to_exclude": [
    "module",
    "function",
    "builtin_function_or_method",
    "instance",
    "_Feature"
   ],
   "window_display": false
  }
 },
 "nbformat": 4,
 "nbformat_minor": 2
}
