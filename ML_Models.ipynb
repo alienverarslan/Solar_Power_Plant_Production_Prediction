{
 "cells": [
  {
   "cell_type": "code",
   "execution_count": 282,
   "metadata": {
    "ExecuteTime": {
     "end_time": "2022-02-25T20:03:41.747841Z",
     "start_time": "2022-02-25T20:03:41.735846Z"
    }
   },
   "outputs": [],
   "source": [
    "import numpy as np\n",
    "import pandas as pd\n",
    "import seaborn as sns\n",
    "import time\n",
    "from matplotlib import pyplot as plt\n",
    "\n",
    "from sklearn.preprocessing import MaxAbsScaler, RobustScaler, StandardScaler, OneHotEncoder\n",
    "from sklearn.compose import ColumnTransformer \n",
    "from sklearn.metrics import mean_absolute_error, mean_squared_error, r2_score, make_scorer\n",
    "from sklearn.pipeline import Pipeline, Parallel\n",
    "\n",
    "from sklearn.linear_model import LinearRegression, SGDRegressor\n",
    "from sklearn.model_selection import GridSearchCV, KFold, learning_curve, RandomizedSearchCV, TimeSeriesSplit, train_test_split\n",
    "from lightgbm import LGBMRegressor \n",
    "from xgboost import XGBRegressor\n",
    "from sklearn.svm import SVR, LinearSVR\n",
    "from sklearn.ensemble import AdaBoostRegressor, BaggingRegressor, ExtraTreesRegressor, GradientBoostingRegressor, IsolationForest, RandomForestRegressor, RandomTreesEmbedding, StackingRegressor"
   ]
  },
  {
   "cell_type": "code",
   "execution_count": 594,
   "metadata": {
    "ExecuteTime": {
     "end_time": "2022-02-27T11:49:31.092636Z",
     "start_time": "2022-02-27T11:49:30.810640Z"
    }
   },
   "outputs": [],
   "source": [
    "#Data Import\n",
    "\n",
    "y = pd.read_csv('generation_data.csv', parse_dates=['DateTime'], index_col=[\"DateTime\"])\n",
    "X = pd.read_csv('features_data.csv', parse_dates=['DateTime'], index_col=[\"DateTime\"])\n",
    "sample_submission = pd.read_csv(\"sample_submission.csv\")"
   ]
  },
  {
   "cell_type": "code",
   "execution_count": 597,
   "metadata": {
    "ExecuteTime": {
     "end_time": "2022-02-27T11:49:51.371118Z",
     "start_time": "2022-02-27T11:49:51.336119Z"
    }
   },
   "outputs": [],
   "source": [
    "X.columns = [i.replace(' ', '_').replace(\"'\", '').replace(',', '') for i in X.columns]\n",
    "#X = X.drop(\"Hour\", axis=1)\n",
    "X[\"Month\"] = [month for month in X.index.month]\n",
    "X[\"Day\"] = [day for day in X.index.day]\n",
    "\n",
    "def SeasonSelector(x):\n",
    "    if x in (1, 2, 12):\n",
    "        return 'Winter'\n",
    "    elif x in (3, 4, 5):\n",
    "        return 'Spring'\n",
    "    elif x in (6, 7, 8):\n",
    "        return 'Summer'\n",
    "    elif x in (9, 10, 11):\n",
    "        return 'Autumn'\n",
    "    \n",
    "X[\"Season\"] = [SeasonSelector(month)  for month in X.index.month]"
   ]
  },
  {
   "cell_type": "markdown",
   "metadata": {},
   "source": [
    "**Approach 1: No Time Series Cross Validation, No Scaling, Linear Regression as Base Model, Drop Missing Columns**"
   ]
  },
  {
   "cell_type": "code",
   "execution_count": 598,
   "metadata": {
    "ExecuteTime": {
     "end_time": "2022-02-27T11:49:54.540930Z",
     "start_time": "2022-02-27T11:49:54.520960Z"
    }
   },
   "outputs": [],
   "source": [
    "X1 = X.drop('WWCode', axis=1)"
   ]
  },
  {
   "cell_type": "code",
   "execution_count": 599,
   "metadata": {
    "ExecuteTime": {
     "end_time": "2022-02-27T11:49:55.578967Z",
     "start_time": "2022-02-27T11:49:55.548936Z"
    }
   },
   "outputs": [
    {
     "data": {
      "text/plain": [
       "Timestamp('2021-11-30 23:00:00')"
      ]
     },
     "execution_count": 599,
     "metadata": {},
     "output_type": "execute_result"
    }
   ],
   "source": [
    "X1[y.index.max():].index.min()"
   ]
  },
  {
   "cell_type": "code",
   "execution_count": 600,
   "metadata": {
    "ExecuteTime": {
     "end_time": "2022-02-27T11:49:56.798933Z",
     "start_time": "2022-02-27T11:49:56.776935Z"
    }
   },
   "outputs": [],
   "source": [
    "X1_test = X1[y.index.max() + pd.DateOffset(hours=1):]\n",
    "X1_model = X1[:y.index.max()]"
   ]
  },
  {
   "cell_type": "code",
   "execution_count": 601,
   "metadata": {
    "ExecuteTime": {
     "end_time": "2022-02-27T11:49:57.915815Z",
     "start_time": "2022-02-27T11:49:57.883773Z"
    }
   },
   "outputs": [],
   "source": [
    "X1_train, X1_val, y_train, y_val = train_test_split(X1_model, y, random_state=421, test_size=0.20)"
   ]
  },
  {
   "cell_type": "code",
   "execution_count": 602,
   "metadata": {
    "ExecuteTime": {
     "end_time": "2022-02-27T11:50:01.572472Z",
     "start_time": "2022-02-27T11:50:01.532431Z"
    }
   },
   "outputs": [
    {
     "name": "stdout",
     "output_type": "stream",
     "text": [
      "<class 'pandas.core.frame.DataFrame'>\n",
      "DatetimeIndex: 20448 entries, 2019-05-26 02:00:00 to 2021-04-04 23:00:00\n",
      "Data columns (total 30 columns):\n",
      " #   Column                                         Non-Null Count  Dtype  \n",
      "---  ------                                         --------------  -----  \n",
      " 0   AirTemperature                                 20448 non-null  float64\n",
      " 1   ComfortTemperature                             20448 non-null  float64\n",
      " 2   RelativeHumidity                               20448 non-null  float64\n",
      " 3   WindSpeed                                      20448 non-null  float64\n",
      " 4   WindDirection                                  20448 non-null  float64\n",
      " 5   EffectiveCloudCover                            20448 non-null  float64\n",
      " 6   is_holiday                                     20448 non-null  int64  \n",
      " 7   Commemoration_of_Ataturk_Youth_and_Sports_Day  20448 non-null  int64  \n",
      " 8   Democracy_and_National_Unity_Day               20448 non-null  int64  \n",
      " 9   Labour_Day                                     20448 non-null  int64  \n",
      " 10  National_Sovereignty_and_Childrens_Day         20448 non-null  int64  \n",
      " 11  New_Years_Day                                  20448 non-null  int64  \n",
      " 12  Ramadan_Feast                                  20448 non-null  int64  \n",
      " 13  Ramadan_Feast_Holiday                          20448 non-null  int64  \n",
      " 14  Republic_Day                                   20448 non-null  int64  \n",
      " 15  Sacrifice_Feast                                20448 non-null  int64  \n",
      " 16  Sacrifice_Feast_Holiday                        20448 non-null  int64  \n",
      " 17  Victory_Day                                    20448 non-null  int64  \n",
      " 18  Day_Friday                                     20448 non-null  int64  \n",
      " 19  Day_Monday                                     20448 non-null  int64  \n",
      " 20  Day_Saturday                                   20448 non-null  int64  \n",
      " 21  Day_Sunday                                     20448 non-null  int64  \n",
      " 22  Day_Thursday                                   20448 non-null  int64  \n",
      " 23  Day_Tuesday                                    20448 non-null  int64  \n",
      " 24  Day_Wednesday                                  20448 non-null  int64  \n",
      " 25  Hour                                           20448 non-null  int64  \n",
      " 26  DayGroup                                       20448 non-null  int64  \n",
      " 27  Month                                          20448 non-null  int64  \n",
      " 28  Day                                            20448 non-null  int64  \n",
      " 29  Season                                         20448 non-null  object \n",
      "dtypes: float64(6), int64(23), object(1)\n",
      "memory usage: 4.8+ MB\n"
     ]
    }
   ],
   "source": [
    "X1_train.info()"
   ]
  },
  {
   "cell_type": "code",
   "execution_count": 120,
   "metadata": {
    "ExecuteTime": {
     "end_time": "2022-02-21T20:36:07.571141Z",
     "start_time": "2022-02-21T20:36:07.556145Z"
    }
   },
   "outputs": [
    {
     "data": {
      "text/html": [
       "<div>\n",
       "<style scoped>\n",
       "    .dataframe tbody tr th:only-of-type {\n",
       "        vertical-align: middle;\n",
       "    }\n",
       "\n",
       "    .dataframe tbody tr th {\n",
       "        vertical-align: top;\n",
       "    }\n",
       "\n",
       "    .dataframe thead th {\n",
       "        text-align: right;\n",
       "    }\n",
       "</style>\n",
       "<table border=\"1\" class=\"dataframe\">\n",
       "  <thead>\n",
       "    <tr style=\"text-align: right;\">\n",
       "      <th></th>\n",
       "      <th>Generation</th>\n",
       "      <th>y_hat</th>\n",
       "    </tr>\n",
       "    <tr>\n",
       "      <th>DateTime</th>\n",
       "      <th></th>\n",
       "      <th></th>\n",
       "    </tr>\n",
       "  </thead>\n",
       "  <tbody>\n",
       "    <tr>\n",
       "      <th>2019-05-26 02:00:00</th>\n",
       "      <td>0.000000</td>\n",
       "      <td>11.498185</td>\n",
       "    </tr>\n",
       "    <tr>\n",
       "      <th>2021-05-13 20:00:00</th>\n",
       "      <td>0.025347</td>\n",
       "      <td>104.983376</td>\n",
       "    </tr>\n",
       "    <tr>\n",
       "      <th>2020-01-29 16:00:00</th>\n",
       "      <td>49.050627</td>\n",
       "      <td>89.490078</td>\n",
       "    </tr>\n",
       "    <tr>\n",
       "      <th>2020-07-06 05:00:00</th>\n",
       "      <td>1.091121</td>\n",
       "      <td>39.886808</td>\n",
       "    </tr>\n",
       "    <tr>\n",
       "      <th>2021-07-02 09:00:00</th>\n",
       "      <td>280.405529</td>\n",
       "      <td>353.932414</td>\n",
       "    </tr>\n",
       "    <tr>\n",
       "      <th>...</th>\n",
       "      <td>...</td>\n",
       "      <td>...</td>\n",
       "    </tr>\n",
       "    <tr>\n",
       "      <th>2019-05-09 19:00:00</th>\n",
       "      <td>5.105887</td>\n",
       "      <td>34.916153</td>\n",
       "    </tr>\n",
       "    <tr>\n",
       "      <th>2019-01-21 12:00:00</th>\n",
       "      <td>70.189786</td>\n",
       "      <td>129.549539</td>\n",
       "    </tr>\n",
       "    <tr>\n",
       "      <th>2021-02-06 15:00:00</th>\n",
       "      <td>269.655556</td>\n",
       "      <td>316.709047</td>\n",
       "    </tr>\n",
       "    <tr>\n",
       "      <th>2021-07-08 13:00:00</th>\n",
       "      <td>291.812211</td>\n",
       "      <td>223.012391</td>\n",
       "    </tr>\n",
       "    <tr>\n",
       "      <th>2021-04-04 23:00:00</th>\n",
       "      <td>0.000000</td>\n",
       "      <td>1.571226</td>\n",
       "    </tr>\n",
       "  </tbody>\n",
       "</table>\n",
       "<p>20448 rows × 2 columns</p>\n",
       "</div>"
      ],
      "text/plain": [
       "                     Generation       y_hat\n",
       "DateTime                                   \n",
       "2019-05-26 02:00:00    0.000000   11.498185\n",
       "2021-05-13 20:00:00    0.025347  104.983376\n",
       "2020-01-29 16:00:00   49.050627   89.490078\n",
       "2020-07-06 05:00:00    1.091121   39.886808\n",
       "2021-07-02 09:00:00  280.405529  353.932414\n",
       "...                         ...         ...\n",
       "2019-05-09 19:00:00    5.105887   34.916153\n",
       "2019-01-21 12:00:00   70.189786  129.549539\n",
       "2021-02-06 15:00:00  269.655556  316.709047\n",
       "2021-07-08 13:00:00  291.812211  223.012391\n",
       "2021-04-04 23:00:00    0.000000    1.571226\n",
       "\n",
       "[20448 rows x 2 columns]"
      ]
     },
     "execution_count": 120,
     "metadata": {},
     "output_type": "execute_result"
    }
   ],
   "source": [
    "lin_model = LinearRegression()\n",
    "lin_model.fit(X1_train, y_train)\n",
    "y_trin_hat = lin_model.predict(X1_train)\n",
    "lin_pred"
   ]
  },
  {
   "cell_type": "code",
   "execution_count": 122,
   "metadata": {
    "ExecuteTime": {
     "end_time": "2022-02-21T20:37:18.131798Z",
     "start_time": "2022-02-21T20:37:16.750658Z"
    }
   },
   "outputs": [
    {
     "data": {
      "image/png": "[encoded data removed]",
      "text/plain": [
       "<Figure size 432x288 with 1 Axes>"
      ]
     },
     "metadata": {
      "needs_background": "light"
     },
     "output_type": "display_data"
    }
   ],
   "source": [
    "lin_pred = y_train.copy()\n",
    "lin_pred[\"y_hat\"] = y_trin_hat\n",
    "sns.regplot(x='Generation', y='y_hat', data=lin_pred);"
   ]
  },
  {
   "cell_type": "code",
   "execution_count": 127,
   "metadata": {
    "ExecuteTime": {
     "end_time": "2022-02-21T20:42:33.700211Z",
     "start_time": "2022-02-21T20:42:33.687210Z"
    }
   },
   "outputs": [
    {
     "name": "stdout",
     "output_type": "stream",
     "text": [
      "RMSE from Linear Regression Model is: 65.54946052601268\n"
     ]
    }
   ],
   "source": [
    "rmse_lin_reg = np.sqrt(mean_squared_error(lin_pred[\"Generation\"], lin_pred[\"y_hat\"]))\n",
    "print(\"RMSE from Linear Regression Model is:\", rmse_lin_reg)"
   ]
  },
  {
   "cell_type": "markdown",
   "metadata": {},
   "source": [
    "**Approach 2: No Time Series Cross Validation, No Scaling, Multiple Models with Default Parameters, Drop Missing Columns**"
   ]
  },
  {
   "cell_type": "code",
   "execution_count": 603,
   "metadata": {
    "ExecuteTime": {
     "end_time": "2022-02-27T11:50:11.324931Z",
     "start_time": "2022-02-27T11:50:10.904228Z"
    }
   },
   "outputs": [],
   "source": [
    "ohe = OneHotEncoder(handle_unknown='ignore', sparse=False)\n",
    "train_encoded = pd.DataFrame(ohe.fit_transform(X1_train[[\"Season\"]]))\n",
    "val_encoded = pd.DataFrame(ohe.transform(X1_val[[\"Season\"]]))\n",
    "train_encoded.index = X1_train.index\n",
    "val_encoded.index = X1_val.index\n",
    "train_encoded.columns = ohe.get_feature_names()\n",
    "val_encoded.columns = ohe.get_feature_names()\n",
    "\n",
    "test_encoded = pd.DataFrame(ohe.transform(X1_test[[\"Season\"]]))\n",
    "test_encoded.index = X1_test.index\n",
    "test_encoded.columns = ohe.get_feature_names()"
   ]
  },
  {
   "cell_type": "code",
   "execution_count": 604,
   "metadata": {
    "ExecuteTime": {
     "end_time": "2022-02-27T11:50:14.742781Z",
     "start_time": "2022-02-27T11:50:14.591792Z"
    }
   },
   "outputs": [
    {
     "data": {
      "text/html": [
       "<div>\n",
       "<style scoped>\n",
       "    .dataframe tbody tr th:only-of-type {\n",
       "        vertical-align: middle;\n",
       "    }\n",
       "\n",
       "    .dataframe tbody tr th {\n",
       "        vertical-align: top;\n",
       "    }\n",
       "\n",
       "    .dataframe thead th {\n",
       "        text-align: right;\n",
       "    }\n",
       "</style>\n",
       "<table border=\"1\" class=\"dataframe\">\n",
       "  <thead>\n",
       "    <tr style=\"text-align: right;\">\n",
       "      <th></th>\n",
       "      <th>AirTemperature</th>\n",
       "      <th>ComfortTemperature</th>\n",
       "      <th>RelativeHumidity</th>\n",
       "      <th>WindSpeed</th>\n",
       "      <th>WindDirection</th>\n",
       "      <th>EffectiveCloudCover</th>\n",
       "      <th>is_holiday</th>\n",
       "      <th>Commemoration_of_Ataturk_Youth_and_Sports_Day</th>\n",
       "      <th>Democracy_and_National_Unity_Day</th>\n",
       "      <th>Labour_Day</th>\n",
       "      <th>...</th>\n",
       "      <th>Day_Tuesday</th>\n",
       "      <th>Day_Wednesday</th>\n",
       "      <th>Hour</th>\n",
       "      <th>DayGroup</th>\n",
       "      <th>Month</th>\n",
       "      <th>Day</th>\n",
       "      <th>x0_Autumn</th>\n",
       "      <th>x0_Spring</th>\n",
       "      <th>x0_Summer</th>\n",
       "      <th>x0_Winter</th>\n",
       "    </tr>\n",
       "    <tr>\n",
       "      <th>DateTime</th>\n",
       "      <th></th>\n",
       "      <th></th>\n",
       "      <th></th>\n",
       "      <th></th>\n",
       "      <th></th>\n",
       "      <th></th>\n",
       "      <th></th>\n",
       "      <th></th>\n",
       "      <th></th>\n",
       "      <th></th>\n",
       "      <th></th>\n",
       "      <th></th>\n",
       "      <th></th>\n",
       "      <th></th>\n",
       "      <th></th>\n",
       "      <th></th>\n",
       "      <th></th>\n",
       "      <th></th>\n",
       "      <th></th>\n",
       "      <th></th>\n",
       "      <th></th>\n",
       "    </tr>\n",
       "  </thead>\n",
       "  <tbody>\n",
       "    <tr>\n",
       "      <th>2019-05-26 02:00:00</th>\n",
       "      <td>15.2</td>\n",
       "      <td>15.6</td>\n",
       "      <td>67.0</td>\n",
       "      <td>0.5</td>\n",
       "      <td>220.0</td>\n",
       "      <td>3.0</td>\n",
       "      <td>0</td>\n",
       "      <td>0</td>\n",
       "      <td>0</td>\n",
       "      <td>0</td>\n",
       "      <td>...</td>\n",
       "      <td>0</td>\n",
       "      <td>0</td>\n",
       "      <td>2</td>\n",
       "      <td>0</td>\n",
       "      <td>5</td>\n",
       "      <td>26</td>\n",
       "      <td>0.0</td>\n",
       "      <td>1.0</td>\n",
       "      <td>0.0</td>\n",
       "      <td>0.0</td>\n",
       "    </tr>\n",
       "    <tr>\n",
       "      <th>2021-05-13 20:00:00</th>\n",
       "      <td>26.4</td>\n",
       "      <td>24.2</td>\n",
       "      <td>16.1</td>\n",
       "      <td>0.0</td>\n",
       "      <td>0.0</td>\n",
       "      <td>0.0</td>\n",
       "      <td>1</td>\n",
       "      <td>0</td>\n",
       "      <td>0</td>\n",
       "      <td>0</td>\n",
       "      <td>...</td>\n",
       "      <td>0</td>\n",
       "      <td>0</td>\n",
       "      <td>20</td>\n",
       "      <td>0</td>\n",
       "      <td>5</td>\n",
       "      <td>13</td>\n",
       "      <td>0.0</td>\n",
       "      <td>1.0</td>\n",
       "      <td>0.0</td>\n",
       "      <td>0.0</td>\n",
       "    </tr>\n",
       "    <tr>\n",
       "      <th>2020-01-29 16:00:00</th>\n",
       "      <td>8.9</td>\n",
       "      <td>7.5</td>\n",
       "      <td>53.3</td>\n",
       "      <td>2.1</td>\n",
       "      <td>230.0</td>\n",
       "      <td>5.0</td>\n",
       "      <td>0</td>\n",
       "      <td>0</td>\n",
       "      <td>0</td>\n",
       "      <td>0</td>\n",
       "      <td>...</td>\n",
       "      <td>0</td>\n",
       "      <td>1</td>\n",
       "      <td>16</td>\n",
       "      <td>1</td>\n",
       "      <td>1</td>\n",
       "      <td>29</td>\n",
       "      <td>0.0</td>\n",
       "      <td>0.0</td>\n",
       "      <td>0.0</td>\n",
       "      <td>1.0</td>\n",
       "    </tr>\n",
       "    <tr>\n",
       "      <th>2020-07-06 05:00:00</th>\n",
       "      <td>20.7</td>\n",
       "      <td>22.4</td>\n",
       "      <td>59.0</td>\n",
       "      <td>3.1</td>\n",
       "      <td>50.0</td>\n",
       "      <td>0.0</td>\n",
       "      <td>0</td>\n",
       "      <td>0</td>\n",
       "      <td>0</td>\n",
       "      <td>0</td>\n",
       "      <td>...</td>\n",
       "      <td>0</td>\n",
       "      <td>0</td>\n",
       "      <td>5</td>\n",
       "      <td>0</td>\n",
       "      <td>7</td>\n",
       "      <td>6</td>\n",
       "      <td>0.0</td>\n",
       "      <td>0.0</td>\n",
       "      <td>1.0</td>\n",
       "      <td>0.0</td>\n",
       "    </tr>\n",
       "    <tr>\n",
       "      <th>2021-07-02 09:00:00</th>\n",
       "      <td>28.4</td>\n",
       "      <td>29.2</td>\n",
       "      <td>29.7</td>\n",
       "      <td>1.0</td>\n",
       "      <td>20.0</td>\n",
       "      <td>0.0</td>\n",
       "      <td>0</td>\n",
       "      <td>0</td>\n",
       "      <td>0</td>\n",
       "      <td>0</td>\n",
       "      <td>...</td>\n",
       "      <td>0</td>\n",
       "      <td>0</td>\n",
       "      <td>9</td>\n",
       "      <td>3</td>\n",
       "      <td>7</td>\n",
       "      <td>2</td>\n",
       "      <td>0.0</td>\n",
       "      <td>0.0</td>\n",
       "      <td>1.0</td>\n",
       "      <td>0.0</td>\n",
       "    </tr>\n",
       "  </tbody>\n",
       "</table>\n",
       "<p>5 rows × 33 columns</p>\n",
       "</div>"
      ],
      "text/plain": [
       "                     AirTemperature  ComfortTemperature  RelativeHumidity  \\\n",
       "DateTime                                                                    \n",
       "2019-05-26 02:00:00            15.2                15.6              67.0   \n",
       "2021-05-13 20:00:00            26.4                24.2              16.1   \n",
       "2020-01-29 16:00:00             8.9                 7.5              53.3   \n",
       "2020-07-06 05:00:00            20.7                22.4              59.0   \n",
       "2021-07-02 09:00:00            28.4                29.2              29.7   \n",
       "\n",
       "                     WindSpeed  WindDirection  EffectiveCloudCover  \\\n",
       "DateTime                                                             \n",
       "2019-05-26 02:00:00        0.5          220.0                  3.0   \n",
       "2021-05-13 20:00:00        0.0            0.0                  0.0   \n",
       "2020-01-29 16:00:00        2.1          230.0                  5.0   \n",
       "2020-07-06 05:00:00        3.1           50.0                  0.0   \n",
       "2021-07-02 09:00:00        1.0           20.0                  0.0   \n",
       "\n",
       "                     is_holiday  \\\n",
       "DateTime                          \n",
       "2019-05-26 02:00:00           0   \n",
       "2021-05-13 20:00:00           1   \n",
       "2020-01-29 16:00:00           0   \n",
       "2020-07-06 05:00:00           0   \n",
       "2021-07-02 09:00:00           0   \n",
       "\n",
       "                     Commemoration_of_Ataturk_Youth_and_Sports_Day  \\\n",
       "DateTime                                                             \n",
       "2019-05-26 02:00:00                                              0   \n",
       "2021-05-13 20:00:00                                              0   \n",
       "2020-01-29 16:00:00                                              0   \n",
       "2020-07-06 05:00:00                                              0   \n",
       "2021-07-02 09:00:00                                              0   \n",
       "\n",
       "                     Democracy_and_National_Unity_Day  Labour_Day  ...  \\\n",
       "DateTime                                                           ...   \n",
       "2019-05-26 02:00:00                                 0           0  ...   \n",
       "2021-05-13 20:00:00                                 0           0  ...   \n",
       "2020-01-29 16:00:00                                 0           0  ...   \n",
       "2020-07-06 05:00:00                                 0           0  ...   \n",
       "2021-07-02 09:00:00                                 0           0  ...   \n",
       "\n",
       "                     Day_Tuesday  Day_Wednesday  Hour  DayGroup  Month  Day  \\\n",
       "DateTime                                                                      \n",
       "2019-05-26 02:00:00            0              0     2         0      5   26   \n",
       "2021-05-13 20:00:00            0              0    20         0      5   13   \n",
       "2020-01-29 16:00:00            0              1    16         1      1   29   \n",
       "2020-07-06 05:00:00            0              0     5         0      7    6   \n",
       "2021-07-02 09:00:00            0              0     9         3      7    2   \n",
       "\n",
       "                     x0_Autumn  x0_Spring  x0_Summer  x0_Winter  \n",
       "DateTime                                                         \n",
       "2019-05-26 02:00:00        0.0        1.0        0.0        0.0  \n",
       "2021-05-13 20:00:00        0.0        1.0        0.0        0.0  \n",
       "2020-01-29 16:00:00        0.0        0.0        0.0        1.0  \n",
       "2020-07-06 05:00:00        0.0        0.0        1.0        0.0  \n",
       "2021-07-02 09:00:00        0.0        0.0        1.0        0.0  \n",
       "\n",
       "[5 rows x 33 columns]"
      ]
     },
     "execution_count": 604,
     "metadata": {},
     "output_type": "execute_result"
    }
   ],
   "source": [
    "X1_train_encoded = X1_train.drop(\"Season\", axis=1).merge(train_encoded, left_index=True, right_index=True, how='left')\n",
    "X1_val_encoded = X1_val.drop(\"Season\", axis=1).merge(val_encoded, left_index=True, right_index=True, how='left')\n",
    "X1_test_encoded = X1_test.drop(\"Season\", axis=1).merge(test_encoded, left_index=True, right_index=True, how='left')\n",
    "\n",
    "X1_train_encoded.head()"
   ]
  },
  {
   "cell_type": "code",
   "execution_count": 605,
   "metadata": {
    "ExecuteTime": {
     "end_time": "2022-02-27T11:50:41.386335Z",
     "start_time": "2022-02-27T11:50:19.301217Z"
    }
   },
   "outputs": [
    {
     "name": "stdout",
     "output_type": "stream",
     "text": [
      "Prediction started...\n",
      "Model 0 is completed\n",
      "Model 1 is completed\n",
      "Model 2 is completed\n",
      "Model 3 is completed\n",
      "Model 4 is completed\n",
      "Model 5 is completed\n",
      "Prediction is completed...\n"
     ]
    }
   ],
   "source": [
    "model_list = [LGBMRegressor(n_jobs=-1, random_state=42), RandomForestRegressor(n_jobs=-1, random_state=42), XGBRegressor(n_jobs=-1, random_state=42, objective='reg:squarederror'),\n",
    "              ExtraTreesRegressor(random_state=42), GradientBoostingRegressor(random_state=42), BaggingRegressor(random_state=42)\n",
    "             ]\n",
    "\n",
    "train_rmse = []\n",
    "train_mae = []\n",
    "train_r2 = []\n",
    "val_rmse = []\n",
    "val_mae = []\n",
    "val_r2 = []\n",
    "times = []\n",
    "counter = 0\n",
    "\n",
    "print(\"Prediction started...\")\n",
    "for model in model_list:\n",
    "    mod = model\n",
    "    start_time = time.time()\n",
    "    mod.fit(X1_train_encoded, np.ravel(y_train))\n",
    "    end_time = time.time()\n",
    "    train_pred = mod.predict(X1_train_encoded)\n",
    "    val_pred = mod.predict(X1_val_encoded)\n",
    "    \n",
    "    train_rmse.append(mean_squared_error(np.ravel(y_train), train_pred, squared=False))\n",
    "    train_mae.append(mean_absolute_error(np.ravel(y_train), train_pred))\n",
    "    train_r2.append(r2_score(np.ravel(y_train), train_pred))\n",
    "    \n",
    "    val_rmse.append(mean_squared_error(np.ravel(y_val), val_pred, squared=False))\n",
    "    val_mae.append(mean_absolute_error(np.ravel(y_val), val_pred))\n",
    "    val_r2.append(r2_score(np.ravel(y_val), val_pred))\n",
    "\n",
    "    times.append(end_time - start_time)\n",
    "    print(\"Model\",counter,\"is completed\")\n",
    "    counter += 1\n",
    "print(\"Prediction is completed...\")    "
   ]
  },
  {
   "cell_type": "code",
   "execution_count": 606,
   "metadata": {
    "ExecuteTime": {
     "end_time": "2022-02-27T11:51:25.734812Z",
     "start_time": "2022-02-27T11:51:25.551780Z"
    }
   },
   "outputs": [
    {
     "data": {
      "text/html": [
       "<div>\n",
       "<style scoped>\n",
       "    .dataframe tbody tr th:only-of-type {\n",
       "        vertical-align: middle;\n",
       "    }\n",
       "\n",
       "    .dataframe tbody tr th {\n",
       "        vertical-align: top;\n",
       "    }\n",
       "\n",
       "    .dataframe thead th {\n",
       "        text-align: right;\n",
       "    }\n",
       "</style>\n",
       "<table border=\"1\" class=\"dataframe\">\n",
       "  <thead>\n",
       "    <tr style=\"text-align: right;\">\n",
       "      <th></th>\n",
       "      <th>model</th>\n",
       "      <th>train_rmse</th>\n",
       "      <th>train_mae</th>\n",
       "      <th>train_r2</th>\n",
       "      <th>val_rmse</th>\n",
       "      <th>val_mae</th>\n",
       "      <th>val_r2</th>\n",
       "      <th>duration</th>\n",
       "    </tr>\n",
       "  </thead>\n",
       "  <tbody>\n",
       "    <tr>\n",
       "      <th>0</th>\n",
       "      <td>LGBMRegressor(random_state=42)</td>\n",
       "      <td>1.877710e+01</td>\n",
       "      <td>1.038774e+01</td>\n",
       "      <td>0.977647</td>\n",
       "      <td>22.508271</td>\n",
       "      <td>12.189555</td>\n",
       "      <td>0.969297</td>\n",
       "      <td>0.362030</td>\n",
       "    </tr>\n",
       "    <tr>\n",
       "      <th>3</th>\n",
       "      <td>(ExtraTreeRegressor(random_state=1608637542), ...</td>\n",
       "      <td>7.199181e-10</td>\n",
       "      <td>2.474077e-11</td>\n",
       "      <td>1.000000</td>\n",
       "      <td>22.816594</td>\n",
       "      <td>11.334844</td>\n",
       "      <td>0.968450</td>\n",
       "      <td>9.257015</td>\n",
       "    </tr>\n",
       "    <tr>\n",
       "      <th>1</th>\n",
       "      <td>(DecisionTreeRegressor(max_features='auto', ra...</td>\n",
       "      <td>8.551478e+00</td>\n",
       "      <td>4.284850e+00</td>\n",
       "      <td>0.995364</td>\n",
       "      <td>23.603207</td>\n",
       "      <td>11.898321</td>\n",
       "      <td>0.966237</td>\n",
       "      <td>2.734191</td>\n",
       "    </tr>\n",
       "    <tr>\n",
       "      <th>5</th>\n",
       "      <td>(DecisionTreeRegressor(random_state=1952926171...</td>\n",
       "      <td>1.026137e+01</td>\n",
       "      <td>4.784698e+00</td>\n",
       "      <td>0.993325</td>\n",
       "      <td>24.547830</td>\n",
       "      <td>12.400991</td>\n",
       "      <td>0.963480</td>\n",
       "      <td>1.337974</td>\n",
       "    </tr>\n",
       "    <tr>\n",
       "      <th>4</th>\n",
       "      <td>([DecisionTreeRegressor(criterion='friedman_ms...</td>\n",
       "      <td>2.609736e+01</td>\n",
       "      <td>1.601419e+01</td>\n",
       "      <td>0.956822</td>\n",
       "      <td>27.215828</td>\n",
       "      <td>16.752769</td>\n",
       "      <td>0.955111</td>\n",
       "      <td>3.126003</td>\n",
       "    </tr>\n",
       "    <tr>\n",
       "      <th>2</th>\n",
       "      <td>XGBRegressor(n_jobs=-1, objective='reg:squared...</td>\n",
       "      <td>2.605515e+01</td>\n",
       "      <td>1.579754e+01</td>\n",
       "      <td>0.956961</td>\n",
       "      <td>27.279085</td>\n",
       "      <td>16.609634</td>\n",
       "      <td>0.954902</td>\n",
       "      <td>3.609031</td>\n",
       "    </tr>\n",
       "  </tbody>\n",
       "</table>\n",
       "</div>"
      ],
      "text/plain": [
       "                                               model    train_rmse  \\\n",
       "0                     LGBMRegressor(random_state=42)  1.877710e+01   \n",
       "3  (ExtraTreeRegressor(random_state=1608637542), ...  7.199181e-10   \n",
       "1  (DecisionTreeRegressor(max_features='auto', ra...  8.551478e+00   \n",
       "5  (DecisionTreeRegressor(random_state=1952926171...  1.026137e+01   \n",
       "4  ([DecisionTreeRegressor(criterion='friedman_ms...  2.609736e+01   \n",
       "2  XGBRegressor(n_jobs=-1, objective='reg:squared...  2.605515e+01   \n",
       "\n",
       "      train_mae  train_r2   val_rmse    val_mae    val_r2  duration  \n",
       "0  1.038774e+01  0.977647  22.508271  12.189555  0.969297  0.362030  \n",
       "3  2.474077e-11  1.000000  22.816594  11.334844  0.968450  9.257015  \n",
       "1  4.284850e+00  0.995364  23.603207  11.898321  0.966237  2.734191  \n",
       "5  4.784698e+00  0.993325  24.547830  12.400991  0.963480  1.337974  \n",
       "4  1.601419e+01  0.956822  27.215828  16.752769  0.955111  3.126003  \n",
       "2  1.579754e+01  0.956961  27.279085  16.609634  0.954902  3.609031  "
      ]
     },
     "execution_count": 606,
     "metadata": {},
     "output_type": "execute_result"
    }
   ],
   "source": [
    "modelsdf = pd.DataFrame(\n",
    "    {\n",
    "     'model': model_list,\n",
    "     'train_rmse': train_rmse,\n",
    "     'train_mae': train_mae,\n",
    "     'train_r2': train_r2,\n",
    "     'val_rmse': val_rmse,\n",
    "     'val_mae': val_mae,\n",
    "     'val_r2': val_r2,   \n",
    "     'duration': times\n",
    "    })\n",
    "\n",
    "modelsdf.sort_values(by='val_rmse', ascending=True)"
   ]
  },
  {
   "cell_type": "code",
   "execution_count": 323,
   "metadata": {
    "ExecuteTime": {
     "end_time": "2022-02-25T20:34:20.826085Z",
     "start_time": "2022-02-25T20:34:20.810083Z"
    }
   },
   "outputs": [],
   "source": [
    "sunset_sunrise = pd.read_csv('ankara_monthly_sunrise_sunset.csv', parse_dates=['SunRise', 'SunSet'])\n",
    "sunset_sunrise[\"Sunrise_hour\"] = sunset_sunrise[\"SunRise\"].dt.hour\n",
    "sunset_sunrise[\"Sunset_hour\"] = sunset_sunrise[\"SunSet\"].dt.hour"
   ]
  },
  {
   "cell_type": "markdown",
   "metadata": {},
   "source": [
    "**Parameter Tuning for the Best Performing Algorithm**"
   ]
  },
  {
   "cell_type": "code",
   "execution_count": 607,
   "metadata": {
    "ExecuteTime": {
     "end_time": "2022-02-27T11:51:46.890853Z",
     "start_time": "2022-02-27T11:51:46.814816Z"
    }
   },
   "outputs": [
    {
     "data": {
      "text/plain": [
       "Index(['AirTemperature', 'ComfortTemperature', 'RelativeHumidity', 'WindSpeed',\n",
       "       'WindDirection', 'EffectiveCloudCover', 'is_holiday',\n",
       "       'Commemoration_of_Ataturk_Youth_and_Sports_Day',\n",
       "       'Democracy_and_National_Unity_Day', 'Labour_Day',\n",
       "       'National_Sovereignty_and_Childrens_Day', 'New_Years_Day',\n",
       "       'Ramadan_Feast', 'Ramadan_Feast_Holiday', 'Republic_Day',\n",
       "       'Sacrifice_Feast', 'Sacrifice_Feast_Holiday', 'Victory_Day',\n",
       "       'Day_Friday', 'Day_Monday', 'Day_Saturday', 'Day_Sunday',\n",
       "       'Day_Thursday', 'Day_Tuesday', 'Day_Wednesday', 'Hour', 'DayGroup',\n",
       "       'Month', 'Day', 'x0_Autumn', 'x0_Spring', 'x0_Summer', 'x0_Winter'],\n",
       "      dtype='object')"
      ]
     },
     "execution_count": 607,
     "metadata": {},
     "output_type": "execute_result"
    }
   ],
   "source": [
    "X1_train_encoded.columns"
   ]
  },
  {
   "cell_type": "code",
   "execution_count": 608,
   "metadata": {
    "ExecuteTime": {
     "end_time": "2022-02-27T11:58:07.819442Z",
     "start_time": "2022-02-27T11:51:52.683828Z"
    }
   },
   "outputs": [
    {
     "name": "stdout",
     "output_type": "stream",
     "text": [
      "Fitting 10 folds for each of 162 candidates, totalling 1620 fits\n"
     ]
    },
    {
     "name": "stderr",
     "output_type": "stream",
     "text": [
      "[Parallel(n_jobs=-1)]: Using backend LokyBackend with 8 concurrent workers.\n",
      "[Parallel(n_jobs=-1)]: Done  25 tasks      | elapsed:   13.6s\n",
      "[Parallel(n_jobs=-1)]: Done 146 tasks      | elapsed:   40.1s\n",
      "[Parallel(n_jobs=-1)]: Done 349 tasks      | elapsed:  1.3min\n",
      "[Parallel(n_jobs=-1)]: Done 632 tasks      | elapsed:  2.4min\n",
      "[Parallel(n_jobs=-1)]: Done 997 tasks      | elapsed:  3.7min\n",
      "[Parallel(n_jobs=-1)]: Done 1442 tasks      | elapsed:  5.4min\n",
      "[Parallel(n_jobs=-1)]: Done 1620 out of 1620 | elapsed:  6.2min finished\n"
     ]
    },
    {
     "name": "stdout",
     "output_type": "stream",
     "text": [
      "{'boosting_type': 'gbdt', 'learning_rate': 0.1, 'max_depth': 30, 'min_child_samples': 5, 'min_split_gain': 0.001, 'n_estimators': 250, 'num_leaves': 100}\n",
      "Train Set RMSE: 6.645599723462448\n",
      "Train Set MAE: 3.7452072830187673\n",
      "Train Set R2: 0.9972001214653519\n",
      "\n",
      "Val Set RMSE: 19.732556475373833\n",
      "Val Set MAE: 10.162215029626307\n",
      "Val Set R2: 0.976402462968568\n"
     ]
    }
   ],
   "source": [
    "lgbm1 = LGBMRegressor(n_jobs=-1, random_state=42, n_estimators=100)\n",
    "\n",
    "params = {\n",
    "    \"boosting_type\": ['gbdt'],\n",
    "    \"n_estimators\": [150, 200, 250],\n",
    "    \"min_split_gain\": [0.0, 0.0001, 0.001],\n",
    "    \"min_child_samples\":[5, 10],\n",
    "    \"max_depth\": [15, 30, 50],\n",
    "    \"learning_rate\": [0.1],\n",
    "    \"num_leaves\": [40, 70, 100]   \n",
    "}\n",
    "\n",
    "\n",
    "#define mse and set greater_is_better=False\n",
    "mse = make_scorer(mean_squared_error,greater_is_better=False)\n",
    "\n",
    "grid1 = GridSearchCV(lgbm1, param_grid=params, cv=10, n_jobs=-1, scoring=mse, verbose=2)\n",
    "grid1.fit(X1_train_encoded, y_train)\n",
    "\n",
    "print(grid1.best_params_)\n",
    "\n",
    "y_train_grid1 = grid1.predict(X1_train_encoded)\n",
    "y_val_grid1 = grid1.predict(X1_val_encoded)\n",
    "\n",
    "print(\"Train Set RMSE:\", mean_squared_error(y_train, y_train_grid1, squared=False))\n",
    "print(\"Train Set MAE:\", mean_absolute_error(y_train, y_train_grid1))\n",
    "print(\"Train Set R2:\", r2_score(y_train, y_train_grid1))\n",
    "\n",
    "print()\n",
    "print(\"Val Set RMSE:\", mean_squared_error(y_val, y_val_grid1, squared=False))\n",
    "print(\"Val Set MAE:\", mean_absolute_error(y_val, y_val_grid1))\n",
    "print(\"Val Set R2:\", r2_score(y_val, y_val_grid1))"
   ]
  },
  {
   "cell_type": "code",
   "execution_count": 615,
   "metadata": {
    "ExecuteTime": {
     "end_time": "2022-02-27T11:59:04.041532Z",
     "start_time": "2022-02-27T11:59:03.936534Z"
    }
   },
   "outputs": [
    {
     "name": "stdout",
     "output_type": "stream",
     "text": [
      "Train Set RMSE: 6.624749168899182\n",
      "Train Set MAE: 3.5217521217850325\n",
      "Train Set R2: 0.9972176631291771\n",
      "\n",
      "Val Set RMSE: 19.71607317283844\n",
      "Val Set MAE: 9.877977370189335\n",
      "Val Set R2: 0.9764418702176195\n"
     ]
    }
   ],
   "source": [
    "#v1 SUBMIT ET\n",
    "y_train_grid1adj = np.array([total_capacity*0.98 if i > total_capacity else 0 if i < 0 else i for i in y_train_grid1])\n",
    "y_val_grid1adj = np.array([total_capacity*0.98 if i > total_capacity else 0 if i < 0 else i for i in y_val_grid1])\n",
    "\n",
    "y_train_grid1adj = [pred if  6 <= hour <= 19 else 0 for hour, pred in zip(y_train.index.hour, y_train_grid1adj)]\n",
    "y_val_grid1adj = [pred if  6 <= hour <= 19 else 0 for hour, pred in zip(y_val.index.hour, y_val_grid1adj)]\n",
    "\n",
    "print(\"Train Set RMSE:\", mean_squared_error(y_train, y_train_grid1adj, squared=False))\n",
    "print(\"Train Set MAE:\", mean_absolute_error(y_train, y_train_grid1adj))\n",
    "print(\"Train Set R2:\", r2_score(y_train, y_train_grid1adj))\n",
    "\n",
    "print()\n",
    "print(\"Val Set RMSE:\", mean_squared_error(y_val, y_val_grid1adj, squared=False))\n",
    "print(\"Val Set MAE:\", mean_absolute_error(y_val, y_val_grid1adj))\n",
    "print(\"Val Set R2:\", r2_score(y_val, y_val_grid1adj))"
   ]
  },
  {
   "cell_type": "code",
   "execution_count": 623,
   "metadata": {
    "ExecuteTime": {
     "end_time": "2022-02-27T12:08:06.904082Z",
     "start_time": "2022-02-27T12:07:44.156065Z"
    }
   },
   "outputs": [
    {
     "name": "stdout",
     "output_type": "stream",
     "text": [
      "Train Set RMSE: 6.63290374713814\n",
      "Train Set MAE: 3.622052851555746\n",
      "Train Set R2: 0.9972108092099624\n",
      "\n",
      "Val Set RMSE: 19.72138100116965\n",
      "Val Set MAE: 9.999989210502697\n",
      "Val Set R2: 0.9764291841883942\n"
     ]
    }
   ],
   "source": [
    "#v2 \n",
    "y_train_grid1adj = np.array([total_capacity*0.98 if i > total_capacity else 0 if i < 0 else i for i in y_train_grid1])\n",
    "y_val_grid1adj = np.array([total_capacity*0.98 if i > total_capacity else 0 if i < 0 else i for i in y_val_grid1])\n",
    "\n",
    "y_train_grid1adj2 = []\n",
    "y_val_grid1adj2 = []\n",
    "\n",
    "for month, hour, generation in zip(y_train.index.month, y_train.index.hour, y_train_grid1adj):\n",
    "    sr = sunset_sunrise[sunset_sunrise[\"Month\"] == month][\"Sunrise_hour\"].values[0]\n",
    "    ss = sunset_sunrise[sunset_sunrise[\"Month\"] == month][\"Sunset_hour\"].values[0]\n",
    "    res = generation\n",
    "    if hour >= sr & hour <= ss:\n",
    "        res = generation\n",
    "    else:\n",
    "        res = generation * 0.0\n",
    "    y_train_grid1adj2.append(res)\n",
    "    \n",
    "for month, hour, generation in zip(y_val.index.month, y_val.index.hour, y_val_grid1adj):\n",
    "    sr = sunset_sunrise[sunset_sunrise[\"Month\"] == month][\"Sunrise_hour\"].values[0]\n",
    "    ss = sunset_sunrise[sunset_sunrise[\"Month\"] == month][\"Sunset_hour\"].values[0]\n",
    "    res = generation\n",
    "    if hour >= sr & hour <= ss:\n",
    "        res = generation\n",
    "    else:\n",
    "        res = generation * 0.0\n",
    "    y_val_grid1adj2.append(res)\n",
    "\n",
    "\n",
    "print(\"Train Set RMSE:\", mean_squared_error(y_train, y_train_grid1adj2, squared=False))\n",
    "print(\"Train Set MAE:\", mean_absolute_error(y_train, y_train_grid1adj2))\n",
    "print(\"Train Set R2:\", r2_score(y_train, y_train_grid1adj2))\n",
    "\n",
    "print()\n",
    "print(\"Val Set RMSE:\", mean_squared_error(y_val, y_val_grid1adj2, squared=False))\n",
    "print(\"Val Set MAE:\", mean_absolute_error(y_val, y_val_grid1adj2))\n",
    "print(\"Val Set R2:\", r2_score(y_val, y_val_grid1adj2))"
   ]
  },
  {
   "cell_type": "code",
   "execution_count": 624,
   "metadata": {
    "ExecuteTime": {
     "end_time": "2022-02-27T12:08:10.231948Z",
     "start_time": "2022-02-27T12:08:10.194950Z"
    }
   },
   "outputs": [],
   "source": [
    "#Predict the test data with v1 adjustment\n",
    "y_test_grid1 = grid1.predict(X1_test_encoded)\n",
    "y_test_grid1adj = np.array([total_capacity*0.98 if i > total_capacity else 0 if i < 0 else i for i in y_test_grid1])\n",
    "y_test_grid1adj = [pred if  6 <= hour <= 19 else 0 for hour, pred in zip(X1_test.index.hour, y_test_grid1adj)]"
   ]
  },
  {
   "cell_type": "code",
   "execution_count": 625,
   "metadata": {
    "ExecuteTime": {
     "end_time": "2022-02-27T12:08:13.524558Z",
     "start_time": "2022-02-27T12:08:13.510559Z"
    }
   },
   "outputs": [
    {
     "name": "stdout",
     "output_type": "stream",
     "text": [
      "Max: 298.0960750054518\n",
      "Min: -6.6746536192917025\n"
     ]
    }
   ],
   "source": [
    "print(\"Max:\", y_test_grid1.max())\n",
    "print(\"Min:\", y_test_grid1.min())"
   ]
  },
  {
   "cell_type": "code",
   "execution_count": 626,
   "metadata": {
    "ExecuteTime": {
     "end_time": "2022-02-27T12:08:14.678976Z",
     "start_time": "2022-02-27T12:08:14.666014Z"
    }
   },
   "outputs": [
    {
     "name": "stdout",
     "output_type": "stream",
     "text": [
      "Max: 298.0960750054518\n",
      "Min: 0\n"
     ]
    }
   ],
   "source": [
    "print(\"Max:\", max(y_test_grid1adj))\n",
    "print(\"Min:\", min(y_test_grid1adj))"
   ]
  },
  {
   "cell_type": "code",
   "execution_count": 627,
   "metadata": {
    "ExecuteTime": {
     "end_time": "2022-02-27T12:08:21.401995Z",
     "start_time": "2022-02-27T12:08:21.357994Z"
    }
   },
   "outputs": [],
   "source": [
    "y_test_grid1adj_df = pd.DataFrame(y_test_grid1adj, index=X1_test.index)\n",
    "y_test_grid1adj_df.columns = [\"Generation\"]\n",
    "y_test_grid1adj_df.index = y_test_grid1adj_df.index.strftime(\"%d%b%Y %-H:%M:%S\")\n",
    "sample_submission1 = sample_submission.drop(\"Generation\", axis=1)\n",
    "sample_submission1[\"Generation\"] = y_test_grid1adj_df[\"Generation\"].values\n",
    "sample_submission1.to_csv('approach1_predictions.csv', index=False)"
   ]
  },
  {
   "cell_type": "markdown",
   "metadata": {},
   "source": [
    "**Approach 3: No Time Series Cross Validation, Continuous Features Scaling, LGBM with Hyperparameter Tuning, Drop Missing Columns**"
   ]
  },
  {
   "cell_type": "code",
   "execution_count": 628,
   "metadata": {
    "ExecuteTime": {
     "end_time": "2022-02-27T12:14:15.722406Z",
     "start_time": "2022-02-27T12:08:30.468859Z"
    }
   },
   "outputs": [
    {
     "name": "stdout",
     "output_type": "stream",
     "text": [
      "Fitting 10 folds for each of 162 candidates, totalling 1620 fits\n"
     ]
    },
    {
     "name": "stderr",
     "output_type": "stream",
     "text": [
      "[Parallel(n_jobs=-1)]: Using backend LokyBackend with 8 concurrent workers.\n",
      "[Parallel(n_jobs=-1)]: Done  25 tasks      | elapsed:    8.2s\n",
      "[Parallel(n_jobs=-1)]: Done 146 tasks      | elapsed:   39.0s\n",
      "[Parallel(n_jobs=-1)]: Done 349 tasks      | elapsed:  1.5min\n",
      "[Parallel(n_jobs=-1)]: Done 632 tasks      | elapsed:  2.4min\n",
      "[Parallel(n_jobs=-1)]: Done 997 tasks      | elapsed:  3.6min\n",
      "[Parallel(n_jobs=-1)]: Done 1442 tasks      | elapsed:  5.1min\n",
      "[Parallel(n_jobs=-1)]: Done 1620 out of 1620 | elapsed:  5.7min finished\n",
      "c:\\python37\\lib\\site-packages\\sklearn\\utils\\validation.py:72: DataConversionWarning: A column-vector y was passed when a 1d array was expected. Please change the shape of y to (n_samples, ), for example using ravel().\n",
      "  return f(**kwargs)\n"
     ]
    },
    {
     "name": "stdout",
     "output_type": "stream",
     "text": [
      "{'lgbm__boosting_type': 'gbdt', 'lgbm__learning_rate': 0.1, 'lgbm__max_depth': 50, 'lgbm__min_child_samples': 5, 'lgbm__min_split_gain': 0.0, 'lgbm__n_estimators': 250, 'lgbm__num_leaves': 100}\n",
      "Train Set RMSE: 6.506655983994964\n",
      "Train Set MAE: 3.6980706213213503\n",
      "Train Set R2: 0.9973159752056044\n",
      "\n",
      "Val Set RMSE: 19.47081044431672\n",
      "Val Set MAE: 10.014957236068836\n",
      "Val Set R2: 0.9770243384578311\n"
     ]
    }
   ],
   "source": [
    "contiuous = ['AirTemperature', 'ComfortTemperature', 'RelativeHumidity', 'WindSpeed', \n",
    "        'WindDirection', 'EffectiveCloudCover']\n",
    "\n",
    "scaler = Pipeline(steps=[\n",
    "        ('standard_scaler', StandardScaler())])\n",
    "\n",
    "preprocessor = ColumnTransformer(\n",
    "        remainder='passthrough', #passthough features not listed\n",
    "        transformers=[\n",
    "            ('scaler',  scaler, contiuous)\n",
    "        ])\n",
    "\n",
    "lgbm2 = LGBMRegressor(n_jobs=-1, random_state=42, n_estimators=100)\n",
    "\n",
    "params = {\n",
    "    \"lgbm__boosting_type\": ['gbdt'],\n",
    "    \"lgbm__n_estimators\": [150, 200, 250],\n",
    "    \"lgbm__min_split_gain\": [0.0, 0.0001, 0.001],\n",
    "    \"lgbm__min_child_samples\":[5, 10],\n",
    "    \"lgbm__max_depth\": [15, 30, 50],\n",
    "    \"lgbm__learning_rate\": [0.1],\n",
    "    \"lgbm__num_leaves\": [40, 70, 100]   \n",
    "}\n",
    "\n",
    "pipe1 = Pipeline(steps=([('preprocessor', preprocessor), ('lgbm', lgbm2)]))\n",
    "\n",
    "#define mse and set greater_is_better=False\n",
    "mse = make_scorer(mean_squared_error,greater_is_better=False)\n",
    "\n",
    "grid2 = GridSearchCV(pipe1, param_grid=params, cv=10, n_jobs=-1, scoring=mse, verbose=2)\n",
    "grid2.fit(X1_train_encoded, y_train)\n",
    "\n",
    "print(grid2.best_params_)\n",
    "\n",
    "y_train_grid2 = grid2.predict(X1_train_encoded)\n",
    "y_val_grid2 = grid2.predict(X1_val_encoded)\n",
    "\n",
    "print(\"Train Set RMSE:\", mean_squared_error(y_train, y_train_grid2, squared=False))\n",
    "print(\"Train Set MAE:\", mean_absolute_error(y_train, y_train_grid2))\n",
    "print(\"Train Set R2:\", r2_score(y_train, y_train_grid2))\n",
    "\n",
    "print()\n",
    "print(\"Val Set RMSE:\", mean_squared_error(y_val, y_val_grid2, squared=False))\n",
    "print(\"Val Set MAE:\", mean_absolute_error(y_val, y_val_grid2))\n",
    "print(\"Val Set R2:\", r2_score(y_val, y_val_grid2))"
   ]
  },
  {
   "cell_type": "code",
   "execution_count": 632,
   "metadata": {
    "ExecuteTime": {
     "end_time": "2022-02-27T12:17:08.888755Z",
     "start_time": "2022-02-27T12:17:08.820705Z"
    }
   },
   "outputs": [
    {
     "name": "stdout",
     "output_type": "stream",
     "text": [
      "Train Set RMSE: 6.484791412177272\n",
      "Train Set MAE: 3.4672339187569605\n",
      "Train Set R2: 0.997333983365918\n",
      "\n",
      "Val Set RMSE: 19.453702662463876\n",
      "Val Set MAE: 9.718125394512985\n",
      "Val Set R2: 0.977064695270606\n"
     ]
    }
   ],
   "source": [
    "#SUBMIT ET\n",
    "total_capacity = 523.005001\n",
    "y_train_grid2adj = np.array([total_capacity*0.98 if i > total_capacity else 0 if i < 0 else i for i in y_train_grid2])\n",
    "y_val_grid2adj = np.array([total_capacity*0.98 if i > total_capacity else 0 if i < 0 else i for i in y_val_grid2])\n",
    "\n",
    "y_train_grid2adj = [pred if  6 <= hour <= 19 else 0 for hour, pred in zip(y_train.index.hour, y_train_grid2adj)]\n",
    "y_val_grid2adj = [pred if  6 <= hour <= 19 else 0 for hour, pred in zip(y_val.index.hour, y_val_grid2adj)]\n",
    "\n",
    "print(\"Train Set RMSE:\", mean_squared_error(y_train, y_train_grid2adj, squared=False))\n",
    "print(\"Train Set MAE:\", mean_absolute_error(y_train, y_train_grid2adj))\n",
    "print(\"Train Set R2:\", r2_score(y_train, y_train_grid2adj))\n",
    "\n",
    "print()\n",
    "print(\"Val Set RMSE:\", mean_squared_error(y_val, y_val_grid2adj, squared=False))\n",
    "print(\"Val Set MAE:\", mean_absolute_error(y_val, y_val_grid2adj))\n",
    "print(\"Val Set R2:\", r2_score(y_val, y_val_grid2adj))"
   ]
  },
  {
   "cell_type": "code",
   "execution_count": 696,
   "metadata": {
    "ExecuteTime": {
     "end_time": "2022-02-27T15:28:43.429598Z",
     "start_time": "2022-02-27T15:28:43.369635Z"
    }
   },
   "outputs": [],
   "source": [
    "#Predict the test data\n",
    "y_test_grid2 = grid2.predict(X1_test_encoded)\n",
    "y_test_grid2adj = np.array([total_capacity*0.98 if i > total_capacity else 0 if i < 0 else i for i in y_test_grid2])\n",
    "y_test_grid2adj = [pred if  6 <= hour <= 19 else 0 for hour, pred in zip(X1_test_encoded.index.hour, y_test_grid2adj)]\n",
    "\n",
    "\n",
    "y_test_grid2adj_df = pd.DataFrame(y_test_grid2adj, index=X1_test_encoded.index)\n",
    "y_test_grid2adj_df.columns = [\"Generation\"]\n",
    "y_test_grid2adj_df.index = y_test_grid2adj_df.index.strftime(\"%d%b%Y %-H:%M:%S\")\n",
    "sample_submission2 = sample_submission.drop(\"Generation\", axis=1)\n",
    "sample_submission2[\"Generation\"] = y_test_grid2adj_df[\"Generation\"].values\n",
    "sample_submission2.to_csv('approach3_predictions.csv', index=False)"
   ]
  },
  {
   "cell_type": "markdown",
   "metadata": {},
   "source": [
    "**Error Investigation**"
   ]
  },
  {
   "cell_type": "code",
   "execution_count": 634,
   "metadata": {
    "ExecuteTime": {
     "end_time": "2022-02-27T12:17:21.264337Z",
     "start_time": "2022-02-27T12:17:21.236303Z"
    }
   },
   "outputs": [
    {
     "data": {
      "text/html": [
       "<div>\n",
       "<style scoped>\n",
       "    .dataframe tbody tr th:only-of-type {\n",
       "        vertical-align: middle;\n",
       "    }\n",
       "\n",
       "    .dataframe tbody tr th {\n",
       "        vertical-align: top;\n",
       "    }\n",
       "\n",
       "    .dataframe thead th {\n",
       "        text-align: right;\n",
       "    }\n",
       "</style>\n",
       "<table border=\"1\" class=\"dataframe\">\n",
       "  <thead>\n",
       "    <tr style=\"text-align: right;\">\n",
       "      <th></th>\n",
       "      <th>Generation</th>\n",
       "      <th>prediction</th>\n",
       "      <th>Error</th>\n",
       "      <th>AbsError</th>\n",
       "      <th>PercError</th>\n",
       "    </tr>\n",
       "    <tr>\n",
       "      <th>DateTime</th>\n",
       "      <th></th>\n",
       "      <th></th>\n",
       "      <th></th>\n",
       "      <th></th>\n",
       "      <th></th>\n",
       "    </tr>\n",
       "  </thead>\n",
       "  <tbody>\n",
       "    <tr>\n",
       "      <th>2020-07-29 02:00:00</th>\n",
       "      <td>0.000000</td>\n",
       "      <td>0.000000</td>\n",
       "      <td>1.000000e-13</td>\n",
       "      <td>1.000000e-13</td>\n",
       "      <td>1.000000</td>\n",
       "    </tr>\n",
       "    <tr>\n",
       "      <th>2021-10-28 19:00:00</th>\n",
       "      <td>0.000429</td>\n",
       "      <td>0.000000</td>\n",
       "      <td>-4.290000e-04</td>\n",
       "      <td>4.290000e-04</td>\n",
       "      <td>1.000000</td>\n",
       "    </tr>\n",
       "    <tr>\n",
       "      <th>2019-03-03 15:00:00</th>\n",
       "      <td>169.073239</td>\n",
       "      <td>226.642047</td>\n",
       "      <td>5.756881e+01</td>\n",
       "      <td>5.756881e+01</td>\n",
       "      <td>0.340496</td>\n",
       "    </tr>\n",
       "    <tr>\n",
       "      <th>2019-12-07 18:00:00</th>\n",
       "      <td>0.000000</td>\n",
       "      <td>0.000000</td>\n",
       "      <td>1.000000e-13</td>\n",
       "      <td>1.000000e-13</td>\n",
       "      <td>1.000000</td>\n",
       "    </tr>\n",
       "    <tr>\n",
       "      <th>2019-07-15 19:00:00</th>\n",
       "      <td>12.930809</td>\n",
       "      <td>11.211839</td>\n",
       "      <td>-1.718970e+00</td>\n",
       "      <td>1.718970e+00</td>\n",
       "      <td>0.132936</td>\n",
       "    </tr>\n",
       "    <tr>\n",
       "      <th>...</th>\n",
       "      <td>...</td>\n",
       "      <td>...</td>\n",
       "      <td>...</td>\n",
       "      <td>...</td>\n",
       "      <td>...</td>\n",
       "    </tr>\n",
       "    <tr>\n",
       "      <th>2020-12-25 00:00:00</th>\n",
       "      <td>0.001202</td>\n",
       "      <td>0.000000</td>\n",
       "      <td>-1.202000e-03</td>\n",
       "      <td>1.202000e-03</td>\n",
       "      <td>1.000000</td>\n",
       "    </tr>\n",
       "    <tr>\n",
       "      <th>2021-02-15 01:00:00</th>\n",
       "      <td>0.004301</td>\n",
       "      <td>0.000000</td>\n",
       "      <td>-4.301000e-03</td>\n",
       "      <td>4.301000e-03</td>\n",
       "      <td>1.000000</td>\n",
       "    </tr>\n",
       "    <tr>\n",
       "      <th>2020-09-06 19:00:00</th>\n",
       "      <td>0.163590</td>\n",
       "      <td>1.494993</td>\n",
       "      <td>1.331403e+00</td>\n",
       "      <td>1.331403e+00</td>\n",
       "      <td>8.138641</td>\n",
       "    </tr>\n",
       "    <tr>\n",
       "      <th>2020-04-07 23:00:00</th>\n",
       "      <td>0.000008</td>\n",
       "      <td>0.000000</td>\n",
       "      <td>-8.000000e-06</td>\n",
       "      <td>8.000000e-06</td>\n",
       "      <td>1.000000</td>\n",
       "    </tr>\n",
       "    <tr>\n",
       "      <th>2021-08-04 12:00:00</th>\n",
       "      <td>407.940918</td>\n",
       "      <td>414.427553</td>\n",
       "      <td>6.486634e+00</td>\n",
       "      <td>6.486634e+00</td>\n",
       "      <td>0.015901</td>\n",
       "    </tr>\n",
       "  </tbody>\n",
       "</table>\n",
       "<p>5112 rows × 5 columns</p>\n",
       "</div>"
      ],
      "text/plain": [
       "                     Generation  prediction         Error      AbsError  \\\n",
       "DateTime                                                                  \n",
       "2020-07-29 02:00:00    0.000000    0.000000  1.000000e-13  1.000000e-13   \n",
       "2021-10-28 19:00:00    0.000429    0.000000 -4.290000e-04  4.290000e-04   \n",
       "2019-03-03 15:00:00  169.073239  226.642047  5.756881e+01  5.756881e+01   \n",
       "2019-12-07 18:00:00    0.000000    0.000000  1.000000e-13  1.000000e-13   \n",
       "2019-07-15 19:00:00   12.930809   11.211839 -1.718970e+00  1.718970e+00   \n",
       "...                         ...         ...           ...           ...   \n",
       "2020-12-25 00:00:00    0.001202    0.000000 -1.202000e-03  1.202000e-03   \n",
       "2021-02-15 01:00:00    0.004301    0.000000 -4.301000e-03  4.301000e-03   \n",
       "2020-09-06 19:00:00    0.163590    1.494993  1.331403e+00  1.331403e+00   \n",
       "2020-04-07 23:00:00    0.000008    0.000000 -8.000000e-06  8.000000e-06   \n",
       "2021-08-04 12:00:00  407.940918  414.427553  6.486634e+00  6.486634e+00   \n",
       "\n",
       "                     PercError  \n",
       "DateTime                        \n",
       "2020-07-29 02:00:00   1.000000  \n",
       "2021-10-28 19:00:00   1.000000  \n",
       "2019-03-03 15:00:00   0.340496  \n",
       "2019-12-07 18:00:00   1.000000  \n",
       "2019-07-15 19:00:00   0.132936  \n",
       "...                        ...  \n",
       "2020-12-25 00:00:00   1.000000  \n",
       "2021-02-15 01:00:00   1.000000  \n",
       "2020-09-06 19:00:00   8.138641  \n",
       "2020-04-07 23:00:00   1.000000  \n",
       "2021-08-04 12:00:00   0.015901  \n",
       "\n",
       "[5112 rows x 5 columns]"
      ]
     },
     "execution_count": 634,
     "metadata": {},
     "output_type": "execute_result"
    }
   ],
   "source": [
    "validation_error= y_val.copy()\n",
    "validation_error[\"prediction\"] = y_val_grid2adj\n",
    "validation_error[\"Error\"] = validation_error[\"prediction\"] - validation_error[\"Generation\"] +0.0000000000001\n",
    "validation_error[\"AbsError\"] = abs(validation_error[\"prediction\"] - validation_error[\"Generation\"]+0.0000000000001)\n",
    "validation_error[\"PercError\"] = (validation_error[\"AbsError\"] / (validation_error[\"Generation\"]+0.0000000000001)) \n",
    "validation_error"
   ]
  },
  {
   "cell_type": "code",
   "execution_count": 635,
   "metadata": {
    "ExecuteTime": {
     "end_time": "2022-02-27T12:17:27.452629Z",
     "start_time": "2022-02-27T12:17:27.239602Z"
    }
   },
   "outputs": [
    {
     "data": {
      "image/png": "[encoded data removed]",
      "text/plain": [
       "<Figure size 720x576 with 1 Axes>"
      ]
     },
     "metadata": {
      "needs_background": "light"
     },
     "output_type": "display_data"
    }
   ],
   "source": [
    "plt.figure(figsize=(10, 8))\n",
    "validation_error[\"PercError\"].plot();"
   ]
  },
  {
   "cell_type": "code",
   "execution_count": 524,
   "metadata": {
    "ExecuteTime": {
     "end_time": "2022-02-26T12:08:18.293227Z",
     "start_time": "2022-02-26T12:08:17.705233Z"
    }
   },
   "outputs": [
    {
     "data": {
      "image/png": "[encoded data removed]",
      "text/plain": [
       "<Figure size 720x432 with 1 Axes>"
      ]
     },
     "metadata": {
      "needs_background": "light"
     },
     "output_type": "display_data"
    },
    {
     "data": {
      "image/png": "[encoded data removed]",
      "text/plain": [
       "<Figure size 720x432 with 1 Axes>"
      ]
     },
     "metadata": {
      "needs_background": "light"
     },
     "output_type": "display_data"
    },
    {
     "data": {
      "image/png": "[encoded data removed]",
      "text/plain": [
       "<Figure size 720x432 with 1 Axes>"
      ]
     },
     "metadata": {
      "needs_background": "light"
     },
     "output_type": "display_data"
    }
   ],
   "source": [
    "validation_error[\"Month\"] = validation_error.index.month\n",
    "validation_error[\"Day\"] = validation_error.index.day\n",
    "validation_error[\"Hour\"] = validation_error.index.hour\n",
    "\n",
    "for col in [\"Month\", \"Day\", \"Hour\"]:\n",
    "    plt.figure(figsize=(10, 6))\n",
    "    validation_error.groupby(col)[\"PercError\"].mean().plot(kind=\"bar\")\n",
    "    plt.show()"
   ]
  },
  {
   "cell_type": "code",
   "execution_count": 636,
   "metadata": {
    "ExecuteTime": {
     "end_time": "2022-02-27T12:17:38.393955Z",
     "start_time": "2022-02-27T12:17:37.847956Z"
    }
   },
   "outputs": [
    {
     "data": {
      "image/png": "[encoded data removed]",
      "text/plain": [
       "<Figure size 720x432 with 1 Axes>"
      ]
     },
     "metadata": {
      "needs_background": "light"
     },
     "output_type": "display_data"
    },
    {
     "data": {
      "image/png": "[encoded data removed]",
      "text/plain": [
       "<Figure size 720x432 with 1 Axes>"
      ]
     },
     "metadata": {
      "needs_background": "light"
     },
     "output_type": "display_data"
    },
    {
     "data": {
      "image/png": "[encoded data removed]",
      "text/plain": [
       "<Figure size 720x432 with 1 Axes>"
      ]
     },
     "metadata": {
      "needs_background": "light"
     },
     "output_type": "display_data"
    }
   ],
   "source": [
    "validation_error[\"Month\"] = validation_error.index.month\n",
    "validation_error[\"Day\"] = validation_error.index.day\n",
    "validation_error[\"Hour\"] = validation_error.index.hour\n",
    "\n",
    "for col in [\"Month\", \"Day\", \"Hour\"]:\n",
    "    plt.figure(figsize=(10, 6))\n",
    "    validation_error[(validation_error[\"Hour\"] > 6) & (validation_error[\"Hour\"] < 18)].groupby(col)[\"PercError\"].mean().plot(kind=\"bar\")\n",
    "    plt.show()"
   ]
  },
  {
   "cell_type": "code",
   "execution_count": 74,
   "metadata": {
    "ExecuteTime": {
     "end_time": "2022-02-24T18:24:41.104827Z",
     "start_time": "2022-02-24T18:24:41.079845Z"
    }
   },
   "outputs": [],
   "source": [
    "#Predict the test data\n",
    "y_test_grid2adj_pred_df = y_test_grid2adj_df.copy()\n",
    "y_test_grid2adj_df.index = pd.to_datetime(y_test_grid2adj_df.index)\n",
    "y_test_grid2adj_pred_df[\"Generation\"] = [pred if  6 < hour < 19 else 0 for hour, pred in zip(y_test_grid2adj_pred_df.index.hour, y_test_grid2adj_pred_df[\"Generation\"])]\n",
    "\n",
    "\n",
    "y_test_grid2adj_pred_df.index = y_test_grid2adj_pred_df.index.strftime(\"%d%b%Y %-H:%M:%S\")\n",
    "sample_submission3 = sample_submission.drop(\"Generation\", axis=1)\n",
    "sample_submission3[\"Generation\"] = y_test_grid2adj_pred_df[\"Generation\"].values\n",
    "sample_submission3.to_csv('approach3_adjusted_predictions.csv', index=False)"
   ]
  },
  {
   "cell_type": "markdown",
   "metadata": {},
   "source": [
    "**Approach 4:** Eliminate the data hours before 06:00 and after 18:00\n",
    "\n",
    "**No Time Series Cross Validation, Continuous Features Scaling, LGBM with Hyperparameter Tuning, Drop Missing Columns**"
   ]
  },
  {
   "cell_type": "code",
   "execution_count": 526,
   "metadata": {
    "ExecuteTime": {
     "end_time": "2022-02-26T12:08:46.366450Z",
     "start_time": "2022-02-26T12:08:46.332469Z"
    }
   },
   "outputs": [],
   "source": [
    "X2_model = X1_model[(X1_model.index.hour > 6) & (X1_model.index.hour < 19)]\n",
    "y2 = y[(y.index.hour > 6) & (y.index.hour < 19)]\n",
    "X2_train, X2_val, y2_train, y2_val = train_test_split(X2_model, y2, random_state=421, test_size=0.20)"
   ]
  },
  {
   "cell_type": "code",
   "execution_count": 528,
   "metadata": {
    "ExecuteTime": {
     "end_time": "2022-02-26T12:15:13.058001Z",
     "start_time": "2022-02-26T12:11:07.372720Z"
    }
   },
   "outputs": [
    {
     "name": "stdout",
     "output_type": "stream",
     "text": [
      "Fitting 10 folds for each of 162 candidates, totalling 1620 fits\n"
     ]
    },
    {
     "name": "stderr",
     "output_type": "stream",
     "text": [
      "[Parallel(n_jobs=-1)]: Using backend LokyBackend with 8 concurrent workers.\n",
      "[Parallel(n_jobs=-1)]: Done  25 tasks      | elapsed:    3.5s\n",
      "[Parallel(n_jobs=-1)]: Done 146 tasks      | elapsed:   20.6s\n",
      "[Parallel(n_jobs=-1)]: Done 349 tasks      | elapsed:   52.2s\n",
      "[Parallel(n_jobs=-1)]: Done 632 tasks      | elapsed:  1.6min\n",
      "[Parallel(n_jobs=-1)]: Done 997 tasks      | elapsed:  2.5min\n",
      "[Parallel(n_jobs=-1)]: Done 1442 tasks      | elapsed:  3.6min\n",
      "[Parallel(n_jobs=-1)]: Done 1620 out of 1620 | elapsed:  4.1min finished\n",
      "c:\\python37\\lib\\site-packages\\sklearn\\utils\\validation.py:72: DataConversionWarning: A column-vector y was passed when a 1d array was expected. Please change the shape of y to (n_samples, ), for example using ravel().\n",
      "  return f(**kwargs)\n"
     ]
    },
    {
     "name": "stdout",
     "output_type": "stream",
     "text": [
      "{'lgbm__boosting_type': 'gbdt', 'lgbm__learning_rate': 0.1, 'lgbm__max_depth': 15, 'lgbm__min_child_samples': 5, 'lgbm__min_split_gain': 0.001, 'lgbm__n_estimators': 250, 'lgbm__num_leaves': 100}\n",
      "Train Set RMSE: 10.933557041120718\n",
      "Train Set MAE: 7.837657398363388\n",
      "Train Set R2: 0.9925454449948146\n",
      "\n",
      "Val Set RMSE: 29.997421531147037\n",
      "Val Set MAE: 21.49092251148442\n",
      "Val Set R2: 0.9442676801910016\n"
     ]
    }
   ],
   "source": [
    "contiuous = ['AirTemperature', 'ComfortTemperature', 'RelativeHumidity', 'WindSpeed', \n",
    "        'WindDirection', 'EffectiveCloudCover']\n",
    "\n",
    "scaler = Pipeline(steps=[\n",
    "        ('standard_scaler', StandardScaler())])\n",
    "\n",
    "encoder = Pipeline(steps=[('ohe', OneHotEncoder())])\n",
    "\n",
    "preprocessor = ColumnTransformer(\n",
    "        remainder='passthrough', #passthough features not listed\n",
    "        transformers=[\n",
    "            ('scaler',  scaler, contiuous),\n",
    "            ('encoder', encoder, ['Season'])\n",
    "        ])\n",
    "\n",
    "lgbm3 = LGBMRegressor(n_jobs=-1, random_state=42, n_estimators=100)\n",
    "\n",
    "params = {\n",
    "    \"lgbm__boosting_type\": ['gbdt'],\n",
    "    \"lgbm__n_estimators\": [150, 200, 250],\n",
    "    \"lgbm__min_split_gain\": [0.0, 0.0001, 0.001],\n",
    "    \"lgbm__min_child_samples\":[5, 10],\n",
    "    \"lgbm__max_depth\": [15, 30, 50],\n",
    "    \"lgbm__learning_rate\": [0.1],\n",
    "    \"lgbm__num_leaves\": [40, 70, 100]   \n",
    "}\n",
    "\n",
    "pipe2 = Pipeline(steps=([('preprocessor', preprocessor), ('lgbm', lgbm3)]))\n",
    "\n",
    "#define mse and set greater_is_better=False\n",
    "mse = make_scorer(mean_squared_error,greater_is_better=False)\n",
    "\n",
    "grid3 = GridSearchCV(pipe2, param_grid=params, cv=10, n_jobs=-1, scoring=mse, verbose=2)\n",
    "grid3.fit(X2_train, y2_train)\n",
    "\n",
    "print(grid3.best_params_)\n",
    "\n",
    "y_train_grid3 = grid3.predict(X2_train)\n",
    "y_val_grid3 = grid3.predict(X2_val)\n",
    "\n",
    "print(\"Train Set RMSE:\", mean_squared_error(y2_train, y_train_grid3, squared=False))\n",
    "print(\"Train Set MAE:\", mean_absolute_error(y2_train, y_train_grid3))\n",
    "print(\"Train Set R2:\", r2_score(y2_train, y_train_grid3))\n",
    "\n",
    "print()\n",
    "print(\"Val Set RMSE:\", mean_squared_error(y2_val, y_val_grid3, squared=False))\n",
    "print(\"Val Set MAE:\", mean_absolute_error(y2_val, y_val_grid3))\n",
    "print(\"Val Set R2:\", r2_score(y2_val, y_val_grid3))"
   ]
  },
  {
   "cell_type": "code",
   "execution_count": 529,
   "metadata": {
    "ExecuteTime": {
     "end_time": "2022-02-26T12:15:34.241823Z",
     "start_time": "2022-02-26T12:15:34.204821Z"
    }
   },
   "outputs": [
    {
     "name": "stdout",
     "output_type": "stream",
     "text": [
      "Train Set RMSE: 10.925090577628023\n",
      "Train Set MAE: 7.791253879076099\n",
      "Train Set R2: 0.992556985480922\n",
      "\n",
      "Val Set RMSE: 29.98951520887646\n",
      "Val Set MAE: 21.426929512907694\n",
      "Val Set R2: 0.9442970546898813\n"
     ]
    }
   ],
   "source": [
    "total_capacity = 523.005001\n",
    "y_train_grid3adj = np.array([total_capacity*0.98 if i > total_capacity else 0 if i < 0 else i for i in y_train_grid3])\n",
    "y_val_grid3adj = np.array([total_capacity*0.98 if i > total_capacity else 0 if i < 0 else i for i in y_val_grid3])\n",
    "\n",
    "print(\"Train Set RMSE:\", mean_squared_error(y2_train, y_train_grid3adj, squared=False))\n",
    "print(\"Train Set MAE:\", mean_absolute_error(y2_train, y_train_grid3adj))\n",
    "print(\"Train Set R2:\", r2_score(y2_train, y_train_grid3adj))\n",
    "\n",
    "print()\n",
    "print(\"Val Set RMSE:\", mean_squared_error(y2_val, y_val_grid3adj, squared=False))\n",
    "print(\"Val Set MAE:\", mean_absolute_error(y2_val, y_val_grid3adj))\n",
    "print(\"Val Set R2:\", r2_score(y2_val, y_val_grid3adj))"
   ]
  },
  {
   "cell_type": "code",
   "execution_count": 532,
   "metadata": {
    "ExecuteTime": {
     "end_time": "2022-02-26T12:16:15.202469Z",
     "start_time": "2022-02-26T12:16:14.662113Z"
    }
   },
   "outputs": [],
   "source": [
    "appr4_train_preds[\"preds\"] = pd.Series(y_train_grid3adj, index=y2_train.index)\n",
    "appr4_val_preds[\"preds\"] = pd.Series(y_val_grid3adj, index=y2_val.index)\n",
    "\n",
    "appr4_train_preds = y_train.merge(appr4_train_preds, how='left', left_index=True, right_index=True).fillna(0)\n",
    "appr4_val_preds = y_val.merge(appr4_val_preds, how='left', left_index=True, right_index=True).fillna(0)"
   ]
  },
  {
   "cell_type": "code",
   "execution_count": 533,
   "metadata": {
    "ExecuteTime": {
     "end_time": "2022-02-26T12:16:23.218351Z",
     "start_time": "2022-02-26T12:16:23.193353Z"
    }
   },
   "outputs": [
    {
     "name": "stdout",
     "output_type": "stream",
     "text": [
      "Train Set RMSE: 69.74714602390551\n",
      "Train Set MAE: 21.462940944227867\n",
      "Train Set R2: 0.6915933633161107\n",
      "\n",
      "Val Set RMSE: 142.90670637116364\n",
      "Val Set MAE: 76.9491074708728\n",
      "Val Set R2: -0.2376709210527186\n"
     ]
    }
   ],
   "source": [
    "print(\"Train Set RMSE:\", mean_squared_error(y_train, appr4_train_preds[\"preds\"], squared=False))\n",
    "print(\"Train Set MAE:\", mean_absolute_error(y_train, appr4_train_preds[\"preds\"]))\n",
    "print(\"Train Set R2:\", r2_score(y_train, appr4_train_preds[\"preds\"]))\n",
    "\n",
    "print()\n",
    "print(\"Val Set RMSE:\", mean_squared_error(y_val, appr4_val_preds[\"preds\"], squared=False))\n",
    "print(\"Val Set MAE:\", mean_absolute_error(y_val, appr4_val_preds[\"preds\"]))\n",
    "print(\"Val Set R2:\", r2_score(y_val, appr4_val_preds[\"preds\"]))"
   ]
  },
  {
   "cell_type": "code",
   "execution_count": 113,
   "metadata": {
    "ExecuteTime": {
     "end_time": "2022-02-24T19:10:33.905687Z",
     "start_time": "2022-02-24T19:10:33.891688Z"
    }
   },
   "outputs": [],
   "source": [
    "X2_test = X1_test[(X1_test.index.hour > 6) & (X1_test.index.hour < 19)]"
   ]
  },
  {
   "cell_type": "code",
   "execution_count": 138,
   "metadata": {
    "ExecuteTime": {
     "end_time": "2022-02-24T19:23:41.937662Z",
     "start_time": "2022-02-24T19:23:41.872663Z"
    }
   },
   "outputs": [],
   "source": [
    "#Predict the test data\n",
    "y_test_grid3 = grid3.predict(X2_test)\n",
    "y_test_grid3adj = np.array([total_capacity*0.98 if i > total_capacity else 0 if i < 0 else i for i in y_test_grid3])\n",
    "\n",
    "y_test_grid3adj_df = pd.DataFrame(y_test_grid3adj, index=X2_test.index)\n",
    "y_test_grid3adj_df.columns = [\"Generation\"]\n",
    "\n",
    "appr4_test_preds = X1_test[[\"AirTemperature\"]].merge(y_test_grid3adj_df, how='left', left_index=True, right_index=True).fillna(0)\n",
    "\n",
    "appr4_test_preds.index = appr4_test_preds.index.strftime(\"%d%b%Y %-H:%M:%S\")\n",
    "sample_submission4 = sample_submission.drop(\"Generation\", axis=1)\n",
    "sample_submission4[\"Generation\"] = appr4_test_preds[\"Generation\"].values\n",
    "sample_submission4.to_csv('approach4_predictions.csv', index=False)"
   ]
  },
  {
   "cell_type": "code",
   "execution_count": 534,
   "metadata": {
    "ExecuteTime": {
     "end_time": "2022-02-26T12:16:39.237130Z",
     "start_time": "2022-02-26T12:16:39.093095Z"
    }
   },
   "outputs": [
    {
     "data": {
      "text/plain": [
       "(array([4706.,   63.,   52.,   42.,   55.,   48.,   44.,   59.,   35.,\n",
       "           8.]), array([  0.        ,  44.46561274,  88.93122547, 133.39683821,\n",
       "        177.86245095, 222.32806368, 266.79367642, 311.25928916,\n",
       "        355.72490189, 400.19051463, 444.65612737]), <a list of 10 Patch objects>)"
      ]
     },
     "execution_count": 534,
     "metadata": {},
     "output_type": "execute_result"
    },
    {
     "data": {
      "image/png": "[encoded data removed]",
      "text/plain": [
       "<Figure size 432x288 with 1 Axes>"
      ]
     },
     "metadata": {
      "needs_background": "light"
     },
     "output_type": "display_data"
    }
   ],
   "source": [
    "#appr4_val_preds[\"preds\"].idxmax()-->'2020-04-12 14:00:00'\n",
    "plt.hist(appr4_val_preds[\"preds\"])"
   ]
  },
  {
   "cell_type": "code",
   "execution_count": 535,
   "metadata": {
    "ExecuteTime": {
     "end_time": "2022-02-26T12:16:42.406392Z",
     "start_time": "2022-02-26T12:16:42.375396Z"
    }
   },
   "outputs": [
    {
     "data": {
      "text/html": [
       "<div>\n",
       "<style scoped>\n",
       "    .dataframe tbody tr th:only-of-type {\n",
       "        vertical-align: middle;\n",
       "    }\n",
       "\n",
       "    .dataframe tbody tr th {\n",
       "        vertical-align: top;\n",
       "    }\n",
       "\n",
       "    .dataframe thead th {\n",
       "        text-align: right;\n",
       "    }\n",
       "</style>\n",
       "<table border=\"1\" class=\"dataframe\">\n",
       "  <thead>\n",
       "    <tr style=\"text-align: right;\">\n",
       "      <th></th>\n",
       "      <th>Generation</th>\n",
       "      <th>prediction</th>\n",
       "      <th>Error</th>\n",
       "      <th>AbsError</th>\n",
       "      <th>PercError</th>\n",
       "    </tr>\n",
       "    <tr>\n",
       "      <th>DateTime</th>\n",
       "      <th></th>\n",
       "      <th></th>\n",
       "      <th></th>\n",
       "      <th></th>\n",
       "      <th></th>\n",
       "    </tr>\n",
       "  </thead>\n",
       "  <tbody>\n",
       "    <tr>\n",
       "      <th>2020-07-29 02:00:00</th>\n",
       "      <td>0.000000</td>\n",
       "      <td>0.0</td>\n",
       "      <td>1.000000e-10</td>\n",
       "      <td>1.000000e-10</td>\n",
       "      <td>1.000000</td>\n",
       "    </tr>\n",
       "    <tr>\n",
       "      <th>2021-10-28 19:00:00</th>\n",
       "      <td>0.000429</td>\n",
       "      <td>0.0</td>\n",
       "      <td>-4.289999e-04</td>\n",
       "      <td>4.289999e-04</td>\n",
       "      <td>1.000000</td>\n",
       "    </tr>\n",
       "    <tr>\n",
       "      <th>2019-03-03 15:00:00</th>\n",
       "      <td>169.073239</td>\n",
       "      <td>0.0</td>\n",
       "      <td>-1.690732e+02</td>\n",
       "      <td>1.690732e+02</td>\n",
       "      <td>1.000000</td>\n",
       "    </tr>\n",
       "    <tr>\n",
       "      <th>2019-12-07 18:00:00</th>\n",
       "      <td>0.000000</td>\n",
       "      <td>0.0</td>\n",
       "      <td>1.000000e-10</td>\n",
       "      <td>1.000000e-10</td>\n",
       "      <td>1.000000</td>\n",
       "    </tr>\n",
       "    <tr>\n",
       "      <th>2019-07-15 19:00:00</th>\n",
       "      <td>12.930809</td>\n",
       "      <td>0.0</td>\n",
       "      <td>-1.293081e+01</td>\n",
       "      <td>1.293081e+01</td>\n",
       "      <td>1.000000</td>\n",
       "    </tr>\n",
       "    <tr>\n",
       "      <th>...</th>\n",
       "      <td>...</td>\n",
       "      <td>...</td>\n",
       "      <td>...</td>\n",
       "      <td>...</td>\n",
       "      <td>...</td>\n",
       "    </tr>\n",
       "    <tr>\n",
       "      <th>2020-12-25 00:00:00</th>\n",
       "      <td>0.001202</td>\n",
       "      <td>0.0</td>\n",
       "      <td>-1.202000e-03</td>\n",
       "      <td>1.202000e-03</td>\n",
       "      <td>1.000000</td>\n",
       "    </tr>\n",
       "    <tr>\n",
       "      <th>2021-02-15 01:00:00</th>\n",
       "      <td>0.004301</td>\n",
       "      <td>0.0</td>\n",
       "      <td>-4.301000e-03</td>\n",
       "      <td>4.301000e-03</td>\n",
       "      <td>1.000000</td>\n",
       "    </tr>\n",
       "    <tr>\n",
       "      <th>2020-09-06 19:00:00</th>\n",
       "      <td>0.163590</td>\n",
       "      <td>0.0</td>\n",
       "      <td>-1.635903e-01</td>\n",
       "      <td>1.635903e-01</td>\n",
       "      <td>1.000000</td>\n",
       "    </tr>\n",
       "    <tr>\n",
       "      <th>2020-04-07 23:00:00</th>\n",
       "      <td>0.000008</td>\n",
       "      <td>0.0</td>\n",
       "      <td>-7.999900e-06</td>\n",
       "      <td>7.999900e-06</td>\n",
       "      <td>0.999975</td>\n",
       "    </tr>\n",
       "    <tr>\n",
       "      <th>2021-08-04 12:00:00</th>\n",
       "      <td>407.940918</td>\n",
       "      <td>0.0</td>\n",
       "      <td>-4.079409e+02</td>\n",
       "      <td>4.079409e+02</td>\n",
       "      <td>1.000000</td>\n",
       "    </tr>\n",
       "  </tbody>\n",
       "</table>\n",
       "<p>5112 rows × 5 columns</p>\n",
       "</div>"
      ],
      "text/plain": [
       "                     Generation  prediction         Error      AbsError  \\\n",
       "DateTime                                                                  \n",
       "2020-07-29 02:00:00    0.000000         0.0  1.000000e-10  1.000000e-10   \n",
       "2021-10-28 19:00:00    0.000429         0.0 -4.289999e-04  4.289999e-04   \n",
       "2019-03-03 15:00:00  169.073239         0.0 -1.690732e+02  1.690732e+02   \n",
       "2019-12-07 18:00:00    0.000000         0.0  1.000000e-10  1.000000e-10   \n",
       "2019-07-15 19:00:00   12.930809         0.0 -1.293081e+01  1.293081e+01   \n",
       "...                         ...         ...           ...           ...   \n",
       "2020-12-25 00:00:00    0.001202         0.0 -1.202000e-03  1.202000e-03   \n",
       "2021-02-15 01:00:00    0.004301         0.0 -4.301000e-03  4.301000e-03   \n",
       "2020-09-06 19:00:00    0.163590         0.0 -1.635903e-01  1.635903e-01   \n",
       "2020-04-07 23:00:00    0.000008         0.0 -7.999900e-06  7.999900e-06   \n",
       "2021-08-04 12:00:00  407.940918         0.0 -4.079409e+02  4.079409e+02   \n",
       "\n",
       "                     PercError  \n",
       "DateTime                        \n",
       "2020-07-29 02:00:00   1.000000  \n",
       "2021-10-28 19:00:00   1.000000  \n",
       "2019-03-03 15:00:00   1.000000  \n",
       "2019-12-07 18:00:00   1.000000  \n",
       "2019-07-15 19:00:00   1.000000  \n",
       "...                        ...  \n",
       "2020-12-25 00:00:00   1.000000  \n",
       "2021-02-15 01:00:00   1.000000  \n",
       "2020-09-06 19:00:00   1.000000  \n",
       "2020-04-07 23:00:00   0.999975  \n",
       "2021-08-04 12:00:00   1.000000  \n",
       "\n",
       "[5112 rows x 5 columns]"
      ]
     },
     "execution_count": 535,
     "metadata": {},
     "output_type": "execute_result"
    }
   ],
   "source": [
    "appr4_validation_error= y_val.copy()\n",
    "appr4_validation_error[\"prediction\"] = appr4_val_preds[\"preds\"]\n",
    "appr4_validation_error[\"Error\"] = appr4_validation_error[\"prediction\"] - appr4_validation_error[\"Generation\"] +0.0000000001\n",
    "appr4_validation_error[\"AbsError\"] = abs(appr4_validation_error[\"prediction\"] - appr4_validation_error[\"Generation\"]+0.0000000001)\n",
    "appr4_validation_error[\"PercError\"] = (appr4_validation_error[\"AbsError\"] / (appr4_validation_error[\"Generation\"]+0.0000000001)) \n",
    "appr4_validation_error"
   ]
  },
  {
   "cell_type": "markdown",
   "metadata": {},
   "source": [
    "**Approach 5: XGB Regressor with Hyperopt**"
   ]
  },
  {
   "cell_type": "code",
   "execution_count": 637,
   "metadata": {
    "ExecuteTime": {
     "end_time": "2022-02-27T12:17:54.960713Z",
     "start_time": "2022-02-27T12:17:54.949677Z"
    }
   },
   "outputs": [],
   "source": [
    "from hyperopt import hp, fmin, tpe, STATUS_OK, Trials"
   ]
  },
  {
   "cell_type": "code",
   "execution_count": 658,
   "metadata": {
    "ExecuteTime": {
     "end_time": "2022-02-27T13:35:11.151467Z",
     "start_time": "2022-02-27T13:35:11.130702Z"
    }
   },
   "outputs": [],
   "source": [
    "def objective(space):\n",
    "    # Instantiate the regressor\n",
    "    reg = XGBRegressor(n_estimators =1000,colsample_bytree=space['colsample_bytree'],\n",
    "                           learning_rate = space['learning_rate'],\n",
    "                            max_depth = int(space['max_depth']),\n",
    "                            min_child_weight = space['min_child_weight'],\n",
    "                            subsample = space['subsample'],\n",
    "                            gamma = space['gamma'],\n",
    "                            reg_lambda = space['reg_lambda'],\n",
    "                            objective='reg:squarederror')\n",
    "    \n",
    "    eval_set  = [( X1_train_encoded, y_train), ( X1_val_encoded, y_val)]\n",
    "    \n",
    "    # Fit the regressor\n",
    "    reg.fit(X1_train_encoded, y_train,\n",
    "            eval_set=eval_set, eval_metric=\"rmse\",\n",
    "            early_stopping_rounds=10,verbose=False)\n",
    "    \n",
    "    # Predict on Cross Validation data\n",
    "    pred = reg.predict(X1_val_encoded)\n",
    "    \n",
    "    # Calculate our Metric - RMSE\n",
    "    rmse = np.sqrt(mean_squared_error(y_val, pred))\n",
    "    # return the loss\n",
    "    return {'loss': rmse, 'status': STATUS_OK }"
   ]
  },
  {
   "cell_type": "code",
   "execution_count": 659,
   "metadata": {
    "ExecuteTime": {
     "end_time": "2022-02-27T13:35:13.452208Z",
     "start_time": "2022-02-27T13:35:13.439852Z"
    }
   },
   "outputs": [],
   "source": [
    "space ={'max_depth': hp.quniform(\"x_max_depth\", 3, 50, 1),\n",
    "        'min_child_weight': hp.quniform ('x_min_child', 1, 100, 1),\n",
    "        'subsample': hp.uniform ('x_subsample', 0.6, 1),\n",
    "        'gamma' : hp.uniform ('x_gamma', 0.1, 0.9),\n",
    "        'colsample_bytree' : hp.uniform ('x_colsample_bytree', 0.6, 1),\n",
    "        'reg_lambda' : hp.uniform ('x_reg_lambda', 0, 1),\n",
    "        'learning_rate': hp.uniform('x_learning_rate', 0.001, 0.1)\n",
    "       }"
   ]
  },
  {
   "cell_type": "code",
   "execution_count": 660,
   "metadata": {
    "ExecuteTime": {
     "end_time": "2022-02-27T13:48:54.321389Z",
     "start_time": "2022-02-27T13:35:15.176864Z"
    }
   },
   "outputs": [
    {
     "name": "stdout",
     "output_type": "stream",
     "text": [
      "100%|█████████████████████████████████████████████████| 10/10 [13:39<00:00, 81.91s/trial, best loss: 20.05030934861714]\n",
      "{'x_colsample_bytree': 0.6391485870776347, 'x_gamma': 0.11441401979886923, 'x_learning_rate': 0.07641585474881568, 'x_max_depth': 26.0, 'x_min_child': 41.0, 'x_reg_lambda': 0.5316110522966462, 'x_subsample': 0.7575872976860692}\n"
     ]
    }
   ],
   "source": [
    "trials = Trials()\n",
    "best = fmin(fn=objective,\n",
    "            space=space,\n",
    "            algo=tpe.suggest,\n",
    "            max_evals=10,\n",
    "            trials=trials)\n",
    "print(best)"
   ]
  },
  {
   "cell_type": "code",
   "execution_count": 662,
   "metadata": {
    "ExecuteTime": {
     "end_time": "2022-02-27T13:51:10.657587Z",
     "start_time": "2022-02-27T13:50:42.693376Z"
    }
   },
   "outputs": [
    {
     "name": "stdout",
     "output_type": "stream",
     "text": [
      "Train Set RMSE: 21.22827883853877\n",
      "Train Set MAE: 12.538588760761286\n",
      "Train Set R2: 0.9714306473820803\n",
      "\n",
      "Val Set RMSE: 23.91301177948638\n",
      "Val Set MAE: 14.090100482789873\n",
      "Val Set R2: 0.9653447909509345\n"
     ]
    }
   ],
   "source": [
    "HyperoptXGB = XGBRegressor(x_colsample_bytree =  0.6391485870776347, \n",
    "                           x_gamma = 0.11441401979886923, \n",
    "                           x_max_depth = 26.0, \n",
    "                           x_min_child = 41.0, \n",
    "                           x_reg_lambda = 0.5316110522966462, \n",
    "                           x_subsample = 0.575872976860692,\n",
    "                           seed=42,\n",
    "                           objective='reg:squarederror',\n",
    "                           learning_rate=0.07641585474881568,\n",
    "                           n_estimators =1000\n",
    "                           )\n",
    "\n",
    "\n",
    "HyperoptXGB.fit(X1_train_encoded, y_train)\n",
    "y_train_hyperopt = HyperoptXGB.predict(X1_train_encoded)\n",
    "y_val_hyperopt = HyperoptXGB.predict(X1_val_encoded)\n",
    "\n",
    "print(\"Train Set RMSE:\", mean_squared_error(y_train, y_train_hyperopt, squared=False))\n",
    "print(\"Train Set MAE:\", mean_absolute_error(y_train, y_train_hyperopt))\n",
    "print(\"Train Set R2:\", r2_score(y_train, y_train_hyperopt))\n",
    "\n",
    "print()\n",
    "print(\"Val Set RMSE:\", mean_squared_error(y_val, y_val_hyperopt, squared=False))\n",
    "print(\"Val Set MAE:\", mean_absolute_error(y_val, y_val_hyperopt))\n",
    "print(\"Val Set R2:\", r2_score(y_val, y_val_hyperopt))"
   ]
  },
  {
   "cell_type": "code",
   "execution_count": 663,
   "metadata": {
    "ExecuteTime": {
     "end_time": "2022-02-27T14:09:58.309288Z",
     "start_time": "2022-02-27T14:09:58.172318Z"
    }
   },
   "outputs": [
    {
     "name": "stdout",
     "output_type": "stream",
     "text": [
      "Train Set RMSE: 21.028074922030505\n",
      "Train Set MAE: 11.105870948107682\n",
      "Train Set R2: 0.9719669814955658\n",
      "\n",
      "Val Set RMSE: 23.69092866567368\n",
      "Val Set MAE: 12.611401570168956\n",
      "Val Set R2: 0.9659854963867838\n"
     ]
    }
   ],
   "source": [
    "total_capacity = 523.005001\n",
    "y_train_hyperopt_adj = np.array([total_capacity*0.98 if i > total_capacity else 0 if i < 0 else i for i in y_train_hyperopt])\n",
    "y_val_hyperopt_adj = np.array([total_capacity*0.98 if i > total_capacity else 0 if i < 0 else i for i in y_val_hyperopt])\n",
    "\n",
    "y_train_hyperopt_adj = [pred if  6 <= hour <= 19 else 0 for hour, pred in zip(y_train.index.hour, y_train_hyperopt_adj)]\n",
    "y_val_hyperopt_adj = [pred if  6 <= hour <= 19 else 0 for hour, pred in zip(y_val.index.hour, y_val_hyperopt_adj)]\n",
    "\n",
    "print(\"Train Set RMSE:\", mean_squared_error(y_train, y_train_hyperopt_adj, squared=False))\n",
    "print(\"Train Set MAE:\", mean_absolute_error(y_train, y_train_hyperopt_adj))\n",
    "print(\"Train Set R2:\", r2_score(y_train, y_train_hyperopt_adj))\n",
    "\n",
    "print()\n",
    "print(\"Val Set RMSE:\", mean_squared_error(y_val, y_val_hyperopt_adj, squared=False))\n",
    "print(\"Val Set MAE:\", mean_absolute_error(y_val, y_val_hyperopt_adj))\n",
    "print(\"Val Set R2:\", r2_score(y_val, y_val_hyperopt_adj))"
   ]
  },
  {
   "cell_type": "code",
   "execution_count": 195,
   "metadata": {
    "ExecuteTime": {
     "end_time": "2022-02-24T20:23:07.682706Z",
     "start_time": "2022-02-24T20:23:06.698114Z"
    }
   },
   "outputs": [],
   "source": [
    "#Predict the test data\n",
    "y_test_hyperopt = HyperoptXGB.predict(X1_test)\n",
    "y_test_hyperopt_adj = np.array([total_capacity*0.98 if i > total_capacity else 0 if i < 0 else i for i in y_test_hyperopt])\n",
    "\n",
    "y_test_hyperopt_adj_df = pd.DataFrame(y_test_hyperopt_adj, index=X1_test.index)\n",
    "y_test_hyperopt_adj_df.columns = [\"Generation\"]\n",
    "y_test_hyperopt_adj_df.index = y_test_hyperopt_adj_df.index.strftime(\"%d%b%Y %-H:%M:%S\")\n",
    "sample_submission5 = sample_submission.drop(\"Generation\", axis=1)\n",
    "sample_submission5[\"Generation\"] = y_test_hyperopt_adj_df[\"Generation\"].values\n",
    "sample_submission5.to_csv('approach5_hyperopt_xgb_predictions.csv', index=False)"
   ]
  },
  {
   "cell_type": "markdown",
   "metadata": {},
   "source": [
    "**Approach 6: XGB Regressor with Hyperopt, Day Flags Removed**"
   ]
  },
  {
   "cell_type": "code",
   "execution_count": 544,
   "metadata": {
    "ExecuteTime": {
     "end_time": "2022-02-26T12:22:29.379355Z",
     "start_time": "2022-02-26T12:22:29.367317Z"
    }
   },
   "outputs": [
    {
     "data": {
      "text/plain": [
       "Index(['AirTemperature', 'ComfortTemperature', 'RelativeHumidity', 'WindSpeed',\n",
       "       'WindDirection', 'EffectiveCloudCover', 'is_holiday',\n",
       "       'Commemoration_of_Ataturk_Youth_and_Sports_Day',\n",
       "       'Democracy_and_National_Unity_Day', 'Labour_Day',\n",
       "       'National_Sovereignty_and_Childrens_Day', 'New_Years_Day',\n",
       "       'Ramadan_Feast', 'Ramadan_Feast_Holiday', 'Republic_Day',\n",
       "       'Sacrifice_Feast', 'Sacrifice_Feast_Holiday', 'Victory_Day',\n",
       "       'Day_Friday', 'Day_Monday', 'Day_Saturday', 'Day_Sunday',\n",
       "       'Day_Thursday', 'Day_Tuesday', 'Day_Wednesday', 'Hour', 'DayGroup',\n",
       "       'Month', 'Season'],\n",
       "      dtype='object')"
      ]
     },
     "execution_count": 544,
     "metadata": {},
     "output_type": "execute_result"
    }
   ],
   "source": [
    "X1_test.columns"
   ]
  },
  {
   "cell_type": "code",
   "execution_count": 664,
   "metadata": {
    "ExecuteTime": {
     "end_time": "2022-02-27T14:10:06.312075Z",
     "start_time": "2022-02-27T14:10:06.296073Z"
    }
   },
   "outputs": [],
   "source": [
    "X3_train = X1_train_encoded.drop(['Commemoration_of_Ataturk_Youth_and_Sports_Day',\n",
    "                          'Democracy_and_National_Unity_Day', 'Labour_Day',\n",
    "                          'National_Sovereignty_and_Childrens_Day', 'New_Years_Day',\n",
    "                          'Ramadan_Feast', 'Ramadan_Feast_Holiday', 'Republic_Day',\n",
    "                          'Sacrifice_Feast', 'Sacrifice_Feast_Holiday', 'Victory_Day', \n",
    "                          'Day_Friday', 'Day_Monday', 'Day_Saturday', 'Day_Sunday',\n",
    "                          'Day_Thursday', 'Day_Tuesday', 'Day_Wednesday'], axis=1)\n",
    "\n",
    "X3_val = X1_val_encoded.drop(['Commemoration_of_Ataturk_Youth_and_Sports_Day',\n",
    "                          'Democracy_and_National_Unity_Day', 'Labour_Day',\n",
    "                          'National_Sovereignty_and_Childrens_Day', 'New_Years_Day',\n",
    "                          'Ramadan_Feast', 'Ramadan_Feast_Holiday', 'Republic_Day',\n",
    "                          'Sacrifice_Feast', 'Sacrifice_Feast_Holiday', 'Victory_Day', \n",
    "                          'Day_Friday', 'Day_Monday', 'Day_Saturday', 'Day_Sunday',\n",
    "                          'Day_Thursday', 'Day_Tuesday', 'Day_Wednesday'], axis=1)\n"
   ]
  },
  {
   "cell_type": "code",
   "execution_count": 666,
   "metadata": {
    "ExecuteTime": {
     "end_time": "2022-02-27T14:27:06.478592Z",
     "start_time": "2022-02-27T14:11:14.350543Z"
    }
   },
   "outputs": [
    {
     "name": "stdout",
     "output_type": "stream",
     "text": [
      "100%|████████████████████████████████████████████████| 20/20 [15:52<00:00, 47.60s/trial, best loss: 20.915033702935123]\n",
      "{'x_colsample_bytree': 0.9876384229632607, 'x_gamma': 0.6813881713928129, 'x_learning_rate': 0.09867165724986336, 'x_max_depth': 35.0, 'x_min_child': 44.0, 'x_reg_lambda': 0.9425632826295158, 'x_subsample': 0.8162990438351867}\n"
     ]
    }
   ],
   "source": [
    "def objective(space):\n",
    "    # Instantiate the regressor\n",
    "    reg = XGBRegressor(n_estimators =1000,colsample_bytree=space['colsample_bytree'],\n",
    "                           learning_rate = space['learning_rate'],\n",
    "                            max_depth = int(space['max_depth']),\n",
    "                            min_child_weight = space['min_child_weight'],\n",
    "                            subsample = space['subsample'],\n",
    "                            gamma = space['gamma'],\n",
    "                            reg_lambda = space['reg_lambda'],\n",
    "                            objective='reg:squarederror')\n",
    "    \n",
    "    eval_set  = [( X3_train, y_train), ( X3_val, y_val)]\n",
    "    \n",
    "    # Fit the regressor\n",
    "    reg.fit(X3_train, y_train,\n",
    "            eval_set=eval_set, eval_metric=\"rmse\",\n",
    "            early_stopping_rounds=10,verbose=False)\n",
    "    \n",
    "    # Predict on Cross Validation data\n",
    "    pred = reg.predict(X3_val)\n",
    "    \n",
    "    # Calculate our Metric - RMSE\n",
    "    rmse = np.sqrt(mean_squared_error(y_val, pred))\n",
    "    # return the loss\n",
    "    return {'loss': rmse, 'status': STATUS_OK }\n",
    "\n",
    "space ={'max_depth': hp.quniform(\"x_max_depth\", 3, 40, 1),\n",
    "        'min_child_weight': hp.quniform ('x_min_child', 1, 50, 1),\n",
    "        'subsample': hp.uniform ('x_subsample', 0.8, 1),\n",
    "        'gamma' : hp.uniform ('x_gamma', 0.1, 0.8),\n",
    "        'colsample_bytree' : hp.uniform ('x_colsample_bytree', 0.5, 1),\n",
    "        'reg_lambda' : hp.uniform ('x_reg_lambda', 0, 1),\n",
    "        'learning_rate': hp.uniform('x_learning_rate', 0.001, 0.1)        \n",
    "       }\n",
    "\n",
    "trials_appr6 = Trials()\n",
    "best_appr6 = fmin(fn=objective,\n",
    "            space=space,\n",
    "            algo=tpe.suggest,\n",
    "            max_evals=20,\n",
    "            trials=trials_appr6)\n",
    "print(best_appr6)"
   ]
  },
  {
   "cell_type": "code",
   "execution_count": 667,
   "metadata": {
    "ExecuteTime": {
     "end_time": "2022-02-27T14:28:18.905508Z",
     "start_time": "2022-02-27T14:28:17.081511Z"
    }
   },
   "outputs": [
    {
     "name": "stdout",
     "output_type": "stream",
     "text": [
      "Train Set RMSE: 26.13136512084827\n",
      "Train Set MAE: 16.01558754116334\n",
      "Train Set R2: 0.9567092581052168\n",
      "\n",
      "Val Set RMSE: 27.311729871515556\n",
      "Val Set MAE: 16.785027084802554\n",
      "Val Set R2: 0.9547937602313549\n",
      "\n",
      "Adj Train Set RMSE: 25.9110197399407\n",
      "Adj Train Set MAE: 14.200560980716403\n",
      "Adj Train Set R2: 0.9574362540245449\n",
      "\n",
      "Adj Val Set RMSE: 27.11194968020756\n",
      "Adj Val Set MAE: 15.046446805326447\n",
      "Adj Val Set R2: 0.9554526917670816\n"
     ]
    }
   ],
   "source": [
    "HyperoptXGB_appr6 = XGBRegressor(x_colsample_bytree =  0.9876384229632607, \n",
    "                           x_gamma = 0.6813881713928129, \n",
    "                           x_max_depth = 35.0, \n",
    "                           x_learning_rate = 0.09867165724986336,\n",
    "                           x_min_child = 44.0, \n",
    "                           x_reg_lambda = 0.9425632826295158, \n",
    "                           x_subsample = 0.8162990438351867,\n",
    "                           seed=42,\n",
    "                           objective='reg:squarederror')\n",
    "\n",
    "\n",
    "HyperoptXGB_appr6.fit(X3_train, y_train)\n",
    "y_train_hyperopt_appr6 = HyperoptXGB_appr6.predict(X3_train)\n",
    "y_val_hyperopt_appr6 = HyperoptXGB_appr6.predict(X3_val)\n",
    "\n",
    "print(\"Train Set RMSE:\", mean_squared_error(y_train, y_train_hyperopt_appr6, squared=False))\n",
    "print(\"Train Set MAE:\", mean_absolute_error(y_train, y_train_hyperopt_appr6))\n",
    "print(\"Train Set R2:\", r2_score(y_train, y_train_hyperopt_appr6))\n",
    "\n",
    "print()\n",
    "print(\"Val Set RMSE:\", mean_squared_error(y_val, y_val_hyperopt_appr6, squared=False))\n",
    "print(\"Val Set MAE:\", mean_absolute_error(y_val, y_val_hyperopt_appr6))\n",
    "print(\"Val Set R2:\", r2_score(y_val, y_val_hyperopt_appr6))\n",
    "\n",
    "total_capacity = 523.005001\n",
    "y_train_hyperopt_appr6_adj = np.array([total_capacity*0.98 if i > total_capacity else 0 if i < 0 else i for i in y_train_hyperopt_appr6])\n",
    "y_val_hyperopt_appr6_adj = np.array([total_capacity*0.98 if i > total_capacity else 0 if i < 0 else i for i in y_val_hyperopt_appr6])\n",
    "\n",
    "y_train_hyperopt_appr6_adj = [pred if  6 <= hour <= 19 else 0 for hour, pred in zip(y_train.index.hour, y_train_hyperopt_appr6_adj)]\n",
    "y_val_hyperopt_appr6_adj = [pred if  6 <= hour <= 19 else 0 for hour, pred in zip(y_val.index.hour, y_val_hyperopt_appr6_adj)]\n",
    "print()\n",
    "print(\"Adj Train Set RMSE:\", mean_squared_error(y_train, y_train_hyperopt_appr6_adj, squared=False))\n",
    "print(\"Adj Train Set MAE:\", mean_absolute_error(y_train, y_train_hyperopt_appr6_adj))\n",
    "print(\"Adj Train Set R2:\", r2_score(y_train, y_train_hyperopt_appr6_adj))\n",
    "\n",
    "print()\n",
    "print(\"Adj Val Set RMSE:\", mean_squared_error(y_val, y_val_hyperopt_appr6_adj, squared=False))\n",
    "print(\"Adj Val Set MAE:\", mean_absolute_error(y_val, y_val_hyperopt_appr6_adj))\n",
    "print(\"Adj Val Set R2:\", r2_score(y_val, y_val_hyperopt_appr6_adj))"
   ]
  },
  {
   "cell_type": "markdown",
   "metadata": {},
   "source": [
    "**Approach 7: LGBM Regressor with Hyperopt, Day Flags Removed**"
   ]
  },
  {
   "cell_type": "code",
   "execution_count": 683,
   "metadata": {
    "ExecuteTime": {
     "end_time": "2022-02-27T14:55:13.250152Z",
     "start_time": "2022-02-27T14:55:13.230189Z"
    }
   },
   "outputs": [],
   "source": [
    "def objective_lgbm(space_lgbm):\n",
    "    # Instantiate the regressor\n",
    "    reg = LGBMRegressor(boosting_type=space_lgbm['boosting_type'][\"boosting_type\"],\n",
    "                        n_estimators =1000,\n",
    "                        colsample_bytree = space_lgbm['colsample_bytree'],\n",
    "                        max_depth = int(space_lgbm['max_depth']),\n",
    "                        min_child_weight = space_lgbm['min_child_weight'],\n",
    "                        subsample = space_lgbm['subsample'],\n",
    "                        reg_lambda = space_lgbm['reg_lambda'],\n",
    "                        learning_rate = space_lgbm['learning_rate'],\n",
    "                        min_child_samples = space_lgbm['min_child_samples'],\n",
    "                        min_split_gain = space_lgbm['min_split_gain'],\n",
    "                        num_leaves = space_lgbm['num_leaves']\n",
    "                        )\n",
    "    \n",
    "    eval_set  = [( X3_train, y_train), ( X3_val, y_val)]\n",
    "    \n",
    "    # Fit the classsifier\n",
    "    reg.fit(X3_train, y_train,\n",
    "            eval_set=eval_set, eval_metric=\"rmse\",\n",
    "            early_stopping_rounds=10,verbose=False)\n",
    "    \n",
    "    # Predict on Cross Validation data\n",
    "    pred = reg.predict(X3_val)\n",
    "    \n",
    "    # Calculate our Metric - RMSE\n",
    "    rmse = np.sqrt(mean_squared_error(y_val, pred))\n",
    "    # return the loss\n",
    "    return {'loss': rmse, 'status': STATUS_OK }"
   ]
  },
  {
   "cell_type": "code",
   "execution_count": 686,
   "metadata": {
    "ExecuteTime": {
     "end_time": "2022-02-27T15:11:59.047324Z",
     "start_time": "2022-02-27T15:05:42.251283Z"
    }
   },
   "outputs": [
    {
     "name": "stdout",
     "output_type": "stream",
     "text": [
      "100%|██████████████████████████████████████████████| 100/100 [06:16<00:00,  3.77s/trial, best loss: 20.635244167028233]\n",
      "{'boosting_type': 0, 'x_colsample_bytree': 0.8305823781062245, 'x_learning_rate': 0.03848668327760869, 'x_max_depth': 377.0, 'x_min_child_samples': 30, 'x_min_child_weight': 0.0, 'x_min_split_gain': 0.007390021910309094, 'x_num_leaves': 102, 'x_reg_lambda': 0.11995151410610286, 'x_subsample': 0.5552565639136166}\n"
     ]
    }
   ],
   "source": [
    "space_lgbm ={'boosting_type': hp.choice('boosting_type',\n",
    "                                   [{'boosting_type': 'gbdt'},\n",
    "                                    {'boosting_type': 'goss'}\n",
    "                                   ]),\n",
    "            'max_depth': hp.quniform(\"x_max_depth\", 3, 500, 1),\n",
    "            'min_child_weight': hp.quniform ('x_min_child_weight', 0.00001, 1, 1),\n",
    "            'subsample': hp.uniform ('x_subsample', 0.5, 1),\n",
    "            'colsample_bytree' : hp.uniform ('x_colsample_bytree', 0.5, 1),\n",
    "            'reg_lambda' : hp.uniform ('x_reg_lambda', 0, 1),\n",
    "            'min_child_samples': hp.choice('x_min_child_samples', np.arange(2, 500, dtype=int)),\n",
    "            'min_split_gain': hp.uniform('x_min_split_gain', 0, 0.1),\n",
    "            'num_leaves': hp.choice('x_num_leaves', np.arange(2, 500, dtype=int)),\n",
    "            'learning_rate': hp.uniform('x_learning_rate', 0.00001, 0.1) \n",
    "           }\n",
    "\n",
    "trials_appr7 = Trials()\n",
    "best_appr7 = fmin(fn=objective_lgbm,\n",
    "            space=space_lgbm,\n",
    "            algo=tpe.suggest,\n",
    "            max_evals=100,\n",
    "            trials=trials_appr7)\n",
    "print(best_appr7)"
   ]
  },
  {
   "cell_type": "code",
   "execution_count": 691,
   "metadata": {
    "ExecuteTime": {
     "end_time": "2022-02-27T15:15:22.985898Z",
     "start_time": "2022-02-27T15:15:22.439899Z"
    }
   },
   "outputs": [
    {
     "name": "stdout",
     "output_type": "stream",
     "text": [
      "Train Set RMSE: 19.072911586059682\n",
      "Train Set MAE: 10.474097332625103\n",
      "Train Set R2: 0.9769375828460577\n",
      "\n",
      "Val Set RMSE: 22.849041809705064\n",
      "Val Set MAE: 12.33231626450665\n",
      "Val Set R2: 0.968360038082401\n",
      "\n",
      "Adj Train Set RMSE: 19.044907063844636\n",
      "Adj Train Set MAE: 10.059270922766709\n",
      "Adj Train Set R2: 0.9770052576551546\n",
      "\n",
      "Adj Val Set RMSE: 22.82882837994658\n",
      "Adj Val Set MAE: 11.940090024284792\n",
      "Adj Val Set R2: 0.9684159939743683\n"
     ]
    }
   ],
   "source": [
    "HyperoptLGBM_appr7 = LGBMRegressor(x_boostin_type='gbdt', \n",
    "                                   x_colsample_bytree = 0.8305823781062245, \n",
    "                                   x_learning_rate = 0.03848668327760869,\n",
    "                                   x_max_depth = 377.0, \n",
    "                                   x_min_child = 30.0, \n",
    "                                   x_min_child_weight = 0,\n",
    "                                   x_min_child_samples = 17, \n",
    "                                   x_min_split_gain = 0.007390021910309094,\n",
    "                                   x_num_leaves = 102, \n",
    "                                   x_reg_lambda = 0.11995151410610286, \n",
    "                                   x_subsample = 0.5552565639136166,\n",
    "                                   seed=42\n",
    "                                   )\n",
    "\n",
    "\n",
    "HyperoptLGBM_appr7.fit(X3_train, y_train)\n",
    "y_train_hyperopt_appr7 = HyperoptLGBM_appr7.predict(X3_train)\n",
    "y_val_hyperopt_appr7 = HyperoptLGBM_appr7.predict(X3_val)\n",
    "\n",
    "print(\"Train Set RMSE:\", mean_squared_error(y_train, y_train_hyperopt_appr7, squared=False))\n",
    "print(\"Train Set MAE:\", mean_absolute_error(y_train, y_train_hyperopt_appr7))\n",
    "print(\"Train Set R2:\", r2_score(y_train, y_train_hyperopt_appr7))\n",
    "\n",
    "print()\n",
    "print(\"Val Set RMSE:\", mean_squared_error(y_val, y_val_hyperopt_appr7, squared=False))\n",
    "print(\"Val Set MAE:\", mean_absolute_error(y_val, y_val_hyperopt_appr7))\n",
    "print(\"Val Set R2:\", r2_score(y_val, y_val_hyperopt_appr7))\n",
    "\n",
    "y_train_hyperopt_appr7_adj = np.array([total_capacity*0.98 if i > total_capacity else 0 if i < 0 else i for i in y_train_hyperopt_appr7])\n",
    "y_val_hyperopt_appr7_adj = np.array([total_capacity*0.98 if i > total_capacity else 0 if i < 0 else i for i in y_val_hyperopt_appr7])\n",
    "y_train_hyperopt_appr7_adj = [pred if  6 <= hour <= 19 else 0 for hour, pred in zip(y_train.index.hour, y_train_hyperopt_appr7_adj)]\n",
    "y_val_hyperopt_appr7_adj = [pred if  6 <= hour <= 19 else 0 for hour, pred in zip(y_val.index.hour, y_val_hyperopt_appr7_adj)]\n",
    "print()\n",
    "print(\"Adj Train Set RMSE:\", mean_squared_error(y_train, y_train_hyperopt_appr7_adj, squared=False))\n",
    "print(\"Adj Train Set MAE:\", mean_absolute_error(y_train, y_train_hyperopt_appr7_adj))\n",
    "print(\"Adj Train Set R2:\", r2_score(y_train, y_train_hyperopt_appr7_adj))\n",
    "\n",
    "print()\n",
    "print(\"Adj Val Set RMSE:\", mean_squared_error(y_val, y_val_hyperopt_appr7_adj, squared=False))\n",
    "print(\"Adj Val Set MAE:\", mean_absolute_error(y_val, y_val_hyperopt_appr7_adj))\n",
    "print(\"Adj Val Set R2:\", r2_score(y_val, y_val_hyperopt_appr7_adj))\n"
   ]
  },
  {
   "cell_type": "code",
   "execution_count": 559,
   "metadata": {
    "ExecuteTime": {
     "end_time": "2022-02-26T12:33:28.096691Z",
     "start_time": "2022-02-26T12:33:28.055684Z"
    }
   },
   "outputs": [],
   "source": [
    "#Predict the test data\n",
    "X3_test = X1_test_encoded[X3_train.columns]\n",
    "\n",
    "y_test_appr7 = HyperoptLGBM_appr7.predict(X3_test)\n",
    "y_test_appr7_adj = np.array([total_capacity*0.98 if i > total_capacity else 0 if i < 0 else i for i in y_test_appr7])\n",
    "y_test_appr7_adj_2 = [pred if  6 <= hour <= 19 else 0 for hour, pred in zip(X3_test.index.hour, y_test_appr7_adj)]\n",
    "\n",
    "\n",
    "y_test_appr7_adj_2_df = pd.DataFrame(y_test_appr7_adj_2, index=X3_test.index)\n",
    "y_test_appr7_adj_2_df.columns = [\"Generation\"]\n",
    "y_test_appr7_adj_2_df.index = y_test_appr7_adj_2_df.index.strftime(\"%d%b%Y %-H:%M:%S\")\n",
    "sample_submission7 = sample_submission.drop(\"Generation\", axis=1)\n",
    "sample_submission7[\"Generation\"] = y_test_appr7_adj_2_df[\"Generation\"].values\n",
    "sample_submission7.to_csv('approach7_hyperopt_lgbm_predictions.csv', index=False)"
   ]
  },
  {
   "cell_type": "markdown",
   "metadata": {},
   "source": [
    "**Approach 8: No Time Series Cross Validation, Continuous Features Scaling, LGBM with Hyperparameter Tuning, Drop Missing Columns, Log Transform the Target**"
   ]
  },
  {
   "cell_type": "code",
   "execution_count": 692,
   "metadata": {
    "ExecuteTime": {
     "end_time": "2022-02-27T15:21:26.144870Z",
     "start_time": "2022-02-27T15:15:59.931233Z"
    }
   },
   "outputs": [
    {
     "name": "stdout",
     "output_type": "stream",
     "text": [
      "Fitting 10 folds for each of 162 candidates, totalling 1620 fits\n"
     ]
    },
    {
     "name": "stderr",
     "output_type": "stream",
     "text": [
      "[Parallel(n_jobs=-1)]: Using backend LokyBackend with 8 concurrent workers.\n",
      "[Parallel(n_jobs=-1)]: Done  25 tasks      | elapsed:   11.6s\n",
      "[Parallel(n_jobs=-1)]: Done 146 tasks      | elapsed:   34.0s\n",
      "[Parallel(n_jobs=-1)]: Done 349 tasks      | elapsed:  1.3min\n",
      "[Parallel(n_jobs=-1)]: Done 632 tasks      | elapsed:  2.2min\n",
      "[Parallel(n_jobs=-1)]: Done 997 tasks      | elapsed:  3.4min\n",
      "[Parallel(n_jobs=-1)]: Done 1442 tasks      | elapsed:  4.8min\n",
      "[Parallel(n_jobs=-1)]: Done 1620 out of 1620 | elapsed:  5.4min finished\n",
      "c:\\python37\\lib\\site-packages\\sklearn\\utils\\validation.py:72: DataConversionWarning: A column-vector y was passed when a 1d array was expected. Please change the shape of y to (n_samples, ), for example using ravel().\n",
      "  return f(**kwargs)\n"
     ]
    },
    {
     "name": "stdout",
     "output_type": "stream",
     "text": [
      "{'lgbm__boosting_type': 'gbdt', 'lgbm__learning_rate': 0.1, 'lgbm__max_depth': 30, 'lgbm__min_child_samples': 5, 'lgbm__min_split_gain': 0.0, 'lgbm__n_estimators': 250, 'lgbm__num_leaves': 100}\n",
      "Log Train Set RMSE: 0.07472094119854775\n",
      "Log Train Set MAE: 0.04591319280760376\n",
      "Log Train Set R2: 0.9990901957434714\n",
      "\n",
      "Log Val Set RMSE: 0.20134594417670623\n",
      "Log Val Set MAE: 0.1092339404825652\n",
      "Log Val Set R2: 0.993400331316493\n"
     ]
    }
   ],
   "source": [
    "y_train_log = np.log1p(y_train)\n",
    "y_val_log = np.log1p(y_val)\n",
    "\n",
    "contiuous = ['AirTemperature', 'ComfortTemperature', 'RelativeHumidity', 'WindSpeed', \n",
    "        'WindDirection', 'EffectiveCloudCover']\n",
    "\n",
    "scaler = Pipeline(steps=[\n",
    "        ('standard_scaler', StandardScaler())])\n",
    "\n",
    "preprocessor = ColumnTransformer(\n",
    "        remainder='passthrough', #passthough features not listed\n",
    "        transformers=[\n",
    "            ('scaler',  scaler, contiuous)\n",
    "        ])\n",
    "\n",
    "lgbm8 = LGBMRegressor(n_jobs=-1, random_state=42, n_estimators=100)\n",
    "\n",
    "params = {\n",
    "    \"lgbm__boosting_type\": ['gbdt'],\n",
    "    \"lgbm__n_estimators\": [150, 200, 250],\n",
    "    \"lgbm__min_split_gain\": [0.0, 0.0001, 0.001],\n",
    "    \"lgbm__min_child_samples\":[5, 10],\n",
    "    \"lgbm__max_depth\": [15, 30, 50],\n",
    "    \"lgbm__learning_rate\": [0.1],\n",
    "    \"lgbm__num_leaves\": [40, 70, 100]   \n",
    "}\n",
    "\n",
    "pipe8 = Pipeline(steps=([('preprocessor', preprocessor), ('lgbm', lgbm2)]))\n",
    "\n",
    "#define mse and set greater_is_better=False\n",
    "mse = make_scorer(mean_squared_error,greater_is_better=False)\n",
    "\n",
    "grid8 = GridSearchCV(pipe8, param_grid=params, cv=10, n_jobs=-1, scoring=mse, verbose=2)\n",
    "grid8.fit(X1_train_encoded, y_train_log)\n",
    "\n",
    "print(grid8.best_params_)\n",
    "\n",
    "y_train_grid8 = grid8.predict(X1_train_encoded)\n",
    "y_val_grid8 = grid8.predict(X1_val_encoded)\n",
    "\n",
    "\n",
    "print(\"Log Train Set RMSE:\", mean_squared_error(y_train_log, y_train_grid8, squared=False))\n",
    "print(\"Log Train Set MAE:\", mean_absolute_error(y_train_log, y_train_grid8))\n",
    "print(\"Log Train Set R2:\", r2_score(y_train_log, y_train_grid8))\n",
    "\n",
    "print()\n",
    "print(\"Log Val Set RMSE:\", mean_squared_error(y_val_log, y_val_grid8, squared=False))\n",
    "print(\"Log Val Set MAE:\", mean_absolute_error(y_val_log, y_val_grid8))\n",
    "print(\"Log Val Set R2:\", r2_score(y_val_log, y_val_grid8))"
   ]
  },
  {
   "cell_type": "code",
   "execution_count": 693,
   "metadata": {
    "ExecuteTime": {
     "end_time": "2022-02-27T15:26:21.424001Z",
     "start_time": "2022-02-27T15:26:21.394970Z"
    }
   },
   "outputs": [
    {
     "name": "stdout",
     "output_type": "stream",
     "text": [
      "Train Set RMSE: 10.603634013857317\n",
      "Train Set MAE: 5.1003672438481855\n",
      "Train Set R2: 0.9928717931891347\n",
      "\n",
      "Val Set RMSE: 20.444942819320076\n",
      "Val Set MAE: 10.102464304373209\n",
      "Val Set R2: 0.974667866510606\n"
     ]
    }
   ],
   "source": [
    "#Inverse Log Transorm\n",
    "y_train_grid8_exp = np.expm1(y_train_grid8)\n",
    "y_val_grid8_exp = np.expm1(y_val_grid8)\n",
    "\n",
    "print(\"Train Set RMSE:\", mean_squared_error(y_train, y_train_grid8_exp, squared=False))\n",
    "print(\"Train Set MAE:\", mean_absolute_error(y_train, y_train_grid8_exp))\n",
    "print(\"Train Set R2:\", r2_score(y_train, y_train_grid8_exp))\n",
    "\n",
    "print()\n",
    "print(\"Val Set RMSE:\", mean_squared_error(y_val, y_val_grid8_exp, squared=False))\n",
    "print(\"Val Set MAE:\", mean_absolute_error(y_val, y_val_grid8_exp))\n",
    "print(\"Val Set R2:\", r2_score(y_val, y_val_grid8_exp))"
   ]
  },
  {
   "cell_type": "code",
   "execution_count": 700,
   "metadata": {
    "ExecuteTime": {
     "end_time": "2022-02-27T15:36:11.612909Z",
     "start_time": "2022-02-27T15:36:11.566905Z"
    }
   },
   "outputs": [
    {
     "name": "stdout",
     "output_type": "stream",
     "text": [
      "Train Set RMSE: 10.603632195418825\n",
      "Train Set MAE: 5.098662251113123\n",
      "Train Set R2: 0.9928717956339955\n",
      "\n",
      "Val Set RMSE: 20.444939817871344\n",
      "Val Set MAE: 10.0999284269757\n",
      "Val Set R2: 0.9746678739484448\n"
     ]
    }
   ],
   "source": [
    "#v1 SUBMIT ET\n",
    "\n",
    "y_train_grid8adj = np.array([total_capacity*0.98 if i > total_capacity else 0 if i < 0 else i for i in y_train_grid8_exp])\n",
    "y_val_grid8adj = np.array([total_capacity*0.98 if i > total_capacity else 0 if i < 0 else i for i in y_val_grid8_exp])\n",
    "\n",
    "#y_train_grid8adj2 = [pred if  6 <= hour <= 19 else 0 for hour, pred in zip(y_train.index.hour, y_train_grid8adj)]\n",
    "#y_val_grid8adj2 = [pred if  6 <= hour <= 19 else 0 for hour, pred in zip(y_val.index.hour, y_val_grid8adj)]\n",
    "\n",
    "print(\"Train Set RMSE:\", mean_squared_error(y_train, y_train_grid8adj, squared=False))\n",
    "print(\"Train Set MAE:\", mean_absolute_error(y_train, y_train_grid8adj))\n",
    "print(\"Train Set R2:\", r2_score(y_train, y_train_grid8adj))\n",
    "\n",
    "print()\n",
    "print(\"Val Set RMSE:\", mean_squared_error(y_val, y_val_grid8adj, squared=False))\n",
    "print(\"Val Set MAE:\", mean_absolute_error(y_val, y_val_grid8adj))\n",
    "print(\"Val Set R2:\", r2_score(y_val, y_val_grid8adj))"
   ]
  },
  {
   "cell_type": "code",
   "execution_count": 699,
   "metadata": {
    "ExecuteTime": {
     "end_time": "2022-02-27T15:32:55.695818Z",
     "start_time": "2022-02-27T15:32:55.639818Z"
    }
   },
   "outputs": [],
   "source": [
    "#Predict the test data\n",
    "y_test_grid8 = grid8.predict(X1_test_encoded)\n",
    "y_test_grid8_exp = np.expm1(y_test_grid8)\n",
    "y_test_grid8_expadj = np.array([total_capacity*0.98 if i > total_capacity else 0 if i < 0 else i for i in y_test_grid8_exp])\n",
    "#y_test_grid8adj_exp2 = [pred if  6 <= hour <= 19 else 0 for hour, pred in zip(X1_test.index.hour, y_test_grid8_expadj)]\n",
    "\n",
    "y_test_grid8adj_exp2_df = pd.DataFrame(y_test_grid8adj_exp2, index=X3_test.index)\n",
    "y_test_grid8adj_exp2_df.columns = [\"Generation\"]\n",
    "y_test_grid8adj_exp2_df.index = y_test_grid8adj_exp2_df.index.strftime(\"%d%b%Y %-H:%M:%S\")\n",
    "sample_submission8 = sample_submission.drop(\"Generation\", axis=1)\n",
    "sample_submission8[\"Generation\"] = y_test_grid8adj_exp2_df[\"Generation\"].values\n",
    "sample_submission8.to_csv('approach8_logtransformed_lgbm_predictions.csv', index=False)"
   ]
  },
  {
   "cell_type": "markdown",
   "metadata": {},
   "source": [
    "**Approach9:**\n",
    "\n",
    "**WWCode Imputed by Predicting, WWCode Clustering by Description, Continuous Variable Scaling, GridSearch CV, LGBM with Hyperparameter Tuning**"
   ]
  },
  {
   "cell_type": "code",
   "execution_count": 708,
   "metadata": {
    "ExecuteTime": {
     "end_time": "2022-02-27T15:48:14.487845Z",
     "start_time": "2022-02-27T15:48:14.312933Z"
    }
   },
   "outputs": [
    {
     "data": {
      "text/html": [
       "<div>\n",
       "<style scoped>\n",
       "    .dataframe tbody tr th:only-of-type {\n",
       "        vertical-align: middle;\n",
       "    }\n",
       "\n",
       "    .dataframe tbody tr th {\n",
       "        vertical-align: top;\n",
       "    }\n",
       "\n",
       "    .dataframe thead th {\n",
       "        text-align: right;\n",
       "    }\n",
       "</style>\n",
       "<table border=\"1\" class=\"dataframe\">\n",
       "  <thead>\n",
       "    <tr style=\"text-align: right;\">\n",
       "      <th>DateTime</th>\n",
       "      <th>2019-01-01 00:00:00</th>\n",
       "      <th>2019-01-01 01:00:00</th>\n",
       "      <th>2019-01-01 02:00:00</th>\n",
       "      <th>2019-01-01 03:00:00</th>\n",
       "      <th>2019-01-01 04:00:00</th>\n",
       "    </tr>\n",
       "  </thead>\n",
       "  <tbody>\n",
       "    <tr>\n",
       "      <th>AirTemperature</th>\n",
       "      <td>-1.7</td>\n",
       "      <td>-1.8</td>\n",
       "      <td>-2</td>\n",
       "      <td>-1.9</td>\n",
       "      <td>-2</td>\n",
       "    </tr>\n",
       "    <tr>\n",
       "      <th>ComfortTemperature</th>\n",
       "      <td>-6.1</td>\n",
       "      <td>-5.3</td>\n",
       "      <td>-6</td>\n",
       "      <td>-5.9</td>\n",
       "      <td>-7.1</td>\n",
       "    </tr>\n",
       "    <tr>\n",
       "      <th>RelativeHumidity</th>\n",
       "      <td>75.3</td>\n",
       "      <td>75.3</td>\n",
       "      <td>74.7</td>\n",
       "      <td>76.4</td>\n",
       "      <td>76.4</td>\n",
       "    </tr>\n",
       "    <tr>\n",
       "      <th>WindSpeed</th>\n",
       "      <td>3.6</td>\n",
       "      <td>2.6</td>\n",
       "      <td>3.1</td>\n",
       "      <td>3.1</td>\n",
       "      <td>4.6</td>\n",
       "    </tr>\n",
       "    <tr>\n",
       "      <th>WindDirection</th>\n",
       "      <td>60</td>\n",
       "      <td>70</td>\n",
       "      <td>80</td>\n",
       "      <td>60</td>\n",
       "      <td>60</td>\n",
       "    </tr>\n",
       "    <tr>\n",
       "      <th>WWCode</th>\n",
       "      <td>10</td>\n",
       "      <td>10</td>\n",
       "      <td>10</td>\n",
       "      <td>10</td>\n",
       "      <td>10</td>\n",
       "    </tr>\n",
       "    <tr>\n",
       "      <th>EffectiveCloudCover</th>\n",
       "      <td>6.3</td>\n",
       "      <td>4.5</td>\n",
       "      <td>5.5</td>\n",
       "      <td>7.6</td>\n",
       "      <td>6.5</td>\n",
       "    </tr>\n",
       "    <tr>\n",
       "      <th>is_holiday</th>\n",
       "      <td>1</td>\n",
       "      <td>1</td>\n",
       "      <td>1</td>\n",
       "      <td>1</td>\n",
       "      <td>1</td>\n",
       "    </tr>\n",
       "    <tr>\n",
       "      <th>Hour</th>\n",
       "      <td>0</td>\n",
       "      <td>1</td>\n",
       "      <td>2</td>\n",
       "      <td>3</td>\n",
       "      <td>4</td>\n",
       "    </tr>\n",
       "    <tr>\n",
       "      <th>DayGroup</th>\n",
       "      <td>0</td>\n",
       "      <td>0</td>\n",
       "      <td>0</td>\n",
       "      <td>0</td>\n",
       "      <td>0</td>\n",
       "    </tr>\n",
       "    <tr>\n",
       "      <th>Month</th>\n",
       "      <td>1</td>\n",
       "      <td>1</td>\n",
       "      <td>1</td>\n",
       "      <td>1</td>\n",
       "      <td>1</td>\n",
       "    </tr>\n",
       "    <tr>\n",
       "      <th>Autumn</th>\n",
       "      <td>0</td>\n",
       "      <td>0</td>\n",
       "      <td>0</td>\n",
       "      <td>0</td>\n",
       "      <td>0</td>\n",
       "    </tr>\n",
       "    <tr>\n",
       "      <th>Spring</th>\n",
       "      <td>0</td>\n",
       "      <td>0</td>\n",
       "      <td>0</td>\n",
       "      <td>0</td>\n",
       "      <td>0</td>\n",
       "    </tr>\n",
       "    <tr>\n",
       "      <th>Summer</th>\n",
       "      <td>0</td>\n",
       "      <td>0</td>\n",
       "      <td>0</td>\n",
       "      <td>0</td>\n",
       "      <td>0</td>\n",
       "    </tr>\n",
       "    <tr>\n",
       "      <th>Winter</th>\n",
       "      <td>1</td>\n",
       "      <td>1</td>\n",
       "      <td>1</td>\n",
       "      <td>1</td>\n",
       "      <td>1</td>\n",
       "    </tr>\n",
       "    <tr>\n",
       "      <th>wwcode_description</th>\n",
       "      <td>Mist</td>\n",
       "      <td>Mist</td>\n",
       "      <td>Mist</td>\n",
       "      <td>Mist</td>\n",
       "      <td>Mist</td>\n",
       "    </tr>\n",
       "    <tr>\n",
       "      <th>wwcode_cluster</th>\n",
       "      <td>0</td>\n",
       "      <td>0</td>\n",
       "      <td>0</td>\n",
       "      <td>0</td>\n",
       "      <td>0</td>\n",
       "    </tr>\n",
       "    <tr>\n",
       "      <th>become less developed</th>\n",
       "      <td>0</td>\n",
       "      <td>0</td>\n",
       "      <td>0</td>\n",
       "      <td>0</td>\n",
       "      <td>0</td>\n",
       "    </tr>\n",
       "    <tr>\n",
       "      <th>cloud development observe</th>\n",
       "      <td>0</td>\n",
       "      <td>0</td>\n",
       "      <td>0</td>\n",
       "      <td>0</td>\n",
       "      <td>0</td>\n",
       "    </tr>\n",
       "    <tr>\n",
       "      <th>cloud generally dissolve</th>\n",
       "      <td>0</td>\n",
       "      <td>0</td>\n",
       "      <td>0</td>\n",
       "      <td>0</td>\n",
       "      <td>0</td>\n",
       "    </tr>\n",
       "    <tr>\n",
       "      <th>cloud generally form</th>\n",
       "      <td>0</td>\n",
       "      <td>0</td>\n",
       "      <td>0</td>\n",
       "      <td>0</td>\n",
       "      <td>0</td>\n",
       "    </tr>\n",
       "    <tr>\n",
       "      <th>development observe observable</th>\n",
       "      <td>0</td>\n",
       "      <td>0</td>\n",
       "      <td>0</td>\n",
       "      <td>0</td>\n",
       "      <td>0</td>\n",
       "    </tr>\n",
       "    <tr>\n",
       "      <th>dissolve become less</th>\n",
       "      <td>0</td>\n",
       "      <td>0</td>\n",
       "      <td>0</td>\n",
       "      <td>0</td>\n",
       "      <td>0</td>\n",
       "    </tr>\n",
       "    <tr>\n",
       "      <th>dust suspension air</th>\n",
       "      <td>0</td>\n",
       "      <td>0</td>\n",
       "      <td>0</td>\n",
       "      <td>0</td>\n",
       "      <td>0</td>\n",
       "    </tr>\n",
       "    <tr>\n",
       "      <th>fall snowflake slight</th>\n",
       "      <td>0</td>\n",
       "      <td>0</td>\n",
       "      <td>0</td>\n",
       "      <td>0</td>\n",
       "      <td>0</td>\n",
       "    </tr>\n",
       "    <tr>\n",
       "      <th>freeze intermittent slight</th>\n",
       "      <td>0</td>\n",
       "      <td>0</td>\n",
       "      <td>0</td>\n",
       "      <td>0</td>\n",
       "      <td>0</td>\n",
       "    </tr>\n",
       "    <tr>\n",
       "      <th>generally dissolve become</th>\n",
       "      <td>0</td>\n",
       "      <td>0</td>\n",
       "      <td>0</td>\n",
       "      <td>0</td>\n",
       "      <td>0</td>\n",
       "    </tr>\n",
       "    <tr>\n",
       "      <th>generally form develop</th>\n",
       "      <td>0</td>\n",
       "      <td>0</td>\n",
       "      <td>0</td>\n",
       "      <td>0</td>\n",
       "      <td>0</td>\n",
       "    </tr>\n",
       "    <tr>\n",
       "      <th>hail rain snow</th>\n",
       "      <td>0</td>\n",
       "      <td>0</td>\n",
       "      <td>0</td>\n",
       "      <td>0</td>\n",
       "      <td>0</td>\n",
       "    </tr>\n",
       "    <tr>\n",
       "      <th>moderate without hail</th>\n",
       "      <td>0</td>\n",
       "      <td>0</td>\n",
       "      <td>0</td>\n",
       "      <td>0</td>\n",
       "      <td>0</td>\n",
       "    </tr>\n",
       "    <tr>\n",
       "      <th>rain freeze intermittent</th>\n",
       "      <td>0</td>\n",
       "      <td>0</td>\n",
       "      <td>0</td>\n",
       "      <td>0</td>\n",
       "      <td>0</td>\n",
       "    </tr>\n",
       "    <tr>\n",
       "      <th>rain shower slight</th>\n",
       "      <td>0</td>\n",
       "      <td>0</td>\n",
       "      <td>0</td>\n",
       "      <td>0</td>\n",
       "      <td>0</td>\n",
       "    </tr>\n",
       "    <tr>\n",
       "      <th>sky whole unchanged</th>\n",
       "      <td>0</td>\n",
       "      <td>0</td>\n",
       "      <td>0</td>\n",
       "      <td>0</td>\n",
       "      <td>0</td>\n",
       "    </tr>\n",
       "    <tr>\n",
       "      <th>slight moderate without</th>\n",
       "      <td>0</td>\n",
       "      <td>0</td>\n",
       "      <td>0</td>\n",
       "      <td>0</td>\n",
       "      <td>0</td>\n",
       "    </tr>\n",
       "    <tr>\n",
       "      <th>state sky whole</th>\n",
       "      <td>0</td>\n",
       "      <td>0</td>\n",
       "      <td>0</td>\n",
       "      <td>0</td>\n",
       "      <td>0</td>\n",
       "    </tr>\n",
       "    <tr>\n",
       "      <th>thunderstorm slight moderate</th>\n",
       "      <td>0</td>\n",
       "      <td>0</td>\n",
       "      <td>0</td>\n",
       "      <td>0</td>\n",
       "      <td>0</td>\n",
       "    </tr>\n",
       "    <tr>\n",
       "      <th>visibility reduce smoke</th>\n",
       "      <td>0</td>\n",
       "      <td>0</td>\n",
       "      <td>0</td>\n",
       "      <td>0</td>\n",
       "      <td>0</td>\n",
       "    </tr>\n",
       "    <tr>\n",
       "      <th>widespread dust suspension</th>\n",
       "      <td>0</td>\n",
       "      <td>0</td>\n",
       "      <td>0</td>\n",
       "      <td>0</td>\n",
       "      <td>0</td>\n",
       "    </tr>\n",
       "    <tr>\n",
       "      <th>without hail rain</th>\n",
       "      <td>0</td>\n",
       "      <td>0</td>\n",
       "      <td>0</td>\n",
       "      <td>0</td>\n",
       "      <td>0</td>\n",
       "    </tr>\n",
       "    <tr>\n",
       "      <th>Day</th>\n",
       "      <td>1</td>\n",
       "      <td>1</td>\n",
       "      <td>1</td>\n",
       "      <td>1</td>\n",
       "      <td>1</td>\n",
       "    </tr>\n",
       "  </tbody>\n",
       "</table>\n",
       "</div>"
      ],
      "text/plain": [
       "DateTime                       2019-01-01 00:00:00 2019-01-01 01:00:00  \\\n",
       "AirTemperature                                -1.7                -1.8   \n",
       "ComfortTemperature                            -6.1                -5.3   \n",
       "RelativeHumidity                              75.3                75.3   \n",
       "WindSpeed                                      3.6                 2.6   \n",
       "WindDirection                                   60                  70   \n",
       "WWCode                                          10                  10   \n",
       "EffectiveCloudCover                            6.3                 4.5   \n",
       "is_holiday                                       1                   1   \n",
       "Hour                                             0                   1   \n",
       "DayGroup                                         0                   0   \n",
       "Month                                            1                   1   \n",
       "Autumn                                           0                   0   \n",
       "Spring                                           0                   0   \n",
       "Summer                                           0                   0   \n",
       "Winter                                           1                   1   \n",
       "wwcode_description                            Mist                Mist   \n",
       "wwcode_cluster                                   0                   0   \n",
       "become less developed                            0                   0   \n",
       "cloud development observe                        0                   0   \n",
       "cloud generally dissolve                         0                   0   \n",
       "cloud generally form                             0                   0   \n",
       "development observe observable                   0                   0   \n",
       "dissolve become less                             0                   0   \n",
       "dust suspension air                              0                   0   \n",
       "fall snowflake slight                            0                   0   \n",
       "freeze intermittent slight                       0                   0   \n",
       "generally dissolve become                        0                   0   \n",
       "generally form develop                           0                   0   \n",
       "hail rain snow                                   0                   0   \n",
       "moderate without hail                            0                   0   \n",
       "rain freeze intermittent                         0                   0   \n",
       "rain shower slight                               0                   0   \n",
       "sky whole unchanged                              0                   0   \n",
       "slight moderate without                          0                   0   \n",
       "state sky whole                                  0                   0   \n",
       "thunderstorm slight moderate                     0                   0   \n",
       "visibility reduce smoke                          0                   0   \n",
       "widespread dust suspension                       0                   0   \n",
       "without hail rain                                0                   0   \n",
       "Day                                              1                   1   \n",
       "\n",
       "DateTime                       2019-01-01 02:00:00 2019-01-01 03:00:00  \\\n",
       "AirTemperature                                  -2                -1.9   \n",
       "ComfortTemperature                              -6                -5.9   \n",
       "RelativeHumidity                              74.7                76.4   \n",
       "WindSpeed                                      3.1                 3.1   \n",
       "WindDirection                                   80                  60   \n",
       "WWCode                                          10                  10   \n",
       "EffectiveCloudCover                            5.5                 7.6   \n",
       "is_holiday                                       1                   1   \n",
       "Hour                                             2                   3   \n",
       "DayGroup                                         0                   0   \n",
       "Month                                            1                   1   \n",
       "Autumn                                           0                   0   \n",
       "Spring                                           0                   0   \n",
       "Summer                                           0                   0   \n",
       "Winter                                           1                   1   \n",
       "wwcode_description                            Mist                Mist   \n",
       "wwcode_cluster                                   0                   0   \n",
       "become less developed                            0                   0   \n",
       "cloud development observe                        0                   0   \n",
       "cloud generally dissolve                         0                   0   \n",
       "cloud generally form                             0                   0   \n",
       "development observe observable                   0                   0   \n",
       "dissolve become less                             0                   0   \n",
       "dust suspension air                              0                   0   \n",
       "fall snowflake slight                            0                   0   \n",
       "freeze intermittent slight                       0                   0   \n",
       "generally dissolve become                        0                   0   \n",
       "generally form develop                           0                   0   \n",
       "hail rain snow                                   0                   0   \n",
       "moderate without hail                            0                   0   \n",
       "rain freeze intermittent                         0                   0   \n",
       "rain shower slight                               0                   0   \n",
       "sky whole unchanged                              0                   0   \n",
       "slight moderate without                          0                   0   \n",
       "state sky whole                                  0                   0   \n",
       "thunderstorm slight moderate                     0                   0   \n",
       "visibility reduce smoke                          0                   0   \n",
       "widespread dust suspension                       0                   0   \n",
       "without hail rain                                0                   0   \n",
       "Day                                              1                   1   \n",
       "\n",
       "DateTime                       2019-01-01 04:00:00  \n",
       "AirTemperature                                  -2  \n",
       "ComfortTemperature                            -7.1  \n",
       "RelativeHumidity                              76.4  \n",
       "WindSpeed                                      4.6  \n",
       "WindDirection                                   60  \n",
       "WWCode                                          10  \n",
       "EffectiveCloudCover                            6.5  \n",
       "is_holiday                                       1  \n",
       "Hour                                             4  \n",
       "DayGroup                                         0  \n",
       "Month                                            1  \n",
       "Autumn                                           0  \n",
       "Spring                                           0  \n",
       "Summer                                           0  \n",
       "Winter                                           1  \n",
       "wwcode_description                            Mist  \n",
       "wwcode_cluster                                   0  \n",
       "become less developed                            0  \n",
       "cloud development observe                        0  \n",
       "cloud generally dissolve                         0  \n",
       "cloud generally form                             0  \n",
       "development observe observable                   0  \n",
       "dissolve become less                             0  \n",
       "dust suspension air                              0  \n",
       "fall snowflake slight                            0  \n",
       "freeze intermittent slight                       0  \n",
       "generally dissolve become                        0  \n",
       "generally form develop                           0  \n",
       "hail rain snow                                   0  \n",
       "moderate without hail                            0  \n",
       "rain freeze intermittent                         0  \n",
       "rain shower slight                               0  \n",
       "sky whole unchanged                              0  \n",
       "slight moderate without                          0  \n",
       "state sky whole                                  0  \n",
       "thunderstorm slight moderate                     0  \n",
       "visibility reduce smoke                          0  \n",
       "widespread dust suspension                       0  \n",
       "without hail rain                                0  \n",
       "Day                                              1  "
      ]
     },
     "execution_count": 708,
     "metadata": {},
     "output_type": "execute_result"
    }
   ],
   "source": [
    "X_imp_cl = pd.read_csv('X_wwcode_clusters.csv', index_col='DateTime', parse_dates=['DateTime'])\n",
    "X_imp_cl.head().T"
   ]
  },
  {
   "cell_type": "code",
   "execution_count": 705,
   "metadata": {
    "ExecuteTime": {
     "end_time": "2022-02-27T15:39:48.405472Z",
     "start_time": "2022-02-27T15:39:48.397508Z"
    }
   },
   "outputs": [
    {
     "name": "stdout",
     "output_type": "stream",
     "text": [
      "(26304, 40)\n"
     ]
    }
   ],
   "source": [
    "print(X_imp_cl.shape)"
   ]
  },
  {
   "cell_type": "code",
   "execution_count": 710,
   "metadata": {
    "ExecuteTime": {
     "end_time": "2022-02-27T15:48:48.816686Z",
     "start_time": "2022-02-27T15:48:48.669668Z"
    }
   },
   "outputs": [
    {
     "data": {
      "text/html": [
       "<div>\n",
       "<style scoped>\n",
       "    .dataframe tbody tr th:only-of-type {\n",
       "        vertical-align: middle;\n",
       "    }\n",
       "\n",
       "    .dataframe tbody tr th {\n",
       "        vertical-align: top;\n",
       "    }\n",
       "\n",
       "    .dataframe thead th {\n",
       "        text-align: right;\n",
       "    }\n",
       "</style>\n",
       "<table border=\"1\" class=\"dataframe\">\n",
       "  <thead>\n",
       "    <tr style=\"text-align: right;\">\n",
       "      <th></th>\n",
       "      <th>count</th>\n",
       "      <th>mean</th>\n",
       "      <th>std</th>\n",
       "      <th>min</th>\n",
       "      <th>25%</th>\n",
       "      <th>50%</th>\n",
       "      <th>75%</th>\n",
       "      <th>max</th>\n",
       "    </tr>\n",
       "  </thead>\n",
       "  <tbody>\n",
       "    <tr>\n",
       "      <th>AirTemperature</th>\n",
       "      <td>26304.0</td>\n",
       "      <td>13.741522</td>\n",
       "      <td>9.379876</td>\n",
       "      <td>-13.1</td>\n",
       "      <td>6.00</td>\n",
       "      <td>13.4</td>\n",
       "      <td>21.000000</td>\n",
       "      <td>39.000000</td>\n",
       "    </tr>\n",
       "    <tr>\n",
       "      <th>ComfortTemperature</th>\n",
       "      <td>26304.0</td>\n",
       "      <td>13.239397</td>\n",
       "      <td>9.767058</td>\n",
       "      <td>-19.3</td>\n",
       "      <td>5.10</td>\n",
       "      <td>13.0</td>\n",
       "      <td>21.200000</td>\n",
       "      <td>37.200000</td>\n",
       "    </tr>\n",
       "    <tr>\n",
       "      <th>RelativeHumidity</th>\n",
       "      <td>26304.0</td>\n",
       "      <td>54.352832</td>\n",
       "      <td>22.566688</td>\n",
       "      <td>1.6</td>\n",
       "      <td>36.60</td>\n",
       "      <td>55.1</td>\n",
       "      <td>72.500000</td>\n",
       "      <td>100.000000</td>\n",
       "    </tr>\n",
       "    <tr>\n",
       "      <th>WindSpeed</th>\n",
       "      <td>26304.0</td>\n",
       "      <td>1.655931</td>\n",
       "      <td>1.353196</td>\n",
       "      <td>0.0</td>\n",
       "      <td>0.50</td>\n",
       "      <td>1.5</td>\n",
       "      <td>2.600000</td>\n",
       "      <td>13.400000</td>\n",
       "    </tr>\n",
       "    <tr>\n",
       "      <th>WindDirection</th>\n",
       "      <td>26304.0</td>\n",
       "      <td>87.463960</td>\n",
       "      <td>100.762932</td>\n",
       "      <td>0.0</td>\n",
       "      <td>20.00</td>\n",
       "      <td>30.0</td>\n",
       "      <td>170.000000</td>\n",
       "      <td>360.000000</td>\n",
       "    </tr>\n",
       "    <tr>\n",
       "      <th>WWCode</th>\n",
       "      <td>26304.0</td>\n",
       "      <td>11.384542</td>\n",
       "      <td>23.067932</td>\n",
       "      <td>0.0</td>\n",
       "      <td>0.00</td>\n",
       "      <td>2.0</td>\n",
       "      <td>6.000000</td>\n",
       "      <td>99.000000</td>\n",
       "    </tr>\n",
       "    <tr>\n",
       "      <th>EffectiveCloudCover</th>\n",
       "      <td>26304.0</td>\n",
       "      <td>2.614051</td>\n",
       "      <td>2.497609</td>\n",
       "      <td>0.0</td>\n",
       "      <td>0.00</td>\n",
       "      <td>2.1</td>\n",
       "      <td>5.000000</td>\n",
       "      <td>8.000000</td>\n",
       "    </tr>\n",
       "    <tr>\n",
       "      <th>is_holiday</th>\n",
       "      <td>26304.0</td>\n",
       "      <td>0.038321</td>\n",
       "      <td>0.191974</td>\n",
       "      <td>0.0</td>\n",
       "      <td>0.00</td>\n",
       "      <td>0.0</td>\n",
       "      <td>0.000000</td>\n",
       "      <td>1.000000</td>\n",
       "    </tr>\n",
       "    <tr>\n",
       "      <th>Hour</th>\n",
       "      <td>26304.0</td>\n",
       "      <td>11.500000</td>\n",
       "      <td>6.922318</td>\n",
       "      <td>0.0</td>\n",
       "      <td>5.75</td>\n",
       "      <td>11.5</td>\n",
       "      <td>17.250000</td>\n",
       "      <td>23.000000</td>\n",
       "    </tr>\n",
       "    <tr>\n",
       "      <th>DayGroup</th>\n",
       "      <td>26304.0</td>\n",
       "      <td>0.750000</td>\n",
       "      <td>1.050813</td>\n",
       "      <td>0.0</td>\n",
       "      <td>0.00</td>\n",
       "      <td>0.0</td>\n",
       "      <td>2.000000</td>\n",
       "      <td>3.000000</td>\n",
       "    </tr>\n",
       "    <tr>\n",
       "      <th>Month</th>\n",
       "      <td>26304.0</td>\n",
       "      <td>6.521898</td>\n",
       "      <td>3.449052</td>\n",
       "      <td>1.0</td>\n",
       "      <td>4.00</td>\n",
       "      <td>7.0</td>\n",
       "      <td>10.000000</td>\n",
       "      <td>12.000000</td>\n",
       "    </tr>\n",
       "    <tr>\n",
       "      <th>Autumn</th>\n",
       "      <td>26304.0</td>\n",
       "      <td>0.249088</td>\n",
       "      <td>0.432493</td>\n",
       "      <td>0.0</td>\n",
       "      <td>0.00</td>\n",
       "      <td>0.0</td>\n",
       "      <td>0.000000</td>\n",
       "      <td>1.000000</td>\n",
       "    </tr>\n",
       "    <tr>\n",
       "      <th>Spring</th>\n",
       "      <td>26304.0</td>\n",
       "      <td>0.251825</td>\n",
       "      <td>0.434069</td>\n",
       "      <td>0.0</td>\n",
       "      <td>0.00</td>\n",
       "      <td>0.0</td>\n",
       "      <td>1.000000</td>\n",
       "      <td>1.000000</td>\n",
       "    </tr>\n",
       "    <tr>\n",
       "      <th>Summer</th>\n",
       "      <td>26304.0</td>\n",
       "      <td>0.251825</td>\n",
       "      <td>0.434069</td>\n",
       "      <td>0.0</td>\n",
       "      <td>0.00</td>\n",
       "      <td>0.0</td>\n",
       "      <td>1.000000</td>\n",
       "      <td>1.000000</td>\n",
       "    </tr>\n",
       "    <tr>\n",
       "      <th>Winter</th>\n",
       "      <td>26304.0</td>\n",
       "      <td>0.247263</td>\n",
       "      <td>0.431429</td>\n",
       "      <td>0.0</td>\n",
       "      <td>0.00</td>\n",
       "      <td>0.0</td>\n",
       "      <td>0.000000</td>\n",
       "      <td>1.000000</td>\n",
       "    </tr>\n",
       "    <tr>\n",
       "      <th>wwcode_cluster</th>\n",
       "      <td>26304.0</td>\n",
       "      <td>2.349871</td>\n",
       "      <td>2.444434</td>\n",
       "      <td>0.0</td>\n",
       "      <td>1.00</td>\n",
       "      <td>1.0</td>\n",
       "      <td>3.000000</td>\n",
       "      <td>10.000000</td>\n",
       "    </tr>\n",
       "    <tr>\n",
       "      <th>become less developed</th>\n",
       "      <td>26304.0</td>\n",
       "      <td>0.026441</td>\n",
       "      <td>0.111901</td>\n",
       "      <td>0.0</td>\n",
       "      <td>0.00</td>\n",
       "      <td>0.0</td>\n",
       "      <td>0.000000</td>\n",
       "      <td>0.500000</td>\n",
       "    </tr>\n",
       "    <tr>\n",
       "      <th>cloud development observe</th>\n",
       "      <td>26304.0</td>\n",
       "      <td>0.242853</td>\n",
       "      <td>0.335782</td>\n",
       "      <td>0.0</td>\n",
       "      <td>0.00</td>\n",
       "      <td>0.0</td>\n",
       "      <td>0.707107</td>\n",
       "      <td>0.707107</td>\n",
       "    </tr>\n",
       "    <tr>\n",
       "      <th>cloud generally dissolve</th>\n",
       "      <td>26304.0</td>\n",
       "      <td>0.026441</td>\n",
       "      <td>0.111901</td>\n",
       "      <td>0.0</td>\n",
       "      <td>0.00</td>\n",
       "      <td>0.0</td>\n",
       "      <td>0.000000</td>\n",
       "      <td>0.500000</td>\n",
       "    </tr>\n",
       "    <tr>\n",
       "      <th>cloud generally form</th>\n",
       "      <td>26304.0</td>\n",
       "      <td>0.068549</td>\n",
       "      <td>0.209223</td>\n",
       "      <td>0.0</td>\n",
       "      <td>0.00</td>\n",
       "      <td>0.0</td>\n",
       "      <td>0.000000</td>\n",
       "      <td>0.707107</td>\n",
       "    </tr>\n",
       "    <tr>\n",
       "      <th>development observe observable</th>\n",
       "      <td>26304.0</td>\n",
       "      <td>0.242853</td>\n",
       "      <td>0.335782</td>\n",
       "      <td>0.0</td>\n",
       "      <td>0.00</td>\n",
       "      <td>0.0</td>\n",
       "      <td>0.707107</td>\n",
       "      <td>0.707107</td>\n",
       "    </tr>\n",
       "    <tr>\n",
       "      <th>dissolve become less</th>\n",
       "      <td>26304.0</td>\n",
       "      <td>0.026441</td>\n",
       "      <td>0.111901</td>\n",
       "      <td>0.0</td>\n",
       "      <td>0.00</td>\n",
       "      <td>0.0</td>\n",
       "      <td>0.000000</td>\n",
       "      <td>0.500000</td>\n",
       "    </tr>\n",
       "    <tr>\n",
       "      <th>dust suspension air</th>\n",
       "      <td>26304.0</td>\n",
       "      <td>0.024947</td>\n",
       "      <td>0.130454</td>\n",
       "      <td>0.0</td>\n",
       "      <td>0.00</td>\n",
       "      <td>0.0</td>\n",
       "      <td>0.000000</td>\n",
       "      <td>0.707107</td>\n",
       "    </tr>\n",
       "    <tr>\n",
       "      <th>fall snowflake slight</th>\n",
       "      <td>26304.0</td>\n",
       "      <td>0.013952</td>\n",
       "      <td>0.117295</td>\n",
       "      <td>0.0</td>\n",
       "      <td>0.00</td>\n",
       "      <td>0.0</td>\n",
       "      <td>0.000000</td>\n",
       "      <td>1.000000</td>\n",
       "    </tr>\n",
       "    <tr>\n",
       "      <th>freeze intermittent slight</th>\n",
       "      <td>26304.0</td>\n",
       "      <td>0.012882</td>\n",
       "      <td>0.095968</td>\n",
       "      <td>0.0</td>\n",
       "      <td>0.00</td>\n",
       "      <td>0.0</td>\n",
       "      <td>0.000000</td>\n",
       "      <td>1.000000</td>\n",
       "    </tr>\n",
       "    <tr>\n",
       "      <th>generally dissolve become</th>\n",
       "      <td>26304.0</td>\n",
       "      <td>0.026441</td>\n",
       "      <td>0.111901</td>\n",
       "      <td>0.0</td>\n",
       "      <td>0.00</td>\n",
       "      <td>0.0</td>\n",
       "      <td>0.000000</td>\n",
       "      <td>0.500000</td>\n",
       "    </tr>\n",
       "    <tr>\n",
       "      <th>generally form develop</th>\n",
       "      <td>26304.0</td>\n",
       "      <td>0.068549</td>\n",
       "      <td>0.209223</td>\n",
       "      <td>0.0</td>\n",
       "      <td>0.00</td>\n",
       "      <td>0.0</td>\n",
       "      <td>0.000000</td>\n",
       "      <td>0.707107</td>\n",
       "    </tr>\n",
       "    <tr>\n",
       "      <th>hail rain snow</th>\n",
       "      <td>26304.0</td>\n",
       "      <td>0.006956</td>\n",
       "      <td>0.055347</td>\n",
       "      <td>0.0</td>\n",
       "      <td>0.00</td>\n",
       "      <td>0.0</td>\n",
       "      <td>0.000000</td>\n",
       "      <td>0.447340</td>\n",
       "    </tr>\n",
       "    <tr>\n",
       "      <th>moderate without hail</th>\n",
       "      <td>26304.0</td>\n",
       "      <td>0.006956</td>\n",
       "      <td>0.055347</td>\n",
       "      <td>0.0</td>\n",
       "      <td>0.00</td>\n",
       "      <td>0.0</td>\n",
       "      <td>0.000000</td>\n",
       "      <td>0.447340</td>\n",
       "    </tr>\n",
       "    <tr>\n",
       "      <th>rain freeze intermittent</th>\n",
       "      <td>26304.0</td>\n",
       "      <td>0.012060</td>\n",
       "      <td>0.091986</td>\n",
       "      <td>0.0</td>\n",
       "      <td>0.00</td>\n",
       "      <td>0.0</td>\n",
       "      <td>0.000000</td>\n",
       "      <td>1.000000</td>\n",
       "    </tr>\n",
       "    <tr>\n",
       "      <th>rain shower slight</th>\n",
       "      <td>26304.0</td>\n",
       "      <td>0.042389</td>\n",
       "      <td>0.201479</td>\n",
       "      <td>0.0</td>\n",
       "      <td>0.00</td>\n",
       "      <td>0.0</td>\n",
       "      <td>0.000000</td>\n",
       "      <td>1.000000</td>\n",
       "    </tr>\n",
       "    <tr>\n",
       "      <th>sky whole unchanged</th>\n",
       "      <td>26304.0</td>\n",
       "      <td>0.077662</td>\n",
       "      <td>0.221102</td>\n",
       "      <td>0.0</td>\n",
       "      <td>0.00</td>\n",
       "      <td>0.0</td>\n",
       "      <td>0.000000</td>\n",
       "      <td>0.707107</td>\n",
       "    </tr>\n",
       "    <tr>\n",
       "      <th>slight moderate without</th>\n",
       "      <td>26304.0</td>\n",
       "      <td>0.006956</td>\n",
       "      <td>0.055347</td>\n",
       "      <td>0.0</td>\n",
       "      <td>0.00</td>\n",
       "      <td>0.0</td>\n",
       "      <td>0.000000</td>\n",
       "      <td>0.447340</td>\n",
       "    </tr>\n",
       "    <tr>\n",
       "      <th>state sky whole</th>\n",
       "      <td>26304.0</td>\n",
       "      <td>0.077662</td>\n",
       "      <td>0.221102</td>\n",
       "      <td>0.0</td>\n",
       "      <td>0.00</td>\n",
       "      <td>0.0</td>\n",
       "      <td>0.000000</td>\n",
       "      <td>0.707107</td>\n",
       "    </tr>\n",
       "    <tr>\n",
       "      <th>thunderstorm slight moderate</th>\n",
       "      <td>26304.0</td>\n",
       "      <td>0.007060</td>\n",
       "      <td>0.056277</td>\n",
       "      <td>0.0</td>\n",
       "      <td>0.00</td>\n",
       "      <td>0.0</td>\n",
       "      <td>0.000000</td>\n",
       "      <td>1.000000</td>\n",
       "    </tr>\n",
       "    <tr>\n",
       "      <th>visibility reduce smoke</th>\n",
       "      <td>26304.0</td>\n",
       "      <td>0.066720</td>\n",
       "      <td>0.249541</td>\n",
       "      <td>0.0</td>\n",
       "      <td>0.00</td>\n",
       "      <td>0.0</td>\n",
       "      <td>0.000000</td>\n",
       "      <td>1.000000</td>\n",
       "    </tr>\n",
       "    <tr>\n",
       "      <th>widespread dust suspension</th>\n",
       "      <td>26304.0</td>\n",
       "      <td>0.024947</td>\n",
       "      <td>0.130454</td>\n",
       "      <td>0.0</td>\n",
       "      <td>0.00</td>\n",
       "      <td>0.0</td>\n",
       "      <td>0.000000</td>\n",
       "      <td>0.707107</td>\n",
       "    </tr>\n",
       "    <tr>\n",
       "      <th>without hail rain</th>\n",
       "      <td>26304.0</td>\n",
       "      <td>0.006956</td>\n",
       "      <td>0.055347</td>\n",
       "      <td>0.0</td>\n",
       "      <td>0.00</td>\n",
       "      <td>0.0</td>\n",
       "      <td>0.000000</td>\n",
       "      <td>0.447340</td>\n",
       "    </tr>\n",
       "    <tr>\n",
       "      <th>Day</th>\n",
       "      <td>26304.0</td>\n",
       "      <td>15.732664</td>\n",
       "      <td>8.801537</td>\n",
       "      <td>1.0</td>\n",
       "      <td>8.00</td>\n",
       "      <td>16.0</td>\n",
       "      <td>23.000000</td>\n",
       "      <td>31.000000</td>\n",
       "    </tr>\n",
       "  </tbody>\n",
       "</table>\n",
       "</div>"
      ],
      "text/plain": [
       "                                  count       mean         std   min    25%  \\\n",
       "AirTemperature                  26304.0  13.741522    9.379876 -13.1   6.00   \n",
       "ComfortTemperature              26304.0  13.239397    9.767058 -19.3   5.10   \n",
       "RelativeHumidity                26304.0  54.352832   22.566688   1.6  36.60   \n",
       "WindSpeed                       26304.0   1.655931    1.353196   0.0   0.50   \n",
       "WindDirection                   26304.0  87.463960  100.762932   0.0  20.00   \n",
       "WWCode                          26304.0  11.384542   23.067932   0.0   0.00   \n",
       "EffectiveCloudCover             26304.0   2.614051    2.497609   0.0   0.00   \n",
       "is_holiday                      26304.0   0.038321    0.191974   0.0   0.00   \n",
       "Hour                            26304.0  11.500000    6.922318   0.0   5.75   \n",
       "DayGroup                        26304.0   0.750000    1.050813   0.0   0.00   \n",
       "Month                           26304.0   6.521898    3.449052   1.0   4.00   \n",
       "Autumn                          26304.0   0.249088    0.432493   0.0   0.00   \n",
       "Spring                          26304.0   0.251825    0.434069   0.0   0.00   \n",
       "Summer                          26304.0   0.251825    0.434069   0.0   0.00   \n",
       "Winter                          26304.0   0.247263    0.431429   0.0   0.00   \n",
       "wwcode_cluster                  26304.0   2.349871    2.444434   0.0   1.00   \n",
       "become less developed           26304.0   0.026441    0.111901   0.0   0.00   \n",
       "cloud development observe       26304.0   0.242853    0.335782   0.0   0.00   \n",
       "cloud generally dissolve        26304.0   0.026441    0.111901   0.0   0.00   \n",
       "cloud generally form            26304.0   0.068549    0.209223   0.0   0.00   \n",
       "development observe observable  26304.0   0.242853    0.335782   0.0   0.00   \n",
       "dissolve become less            26304.0   0.026441    0.111901   0.0   0.00   \n",
       "dust suspension air             26304.0   0.024947    0.130454   0.0   0.00   \n",
       "fall snowflake slight           26304.0   0.013952    0.117295   0.0   0.00   \n",
       "freeze intermittent slight      26304.0   0.012882    0.095968   0.0   0.00   \n",
       "generally dissolve become       26304.0   0.026441    0.111901   0.0   0.00   \n",
       "generally form develop          26304.0   0.068549    0.209223   0.0   0.00   \n",
       "hail rain snow                  26304.0   0.006956    0.055347   0.0   0.00   \n",
       "moderate without hail           26304.0   0.006956    0.055347   0.0   0.00   \n",
       "rain freeze intermittent        26304.0   0.012060    0.091986   0.0   0.00   \n",
       "rain shower slight              26304.0   0.042389    0.201479   0.0   0.00   \n",
       "sky whole unchanged             26304.0   0.077662    0.221102   0.0   0.00   \n",
       "slight moderate without         26304.0   0.006956    0.055347   0.0   0.00   \n",
       "state sky whole                 26304.0   0.077662    0.221102   0.0   0.00   \n",
       "thunderstorm slight moderate    26304.0   0.007060    0.056277   0.0   0.00   \n",
       "visibility reduce smoke         26304.0   0.066720    0.249541   0.0   0.00   \n",
       "widespread dust suspension      26304.0   0.024947    0.130454   0.0   0.00   \n",
       "without hail rain               26304.0   0.006956    0.055347   0.0   0.00   \n",
       "Day                             26304.0  15.732664    8.801537   1.0   8.00   \n",
       "\n",
       "                                 50%         75%         max  \n",
       "AirTemperature                  13.4   21.000000   39.000000  \n",
       "ComfortTemperature              13.0   21.200000   37.200000  \n",
       "RelativeHumidity                55.1   72.500000  100.000000  \n",
       "WindSpeed                        1.5    2.600000   13.400000  \n",
       "WindDirection                   30.0  170.000000  360.000000  \n",
       "WWCode                           2.0    6.000000   99.000000  \n",
       "EffectiveCloudCover              2.1    5.000000    8.000000  \n",
       "is_holiday                       0.0    0.000000    1.000000  \n",
       "Hour                            11.5   17.250000   23.000000  \n",
       "DayGroup                         0.0    2.000000    3.000000  \n",
       "Month                            7.0   10.000000   12.000000  \n",
       "Autumn                           0.0    0.000000    1.000000  \n",
       "Spring                           0.0    1.000000    1.000000  \n",
       "Summer                           0.0    1.000000    1.000000  \n",
       "Winter                           0.0    0.000000    1.000000  \n",
       "wwcode_cluster                   1.0    3.000000   10.000000  \n",
       "become less developed            0.0    0.000000    0.500000  \n",
       "cloud development observe        0.0    0.707107    0.707107  \n",
       "cloud generally dissolve         0.0    0.000000    0.500000  \n",
       "cloud generally form             0.0    0.000000    0.707107  \n",
       "development observe observable   0.0    0.707107    0.707107  \n",
       "dissolve become less             0.0    0.000000    0.500000  \n",
       "dust suspension air              0.0    0.000000    0.707107  \n",
       "fall snowflake slight            0.0    0.000000    1.000000  \n",
       "freeze intermittent slight       0.0    0.000000    1.000000  \n",
       "generally dissolve become        0.0    0.000000    0.500000  \n",
       "generally form develop           0.0    0.000000    0.707107  \n",
       "hail rain snow                   0.0    0.000000    0.447340  \n",
       "moderate without hail            0.0    0.000000    0.447340  \n",
       "rain freeze intermittent         0.0    0.000000    1.000000  \n",
       "rain shower slight               0.0    0.000000    1.000000  \n",
       "sky whole unchanged              0.0    0.000000    0.707107  \n",
       "slight moderate without          0.0    0.000000    0.447340  \n",
       "state sky whole                  0.0    0.000000    0.707107  \n",
       "thunderstorm slight moderate     0.0    0.000000    1.000000  \n",
       "visibility reduce smoke          0.0    0.000000    1.000000  \n",
       "widespread dust suspension       0.0    0.000000    0.707107  \n",
       "without hail rain                0.0    0.000000    0.447340  \n",
       "Day                             16.0   23.000000   31.000000  "
      ]
     },
     "execution_count": 710,
     "metadata": {},
     "output_type": "execute_result"
    }
   ],
   "source": [
    "X_imp_cl.describe().T"
   ]
  },
  {
   "cell_type": "code",
   "execution_count": 711,
   "metadata": {
    "ExecuteTime": {
     "end_time": "2022-02-27T15:49:02.602518Z",
     "start_time": "2022-02-27T15:49:02.571520Z"
    }
   },
   "outputs": [
    {
     "name": "stdout",
     "output_type": "stream",
     "text": [
      "<class 'pandas.core.frame.DataFrame'>\n",
      "DatetimeIndex: 26304 entries, 2019-01-01 00:00:00 to 2021-12-31 23:00:00\n",
      "Data columns (total 40 columns):\n",
      " #   Column                          Non-Null Count  Dtype  \n",
      "---  ------                          --------------  -----  \n",
      " 0   AirTemperature                  26304 non-null  float64\n",
      " 1   ComfortTemperature              26304 non-null  float64\n",
      " 2   RelativeHumidity                26304 non-null  float64\n",
      " 3   WindSpeed                       26304 non-null  float64\n",
      " 4   WindDirection                   26304 non-null  float64\n",
      " 5   WWCode                          26304 non-null  float64\n",
      " 6   EffectiveCloudCover             26304 non-null  float64\n",
      " 7   is_holiday                      26304 non-null  int64  \n",
      " 8   Hour                            26304 non-null  int64  \n",
      " 9   DayGroup                        26304 non-null  int64  \n",
      " 10  Month                           26304 non-null  int64  \n",
      " 11  Autumn                          26304 non-null  int64  \n",
      " 12  Spring                          26304 non-null  int64  \n",
      " 13  Summer                          26304 non-null  int64  \n",
      " 14  Winter                          26304 non-null  int64  \n",
      " 15  wwcode_description              26304 non-null  object \n",
      " 16  wwcode_cluster                  26304 non-null  int64  \n",
      " 17  become less developed           26304 non-null  float64\n",
      " 18  cloud development observe       26304 non-null  float64\n",
      " 19  cloud generally dissolve        26304 non-null  float64\n",
      " 20  cloud generally form            26304 non-null  float64\n",
      " 21  development observe observable  26304 non-null  float64\n",
      " 22  dissolve become less            26304 non-null  float64\n",
      " 23  dust suspension air             26304 non-null  float64\n",
      " 24  fall snowflake slight           26304 non-null  float64\n",
      " 25  freeze intermittent slight      26304 non-null  float64\n",
      " 26  generally dissolve become       26304 non-null  float64\n",
      " 27  generally form develop          26304 non-null  float64\n",
      " 28  hail rain snow                  26304 non-null  float64\n",
      " 29  moderate without hail           26304 non-null  float64\n",
      " 30  rain freeze intermittent        26304 non-null  float64\n",
      " 31  rain shower slight              26304 non-null  float64\n",
      " 32  sky whole unchanged             26304 non-null  float64\n",
      " 33  slight moderate without         26304 non-null  float64\n",
      " 34  state sky whole                 26304 non-null  float64\n",
      " 35  thunderstorm slight moderate    26304 non-null  float64\n",
      " 36  visibility reduce smoke         26304 non-null  float64\n",
      " 37  widespread dust suspension      26304 non-null  float64\n",
      " 38  without hail rain               26304 non-null  float64\n",
      " 39  Day                             26304 non-null  int64  \n",
      "dtypes: float64(29), int64(10), object(1)\n",
      "memory usage: 8.2+ MB\n"
     ]
    }
   ],
   "source": [
    "X_imp_cl.info()"
   ]
  },
  {
   "cell_type": "code",
   "execution_count": 714,
   "metadata": {
    "ExecuteTime": {
     "end_time": "2022-02-27T15:51:53.290263Z",
     "start_time": "2022-02-27T15:51:53.275265Z"
    }
   },
   "outputs": [
    {
     "data": {
      "text/plain": [
       "Index(['AirTemperature', 'ComfortTemperature', 'RelativeHumidity', 'WindSpeed',\n",
       "       'WindDirection', 'WWCode', 'EffectiveCloudCover', 'is_holiday', 'Hour',\n",
       "       'DayGroup', 'Month', 'Autumn', 'Spring', 'Summer', 'Winter',\n",
       "       'wwcode_cluster', 'become_less_developed', 'cloud_development_observe',\n",
       "       'cloud_generally_dissolve', 'cloud_generally_form',\n",
       "       'development_observe_observable', 'dissolve_become_less',\n",
       "       'dust_suspension_air', 'fall_snowflake_slight',\n",
       "       'freeze_intermittent_slight', 'generally_dissolve_become',\n",
       "       'generally_form_develop', 'hail_rain_snow', 'moderate_without_hail',\n",
       "       'rain_freeze_intermittent', 'rain_shower_slight', 'sky_whole_unchanged',\n",
       "       'slight_moderate_without', 'state_sky_whole',\n",
       "       'thunderstorm_slight_moderate', 'visibility_reduce_smoke',\n",
       "       'widespread_dust_suspension', 'without_hail_rain', 'Day'],\n",
       "      dtype='object')"
      ]
     },
     "execution_count": 714,
     "metadata": {},
     "output_type": "execute_result"
    }
   ],
   "source": [
    "X_imp_cl = X_imp_cl.drop('wwcode_description', axis=1)\n",
    "X_imp_cl.columns = [i.replace(' ', '_') for i in X_imp_cl.columns]\n",
    "X_imp_cl.columns"
   ]
  },
  {
   "cell_type": "code",
   "execution_count": 717,
   "metadata": {
    "ExecuteTime": {
     "end_time": "2022-02-27T16:54:15.555309Z",
     "start_time": "2022-02-27T16:54:15.539308Z"
    }
   },
   "outputs": [
    {
     "data": {
      "text/plain": [
       "(26304, 39)"
      ]
     },
     "execution_count": 717,
     "metadata": {},
     "output_type": "execute_result"
    }
   ],
   "source": [
    "X_imp_cl.shape"
   ]
  },
  {
   "cell_type": "code",
   "execution_count": 719,
   "metadata": {
    "ExecuteTime": {
     "end_time": "2022-02-27T16:55:38.541770Z",
     "start_time": "2022-02-27T16:55:38.474599Z"
    }
   },
   "outputs": [
    {
     "data": {
      "text/plain": [
       "(25560, 1)"
      ]
     },
     "execution_count": 719,
     "metadata": {},
     "output_type": "execute_result"
    }
   ],
   "source": [
    "y_new = pd.read_csv('generation_data.csv', parse_dates=['DateTime'], index_col=[\"DateTime\"])\n",
    "y_new.shape"
   ]
  },
  {
   "cell_type": "code",
   "execution_count": 723,
   "metadata": {
    "ExecuteTime": {
     "end_time": "2022-02-27T16:57:36.372118Z",
     "start_time": "2022-02-27T16:57:36.362155Z"
    }
   },
   "outputs": [
    {
     "name": "stdout",
     "output_type": "stream",
     "text": [
      "2021-12-31 23:00:00\n",
      "2021-11-30 23:00:00\n",
      "2021-11-30 23:00:00\n"
     ]
    }
   ],
   "source": [
    "X_imp_cl_test = X_imp_cl[y.index.max() + pd.DateOffset(hours=1):]\n",
    "X_imp_cl_model = X_imp_cl[:y.index.max()]\n",
    "print(X_imp_cl_test.index.max())\n",
    "print(y.index.max())\n",
    "print(X_imp_cl_model.index.max())"
   ]
  },
  {
   "cell_type": "code",
   "execution_count": 724,
   "metadata": {
    "ExecuteTime": {
     "end_time": "2022-02-27T16:57:59.277692Z",
     "start_time": "2022-02-27T16:57:59.253660Z"
    }
   },
   "outputs": [],
   "source": [
    "Ximp_train, Ximp_val, y_train, y_val = train_test_split(X_imp_cl_model, y, random_state=421, test_size=0.20)"
   ]
  },
  {
   "cell_type": "code",
   "execution_count": 728,
   "metadata": {
    "ExecuteTime": {
     "end_time": "2022-02-27T17:03:31.767539Z",
     "start_time": "2022-02-27T17:02:02.027459Z"
    }
   },
   "outputs": [
    {
     "name": "stdout",
     "output_type": "stream",
     "text": [
      "Prediction started...\n",
      "Model 0 is completed\n",
      "Model 1 is completed\n",
      "Model 2 is completed\n",
      "Model 3 is completed\n",
      "Model 4 is completed\n",
      "Model 5 is completed\n",
      "Model 6 is completed\n",
      "Model 7 is completed\n",
      "Prediction is completed...\n"
     ]
    },
    {
     "name": "stderr",
     "output_type": "stream",
     "text": [
      "c:\\python37\\lib\\site-packages\\sklearn\\svm\\_base.py:977: ConvergenceWarning: Liblinear failed to converge, increase the number of iterations.\n",
      "  \"the number of iterations.\", ConvergenceWarning)\n"
     ]
    }
   ],
   "source": [
    "model_list = [LGBMRegressor(n_jobs=-1, random_state=42), RandomForestRegressor(n_jobs=-1, random_state=42), \n",
    "              XGBRegressor(n_jobs=-1, random_state=42, objective='reg:squarederror'),ExtraTreesRegressor(random_state=42), \n",
    "              GradientBoostingRegressor(random_state=42), BaggingRegressor(random_state=42), SVR(), LinearSVR(random_state=42)\n",
    "             ]\n",
    "\n",
    "train_rmses = []\n",
    "train_maes = []\n",
    "train_r2s = []\n",
    "val_rmses = []\n",
    "val_maes = []\n",
    "val_r2s = []\n",
    "times = []\n",
    "counter = 0\n",
    "\n",
    "print(\"Prediction started...\")\n",
    "for model in model_list:\n",
    "    mod = model\n",
    "    start_time = time.time()\n",
    "    mod.fit(Ximp_train, np.ravel(y_train))\n",
    "    end_time = time.time()\n",
    "    train_pred = mod.predict(Ximp_train)\n",
    "    val_pred = mod.predict(Ximp_val)\n",
    "    \n",
    "    train_rmses.append(mean_squared_error(np.ravel(y_train), train_pred, squared=False))\n",
    "    train_maes.append(mean_absolute_error(np.ravel(y_train), train_pred))\n",
    "    train_r2s.append(r2_score(np.ravel(y_train), train_pred))\n",
    "    \n",
    "    val_rmses.append(mean_squared_error(np.ravel(y_val), val_pred, squared=False))\n",
    "    val_maes.append(mean_absolute_error(np.ravel(y_val), val_pred))\n",
    "    val_r2s.append(r2_score(np.ravel(y_val), val_pred))\n",
    "\n",
    "    times.append(end_time - start_time)\n",
    "    print(\"Model\",counter,\"is completed\")\n",
    "    counter += 1\n",
    "print(\"Prediction is completed...\")    "
   ]
  },
  {
   "cell_type": "code",
   "execution_count": 729,
   "metadata": {
    "ExecuteTime": {
     "end_time": "2022-02-27T17:04:26.009089Z",
     "start_time": "2022-02-27T17:04:25.815074Z"
    }
   },
   "outputs": [
    {
     "data": {
      "text/html": [
       "<div>\n",
       "<style scoped>\n",
       "    .dataframe tbody tr th:only-of-type {\n",
       "        vertical-align: middle;\n",
       "    }\n",
       "\n",
       "    .dataframe tbody tr th {\n",
       "        vertical-align: top;\n",
       "    }\n",
       "\n",
       "    .dataframe thead th {\n",
       "        text-align: right;\n",
       "    }\n",
       "</style>\n",
       "<table border=\"1\" class=\"dataframe\">\n",
       "  <thead>\n",
       "    <tr style=\"text-align: right;\">\n",
       "      <th></th>\n",
       "      <th>model</th>\n",
       "      <th>train_rmse</th>\n",
       "      <th>train_mae</th>\n",
       "      <th>train_r2</th>\n",
       "      <th>val_rmse</th>\n",
       "      <th>val_mae</th>\n",
       "      <th>val_r2</th>\n",
       "      <th>duration</th>\n",
       "    </tr>\n",
       "  </thead>\n",
       "  <tbody>\n",
       "    <tr>\n",
       "      <th>0</th>\n",
       "      <td>LGBMRegressor(random_state=42)</td>\n",
       "      <td>1.873212e+01</td>\n",
       "      <td>1.038551e+01</td>\n",
       "      <td>0.977754</td>\n",
       "      <td>22.399300</td>\n",
       "      <td>12.081265</td>\n",
       "      <td>0.969593</td>\n",
       "      <td>0.399026</td>\n",
       "    </tr>\n",
       "    <tr>\n",
       "      <th>3</th>\n",
       "      <td>(ExtraTreeRegressor(random_state=1608637542), ...</td>\n",
       "      <td>1.432019e-09</td>\n",
       "      <td>5.406581e-11</td>\n",
       "      <td>1.000000</td>\n",
       "      <td>22.626701</td>\n",
       "      <td>11.332722</td>\n",
       "      <td>0.968973</td>\n",
       "      <td>10.553990</td>\n",
       "    </tr>\n",
       "    <tr>\n",
       "      <th>1</th>\n",
       "      <td>(DecisionTreeRegressor(max_features='auto', ra...</td>\n",
       "      <td>8.557367e+00</td>\n",
       "      <td>4.288207e+00</td>\n",
       "      <td>0.995358</td>\n",
       "      <td>23.411025</td>\n",
       "      <td>11.801757</td>\n",
       "      <td>0.966784</td>\n",
       "      <td>3.365454</td>\n",
       "    </tr>\n",
       "    <tr>\n",
       "      <th>5</th>\n",
       "      <td>(DecisionTreeRegressor(random_state=1952926171...</td>\n",
       "      <td>1.035350e+01</td>\n",
       "      <td>4.835981e+00</td>\n",
       "      <td>0.993204</td>\n",
       "      <td>24.749107</td>\n",
       "      <td>12.401231</td>\n",
       "      <td>0.962879</td>\n",
       "      <td>1.421996</td>\n",
       "    </tr>\n",
       "    <tr>\n",
       "      <th>4</th>\n",
       "      <td>([DecisionTreeRegressor(criterion='friedman_ms...</td>\n",
       "      <td>2.585509e+01</td>\n",
       "      <td>1.581128e+01</td>\n",
       "      <td>0.957620</td>\n",
       "      <td>26.975965</td>\n",
       "      <td>16.561613</td>\n",
       "      <td>0.955898</td>\n",
       "      <td>3.389045</td>\n",
       "    </tr>\n",
       "    <tr>\n",
       "      <th>2</th>\n",
       "      <td>XGBRegressor(n_jobs=-1, objective='reg:squared...</td>\n",
       "      <td>2.586838e+01</td>\n",
       "      <td>1.582585e+01</td>\n",
       "      <td>0.957576</td>\n",
       "      <td>27.021760</td>\n",
       "      <td>16.560725</td>\n",
       "      <td>0.955749</td>\n",
       "      <td>3.164420</td>\n",
       "    </tr>\n",
       "    <tr>\n",
       "      <th>7</th>\n",
       "      <td>LinearSVR(random_state=42)</td>\n",
       "      <td>7.299419e+01</td>\n",
       "      <td>4.589519e+01</td>\n",
       "      <td>0.662210</td>\n",
       "      <td>74.844994</td>\n",
       "      <td>47.269168</td>\n",
       "      <td>0.660511</td>\n",
       "      <td>2.145992</td>\n",
       "    </tr>\n",
       "    <tr>\n",
       "      <th>6</th>\n",
       "      <td>SVR()</td>\n",
       "      <td>1.262755e+02</td>\n",
       "      <td>8.029209e+01</td>\n",
       "      <td>-0.010902</td>\n",
       "      <td>130.274975</td>\n",
       "      <td>83.274750</td>\n",
       "      <td>-0.028542</td>\n",
       "      <td>34.223029</td>\n",
       "    </tr>\n",
       "  </tbody>\n",
       "</table>\n",
       "</div>"
      ],
      "text/plain": [
       "                                               model    train_rmse  \\\n",
       "0                     LGBMRegressor(random_state=42)  1.873212e+01   \n",
       "3  (ExtraTreeRegressor(random_state=1608637542), ...  1.432019e-09   \n",
       "1  (DecisionTreeRegressor(max_features='auto', ra...  8.557367e+00   \n",
       "5  (DecisionTreeRegressor(random_state=1952926171...  1.035350e+01   \n",
       "4  ([DecisionTreeRegressor(criterion='friedman_ms...  2.585509e+01   \n",
       "2  XGBRegressor(n_jobs=-1, objective='reg:squared...  2.586838e+01   \n",
       "7                         LinearSVR(random_state=42)  7.299419e+01   \n",
       "6                                              SVR()  1.262755e+02   \n",
       "\n",
       "      train_mae  train_r2    val_rmse    val_mae    val_r2   duration  \n",
       "0  1.038551e+01  0.977754   22.399300  12.081265  0.969593   0.399026  \n",
       "3  5.406581e-11  1.000000   22.626701  11.332722  0.968973  10.553990  \n",
       "1  4.288207e+00  0.995358   23.411025  11.801757  0.966784   3.365454  \n",
       "5  4.835981e+00  0.993204   24.749107  12.401231  0.962879   1.421996  \n",
       "4  1.581128e+01  0.957620   26.975965  16.561613  0.955898   3.389045  \n",
       "2  1.582585e+01  0.957576   27.021760  16.560725  0.955749   3.164420  \n",
       "7  4.589519e+01  0.662210   74.844994  47.269168  0.660511   2.145992  \n",
       "6  8.029209e+01 -0.010902  130.274975  83.274750 -0.028542  34.223029  "
      ]
     },
     "execution_count": 729,
     "metadata": {},
     "output_type": "execute_result"
    }
   ],
   "source": [
    "modelsdf = pd.DataFrame(\n",
    "    {\n",
    "     'model': model_list,\n",
    "     'train_rmse': train_rmses,\n",
    "     'train_mae': train_maes,\n",
    "     'train_r2': train_r2s,\n",
    "     'val_rmse': val_rmses,\n",
    "     'val_mae': val_maes,\n",
    "     'val_r2': val_r2s,   \n",
    "     'duration': times\n",
    "    })\n",
    "\n",
    "modelsdf.sort_values(by='val_rmse', ascending=True)"
   ]
  },
  {
   "cell_type": "code",
   "execution_count": 738,
   "metadata": {
    "ExecuteTime": {
     "end_time": "2022-02-27T18:54:24.719463Z",
     "start_time": "2022-02-27T17:21:12.401051Z"
    }
   },
   "outputs": [
    {
     "name": "stdout",
     "output_type": "stream",
     "text": [
      "Fitting 3 folds for each of 11520 candidates, totalling 34560 fits\n"
     ]
    },
    {
     "name": "stderr",
     "output_type": "stream",
     "text": [
      "[Parallel(n_jobs=-1)]: Using backend LokyBackend with 8 concurrent workers.\n",
      "[Parallel(n_jobs=-1)]: Done  34 tasks      | elapsed:    4.8s\n",
      "[Parallel(n_jobs=-1)]: Done 184 tasks      | elapsed:   16.5s\n",
      "[Parallel(n_jobs=-1)]: Done 434 tasks      | elapsed:   35.9s\n",
      "[Parallel(n_jobs=-1)]: Done 784 tasks      | elapsed:  1.1min\n",
      "[Parallel(n_jobs=-1)]: Done 1234 tasks      | elapsed:  1.6min\n",
      "[Parallel(n_jobs=-1)]: Done 1784 tasks      | elapsed:  2.5min\n",
      "[Parallel(n_jobs=-1)]: Done 2434 tasks      | elapsed:  3.7min\n",
      "[Parallel(n_jobs=-1)]: Done 3184 tasks      | elapsed:  5.4min\n",
      "[Parallel(n_jobs=-1)]: Done 4034 tasks      | elapsed:  7.6min\n",
      "[Parallel(n_jobs=-1)]: Done 4984 tasks      | elapsed: 10.1min\n",
      "[Parallel(n_jobs=-1)]: Done 6034 tasks      | elapsed: 12.9min\n",
      "[Parallel(n_jobs=-1)]: Done 7184 tasks      | elapsed: 16.0min\n",
      "[Parallel(n_jobs=-1)]: Done 8434 tasks      | elapsed: 19.3min\n",
      "[Parallel(n_jobs=-1)]: Done 9784 tasks      | elapsed: 21.4min\n",
      "[Parallel(n_jobs=-1)]: Done 11234 tasks      | elapsed: 24.4min\n",
      "[Parallel(n_jobs=-1)]: Done 12784 tasks      | elapsed: 29.1min\n",
      "[Parallel(n_jobs=-1)]: Done 14434 tasks      | elapsed: 34.5min\n",
      "[Parallel(n_jobs=-1)]: Done 16184 tasks      | elapsed: 40.3min\n",
      "[Parallel(n_jobs=-1)]: Done 18034 tasks      | elapsed: 45.0min\n",
      "[Parallel(n_jobs=-1)]: Done 19984 tasks      | elapsed: 48.7min\n",
      "[Parallel(n_jobs=-1)]: Done 22034 tasks      | elapsed: 55.5min\n",
      "[Parallel(n_jobs=-1)]: Done 24184 tasks      | elapsed: 62.8min\n",
      "[Parallel(n_jobs=-1)]: Done 26434 tasks      | elapsed: 69.2min\n",
      "[Parallel(n_jobs=-1)]: Done 28784 tasks      | elapsed: 73.5min\n",
      "[Parallel(n_jobs=-1)]: Done 31234 tasks      | elapsed: 81.8min\n",
      "[Parallel(n_jobs=-1)]: Done 33784 tasks      | elapsed: 90.5min\n",
      "[Parallel(n_jobs=-1)]: Done 34560 out of 34560 | elapsed: 93.1min finished\n"
     ]
    },
    {
     "name": "stdout",
     "output_type": "stream",
     "text": [
      "{'boosting_type': 'gbdt', 'learning_rate': 0.1, 'max_depth': 15, 'min_child_samples': 5, 'min_split_gain': 0.0001, 'n_estimators': 500, 'num_leaves': 70}\n",
      "Train Set RMSE: 5.432226310300073\n",
      "Train Set MAE: 3.0694976751887677\n",
      "Train Set R2: 0.998129203530839\n",
      "\n",
      "Val Set RMSE: 20.1990225663696\n",
      "Val Set MAE: 10.394401438824042\n",
      "Val Set R2: 0.9752736122066943\n"
     ]
    }
   ],
   "source": [
    "lgbm_imp = LGBMRegressor(n_jobs=-1, random_state=42)\n",
    "\n",
    "params = {\n",
    "    \"boosting_type\": ['gbdt'],\n",
    "    \"n_estimators\": [50, 100, 200, 500],\n",
    "    \"min_split_gain\": [0.0, 0.0001, 0.001, 0.01, 0.1],\n",
    "    \"min_child_samples\":[5, 10, 20, 30],\n",
    "    \"max_depth\": [3, 5, 10, 15, 30, 50],\n",
    "    \"learning_rate\": [0.1, 0.01, 0.001, 0.0001],\n",
    "    \"num_leaves\": [10, 20, 30, 40, 70, 100]   \n",
    "}\n",
    "\n",
    "\n",
    "#define mse and set greater_is_better=False\n",
    "mse = make_scorer(mean_squared_error,greater_is_better=False)\n",
    "\n",
    "grid_imp = GridSearchCV(lgbm_imp, param_grid=params, cv=3, n_jobs=-1, scoring=mse, verbose=1)\n",
    "grid_imp.fit(Ximp_train, y_train)\n",
    "\n",
    "print(grid_imp.best_params_)\n",
    "\n",
    "y_train_grid_imp = grid_imp.predict(Ximp_train)\n",
    "y_val_grid_imp = grid_imp.predict(Ximp_val)\n",
    "\n",
    "print(\"Train Set RMSE:\", mean_squared_error(y_train, y_train_grid_imp, squared=False))\n",
    "print(\"Train Set MAE:\", mean_absolute_error(y_train, y_train_grid_imp))\n",
    "print(\"Train Set R2:\", r2_score(y_train, y_train_grid_imp))\n",
    "\n",
    "print()\n",
    "print(\"Val Set RMSE:\", mean_squared_error(y_val, y_val_grid_imp, squared=False))\n",
    "print(\"Val Set MAE:\", mean_absolute_error(y_val, y_val_grid_imp))\n",
    "print(\"Val Set R2:\", r2_score(y_val, y_val_grid_imp))"
   ]
  },
  {
   "cell_type": "code",
   "execution_count": 745,
   "metadata": {
    "ExecuteTime": {
     "end_time": "2022-02-27T18:56:17.583720Z",
     "start_time": "2022-02-27T18:56:17.496553Z"
    }
   },
   "outputs": [
    {
     "name": "stdout",
     "output_type": "stream",
     "text": [
      "Adj1 Train Set RMSE: 5.414385382043402\n",
      "Adj1 Train Set MAE: 2.9351761730998644\n",
      "Adj1 Train Set R2: 0.9981414717739019\n",
      "\n",
      "Adj1 Val Set RMSE: 20.180354813860877\n",
      "Adj1 Val Set MAE: 10.183896427738807\n",
      "Adj1 Val Set R2: 0.9753192948915289\n",
      "========================================\n",
      "Adj2 Train Set RMSE: 5.403609655683172\n",
      "Adj2 Train Set MAE: 2.829259269176477\n",
      "Adj2 Train Set R2: 0.9981488621095709\n",
      "\n",
      "Adj2 Val Set RMSE: 20.172140011647052\n",
      "Adj2 Val Set MAE: 10.03476545258425\n",
      "Adj2 Val Set R2: 0.9753393843148096\n"
     ]
    }
   ],
   "source": [
    "y_train_grid_impadj = np.array([total_capacity*0.98 if i > total_capacity else 0 if i < 0 else i for i in y_train_grid_imp])\n",
    "y_val_grid_impadj = np.array([total_capacity*0.98 if i > total_capacity else 0 if i < 0 else i for i in y_val_grid_imp])\n",
    "\n",
    "y_train_grid_impadj2 = [pred if  6 <= hour <= 19 else 0 for hour, pred in zip(y_train.index.hour, y_train_grid_impadj)]\n",
    "y_val_grid_impadj2 = [pred if  6 <= hour <= 19 else 0 for hour, pred in zip(y_val.index.hour, y_val_grid_impadj)]\n",
    "\n",
    "print(\"Adj1 Train Set RMSE:\", mean_squared_error(y_train, y_train_grid_impadj, squared=False))\n",
    "print(\"Adj1 Train Set MAE:\", mean_absolute_error(y_train, y_train_grid_impadj))\n",
    "print(\"Adj1 Train Set R2:\", r2_score(y_train, y_train_grid_impadj))\n",
    "\n",
    "print()\n",
    "print(\"Adj1 Val Set RMSE:\", mean_squared_error(y_val, y_val_grid_impadj, squared=False))\n",
    "print(\"Adj1 Val Set MAE:\", mean_absolute_error(y_val, y_val_grid_impadj))\n",
    "print(\"Adj1 Val Set R2:\", r2_score(y_val, y_val_grid_impadj))\n",
    "print(\"=\"*40)\n",
    "print(\"Adj2 Train Set RMSE:\", mean_squared_error(y_train, y_train_grid_impadj2, squared=False))\n",
    "print(\"Adj2 Train Set MAE:\", mean_absolute_error(y_train, y_train_grid_impadj2))\n",
    "print(\"Adj2 Train Set R2:\", r2_score(y_train, y_train_grid_impadj2))\n",
    "\n",
    "print()\n",
    "print(\"Adj2 Val Set RMSE:\", mean_squared_error(y_val, y_val_grid_impadj2, squared=False))\n",
    "print(\"Adj2 Val Set MAE:\", mean_absolute_error(y_val, y_val_grid_impadj2))\n",
    "print(\"Adj2 Val Set R2:\", r2_score(y_val, y_val_grid_impadj2))"
   ]
  },
  {
   "cell_type": "code",
   "execution_count": 843,
   "metadata": {
    "ExecuteTime": {
     "end_time": "2022-03-01T10:50:30.799480Z",
     "start_time": "2022-03-01T10:50:30.730427Z"
    }
   },
   "outputs": [],
   "source": [
    "#Predict the test set\n",
    "\n",
    "#Predict the test data\n",
    "y_test_imp = grid_imp.predict(X_imp_cl_test)\n",
    "y_test_impadj = np.array([total_capacity*0.98 if i > total_capacity else 0 if i < 0 else i for i in y_test_imp])\n",
    "y_test_impadj2 = [pred if  6 <= hour <= 19 else 0 for hour, pred in zip(X_imp_cl_test.index.hour, y_test_impadj)]\n",
    "\n",
    "y_test_impadj2_df = pd.DataFrame(y_test_impadj2, index=X_imp_cl_test.index)\n",
    "y_test_impadj2_df.columns = [\"Generation\"]\n",
    "y_test_impadj2_df.index = y_test_impadj2_df.index.strftime(\"%d%b%Y %-H:%M:%S\")\n",
    "sample_submission9 = sample_submission.drop(\"Generation\", axis=1)\n",
    "sample_submission9[\"Generation\"] = y_test_impadj2_df[\"Generation\"].values\n",
    "sample_submission9.to_csv('y_test_impadj2_df.csv', index=False)"
   ]
  },
  {
   "cell_type": "code",
   "execution_count": 784,
   "metadata": {
    "ExecuteTime": {
     "end_time": "2022-03-01T07:09:56.794461Z",
     "start_time": "2022-03-01T07:09:56.782124Z"
    }
   },
   "outputs": [],
   "source": [
    "#grid_imp.best_estimator_.feature_importances_\n",
    "from lightgbm import absolute_import, plot_importance, plot_metric"
   ]
  },
  {
   "cell_type": "code",
   "execution_count": 844,
   "metadata": {
    "ExecuteTime": {
     "end_time": "2022-03-01T10:51:58.117351Z",
     "start_time": "2022-03-01T10:51:57.709231Z"
    }
   },
   "outputs": [
    {
     "data": {
      "image/png": "[encoded data removed]",
      "text/plain": [
       "<Figure size 720x576 with 1 Axes>"
      ]
     },
     "metadata": {
      "needs_background": "light"
     },
     "output_type": "display_data"
    }
   ],
   "source": [
    "plot_importance(grid_imp.best_estimator_, figsize=(10, 8));"
   ]
  },
  {
   "cell_type": "code",
   "execution_count": 797,
   "metadata": {
    "ExecuteTime": {
     "end_time": "2022-03-01T08:08:03.593738Z",
     "start_time": "2022-03-01T08:08:03.381686Z"
    }
   },
   "outputs": [],
   "source": [
    "#Lagged Data\n",
    "X_imp_cl_train_lag = pd.read_csv('X_imp_cl_train_lag.csv', index_col='DateTime', parse_dates=['DateTime'] )\n",
    "X_imp_cl_val_lag = pd.read_csv('X_imp_cl_val_lag.csv', index_col='DateTime', parse_dates=['DateTime'])\n",
    "X_imp_cl_val_lag = X_imp_cl_val_lag.rename(columns={'var1(t-24)': 'generation_t_24'})\n",
    "y_imp_cl_train_lag = pd.read_csv('y_imp_cl_train_lag.csv', index_col='DateTime', parse_dates=['DateTime'])\n",
    "y_imp_cl_val_lag = pd.read_csv('y_imp_cl_val_lag.csv', index_col='DateTime', parse_dates=['DateTime'])\n",
    "X_imp_cl_test_lag = pd.read_csv('X_imp_cl_test_lag.csv', index_col='DateTime', parse_dates=['DateTime'])"
   ]
  },
  {
   "cell_type": "code",
   "execution_count": 798,
   "metadata": {
    "ExecuteTime": {
     "end_time": "2022-03-01T08:08:50.224834Z",
     "start_time": "2022-03-01T08:08:10.716894Z"
    }
   },
   "outputs": [
    {
     "name": "stdout",
     "output_type": "stream",
     "text": [
      "Prediction started...\n",
      "Model 0 is completed\n",
      "Model 1 is completed\n",
      "Model 2 is completed\n",
      "Model 3 is completed\n",
      "Model 4 is completed\n",
      "Model 5 is completed\n",
      "Prediction is completed...\n"
     ]
    }
   ],
   "source": [
    "model_list = [LGBMRegressor(n_jobs=-1, random_state=42), RandomForestRegressor(n_jobs=-1, random_state=42), \n",
    "              XGBRegressor(n_jobs=-1, random_state=42, objective='reg:squarederror'),ExtraTreesRegressor(random_state=42), \n",
    "              GradientBoostingRegressor(random_state=42), BaggingRegressor(random_state=42)\n",
    "             ]\n",
    "\n",
    "train_rmses = []\n",
    "train_maes = []\n",
    "train_r2s = []\n",
    "val_rmses = []\n",
    "val_maes = []\n",
    "val_r2s = []\n",
    "times = []\n",
    "counter = 0\n",
    "\n",
    "print(\"Prediction started...\")\n",
    "for model in model_list:\n",
    "    mod = model\n",
    "    start_time = time.time()\n",
    "    mod.fit(X_imp_cl_train_lag, np.ravel(y_imp_cl_train_lag))\n",
    "    end_time = time.time()\n",
    "    train_pred = mod.predict(X_imp_cl_train_lag)\n",
    "    val_pred = mod.predict(X_imp_cl_val_lag)\n",
    "    \n",
    "    train_rmses.append(mean_squared_error(np.ravel(y_imp_cl_train_lag), train_pred, squared=False))\n",
    "    train_maes.append(mean_absolute_error(np.ravel(y_imp_cl_train_lag), train_pred))\n",
    "    train_r2s.append(r2_score(np.ravel(y_imp_cl_train_lag), train_pred))\n",
    "    \n",
    "    val_rmses.append(mean_squared_error(np.ravel(y_imp_cl_val_lag), val_pred, squared=False))\n",
    "    val_maes.append(mean_absolute_error(np.ravel(y_imp_cl_val_lag), val_pred))\n",
    "    val_r2s.append(r2_score(np.ravel(y_imp_cl_val_lag), val_pred))\n",
    "\n",
    "    times.append(end_time - start_time)\n",
    "    print(\"Model\",counter,\"is completed\")\n",
    "    counter += 1\n",
    "print(\"Prediction is completed...\")    "
   ]
  },
  {
   "cell_type": "code",
   "execution_count": 799,
   "metadata": {
    "ExecuteTime": {
     "end_time": "2022-03-01T08:09:41.268089Z",
     "start_time": "2022-03-01T08:09:41.077051Z"
    }
   },
   "outputs": [
    {
     "data": {
      "text/html": [
       "<div>\n",
       "<style scoped>\n",
       "    .dataframe tbody tr th:only-of-type {\n",
       "        vertical-align: middle;\n",
       "    }\n",
       "\n",
       "    .dataframe tbody tr th {\n",
       "        vertical-align: top;\n",
       "    }\n",
       "\n",
       "    .dataframe thead th {\n",
       "        text-align: right;\n",
       "    }\n",
       "</style>\n",
       "<table border=\"1\" class=\"dataframe\">\n",
       "  <thead>\n",
       "    <tr style=\"text-align: right;\">\n",
       "      <th></th>\n",
       "      <th>model</th>\n",
       "      <th>train_rmse</th>\n",
       "      <th>train_mae</th>\n",
       "      <th>train_r2</th>\n",
       "      <th>val_rmse</th>\n",
       "      <th>val_mae</th>\n",
       "      <th>val_r2</th>\n",
       "      <th>duration</th>\n",
       "    </tr>\n",
       "  </thead>\n",
       "  <tbody>\n",
       "    <tr>\n",
       "      <th>0</th>\n",
       "      <td>LGBMRegressor(random_state=42)</td>\n",
       "      <td>1.691996e+01</td>\n",
       "      <td>8.679511e+00</td>\n",
       "      <td>0.981865</td>\n",
       "      <td>25.499875</td>\n",
       "      <td>12.411016</td>\n",
       "      <td>0.962770</td>\n",
       "      <td>0.563010</td>\n",
       "    </tr>\n",
       "    <tr>\n",
       "      <th>4</th>\n",
       "      <td>([DecisionTreeRegressor(criterion='friedman_ms...</td>\n",
       "      <td>2.364537e+01</td>\n",
       "      <td>1.219790e+01</td>\n",
       "      <td>0.964582</td>\n",
       "      <td>26.220517</td>\n",
       "      <td>13.414814</td>\n",
       "      <td>0.960636</td>\n",
       "      <td>5.877019</td>\n",
       "    </tr>\n",
       "    <tr>\n",
       "      <th>3</th>\n",
       "      <td>(ExtraTreeRegressor(random_state=1608637542), ...</td>\n",
       "      <td>2.098925e-13</td>\n",
       "      <td>1.061159e-13</td>\n",
       "      <td>1.000000</td>\n",
       "      <td>26.284074</td>\n",
       "      <td>12.991994</td>\n",
       "      <td>0.960445</td>\n",
       "      <td>18.067032</td>\n",
       "    </tr>\n",
       "    <tr>\n",
       "      <th>2</th>\n",
       "      <td>XGBRegressor(n_jobs=-1, objective='reg:squared...</td>\n",
       "      <td>2.370446e+01</td>\n",
       "      <td>1.226705e+01</td>\n",
       "      <td>0.964405</td>\n",
       "      <td>26.408466</td>\n",
       "      <td>13.599756</td>\n",
       "      <td>0.960069</td>\n",
       "      <td>4.559192</td>\n",
       "    </tr>\n",
       "    <tr>\n",
       "      <th>1</th>\n",
       "      <td>(DecisionTreeRegressor(max_features='auto', ra...</td>\n",
       "      <td>8.479797e+00</td>\n",
       "      <td>4.108839e+00</td>\n",
       "      <td>0.995445</td>\n",
       "      <td>26.744797</td>\n",
       "      <td>13.303943</td>\n",
       "      <td>0.959046</td>\n",
       "      <td>6.045621</td>\n",
       "    </tr>\n",
       "    <tr>\n",
       "      <th>5</th>\n",
       "      <td>(DecisionTreeRegressor(random_state=1952926171...</td>\n",
       "      <td>1.028931e+01</td>\n",
       "      <td>4.713747e+00</td>\n",
       "      <td>0.993293</td>\n",
       "      <td>28.275186</td>\n",
       "      <td>14.113429</td>\n",
       "      <td>0.954225</td>\n",
       "      <td>2.906969</td>\n",
       "    </tr>\n",
       "  </tbody>\n",
       "</table>\n",
       "</div>"
      ],
      "text/plain": [
       "                                               model    train_rmse  \\\n",
       "0                     LGBMRegressor(random_state=42)  1.691996e+01   \n",
       "4  ([DecisionTreeRegressor(criterion='friedman_ms...  2.364537e+01   \n",
       "3  (ExtraTreeRegressor(random_state=1608637542), ...  2.098925e-13   \n",
       "2  XGBRegressor(n_jobs=-1, objective='reg:squared...  2.370446e+01   \n",
       "1  (DecisionTreeRegressor(max_features='auto', ra...  8.479797e+00   \n",
       "5  (DecisionTreeRegressor(random_state=1952926171...  1.028931e+01   \n",
       "\n",
       "      train_mae  train_r2   val_rmse    val_mae    val_r2   duration  \n",
       "0  8.679511e+00  0.981865  25.499875  12.411016  0.962770   0.563010  \n",
       "4  1.219790e+01  0.964582  26.220517  13.414814  0.960636   5.877019  \n",
       "3  1.061159e-13  1.000000  26.284074  12.991994  0.960445  18.067032  \n",
       "2  1.226705e+01  0.964405  26.408466  13.599756  0.960069   4.559192  \n",
       "1  4.108839e+00  0.995445  26.744797  13.303943  0.959046   6.045621  \n",
       "5  4.713747e+00  0.993293  28.275186  14.113429  0.954225   2.906969  "
      ]
     },
     "execution_count": 799,
     "metadata": {},
     "output_type": "execute_result"
    }
   ],
   "source": [
    "modelsdf = pd.DataFrame(\n",
    "    {\n",
    "     'model': model_list,\n",
    "     'train_rmse': train_rmses,\n",
    "     'train_mae': train_maes,\n",
    "     'train_r2': train_r2s,\n",
    "     'val_rmse': val_rmses,\n",
    "     'val_mae': val_maes,\n",
    "     'val_r2': val_r2s,   \n",
    "     'duration': times\n",
    "    })\n",
    "\n",
    "modelsdf.sort_values(by='val_rmse', ascending=True)"
   ]
  },
  {
   "cell_type": "code",
   "execution_count": 809,
   "metadata": {
    "ExecuteTime": {
     "end_time": "2022-03-01T08:32:59.485629Z",
     "start_time": "2022-03-01T08:32:59.473587Z"
    }
   },
   "outputs": [],
   "source": [
    "X_imp_cl_train_lag_filtered = X_imp_cl_train_lag.drop(['Autumn_t',\n",
    "       'Spring_t', 'Summer_t', 'Winter_t',\n",
    "       'become_less_developed_t', 'cloud_development_observe_t',\n",
    "       'cloud_generally_dissolve_t', 'cloud_generally_form_t',\n",
    "       'development_observe_observable_t', 'dissolve_become_less_t',\n",
    "       'dust_suspension_air_t', 'fall_snowflake_slight_t',\n",
    "       'freeze_intermittent_slight_t', 'generally_dissolve_become_t',\n",
    "       'generally_form_develop_t', 'hail_rain_snow_t',\n",
    "       'moderate_without_hail_t', 'rain_freeze_intermittent_t',\n",
    "       'rain_shower_slight_t', 'sky_whole_unchanged_t',\n",
    "       'slight_moderate_without_t', 'state_sky_whole_t',\n",
    "       'thunderstorm_slight_moderate_t', 'visibility_reduce_smoke_t',\n",
    "       'widespread_dust_suspension_t', 'without_hail_rain_t'], axis=1)\n",
    "\n",
    "X_imp_cl_val_lag_filtered = X_imp_cl_val_lag.drop(['Autumn_t',\n",
    "       'Spring_t', 'Summer_t', 'Winter_t',\n",
    "       'become_less_developed_t', 'cloud_development_observe_t',\n",
    "       'cloud_generally_dissolve_t', 'cloud_generally_form_t',\n",
    "       'development_observe_observable_t', 'dissolve_become_less_t',\n",
    "       'dust_suspension_air_t', 'fall_snowflake_slight_t',\n",
    "       'freeze_intermittent_slight_t', 'generally_dissolve_become_t',\n",
    "       'generally_form_develop_t', 'hail_rain_snow_t',\n",
    "       'moderate_without_hail_t', 'rain_freeze_intermittent_t',\n",
    "       'rain_shower_slight_t', 'sky_whole_unchanged_t',\n",
    "       'slight_moderate_without_t', 'state_sky_whole_t',\n",
    "       'thunderstorm_slight_moderate_t', 'visibility_reduce_smoke_t',\n",
    "       'widespread_dust_suspension_t', 'without_hail_rain_t'], axis=1)"
   ]
  },
  {
   "cell_type": "code",
   "execution_count": 810,
   "metadata": {
    "ExecuteTime": {
     "end_time": "2022-03-01T08:33:32.195392Z",
     "start_time": "2022-03-01T08:33:03.510381Z"
    }
   },
   "outputs": [
    {
     "name": "stdout",
     "output_type": "stream",
     "text": [
      "Prediction started...\n",
      "Model 0 is completed\n",
      "Model 1 is completed\n",
      "Model 2 is completed\n",
      "Model 3 is completed\n",
      "Model 4 is completed\n",
      "Model 5 is completed\n",
      "Prediction is completed...\n"
     ]
    }
   ],
   "source": [
    "model_list = [LGBMRegressor(n_jobs=-1, random_state=42), RandomForestRegressor(n_jobs=-1, random_state=42), \n",
    "              XGBRegressor(n_jobs=-1, random_state=42, objective='reg:squarederror'),ExtraTreesRegressor(random_state=42), \n",
    "              GradientBoostingRegressor(random_state=42), BaggingRegressor(random_state=42)\n",
    "             ]\n",
    "\n",
    "train_rmses = []\n",
    "train_maes = []\n",
    "train_r2s = []\n",
    "val_rmses = []\n",
    "val_maes = []\n",
    "val_r2s = []\n",
    "times = []\n",
    "counter = 0\n",
    "\n",
    "print(\"Prediction started...\")\n",
    "for model in model_list:\n",
    "    mod = model\n",
    "    start_time = time.time()\n",
    "    mod.fit(X_imp_cl_train_lag_filtered, np.ravel(y_imp_cl_train_lag))\n",
    "    end_time = time.time()\n",
    "    train_pred = mod.predict(X_imp_cl_train_lag_filtered)\n",
    "    val_pred = mod.predict(X_imp_cl_val_lag_filtered)\n",
    "    \n",
    "    train_rmses.append(mean_squared_error(np.ravel(y_imp_cl_train_lag), train_pred, squared=False))\n",
    "    train_maes.append(mean_absolute_error(np.ravel(y_imp_cl_train_lag), train_pred))\n",
    "    train_r2s.append(r2_score(np.ravel(y_imp_cl_train_lag), train_pred))\n",
    "    \n",
    "    val_rmses.append(mean_squared_error(np.ravel(y_imp_cl_val_lag), val_pred, squared=False))\n",
    "    val_maes.append(mean_absolute_error(np.ravel(y_imp_cl_val_lag), val_pred))\n",
    "    val_r2s.append(r2_score(np.ravel(y_imp_cl_val_lag), val_pred))\n",
    "\n",
    "    times.append(end_time - start_time)\n",
    "    print(\"Model\",counter,\"is completed\")\n",
    "    counter += 1\n",
    "print(\"Prediction is completed...\")    "
   ]
  },
  {
   "cell_type": "code",
   "execution_count": 811,
   "metadata": {
    "ExecuteTime": {
     "end_time": "2022-03-01T08:33:34.601292Z",
     "start_time": "2022-03-01T08:33:34.381327Z"
    }
   },
   "outputs": [
    {
     "data": {
      "text/html": [
       "<div>\n",
       "<style scoped>\n",
       "    .dataframe tbody tr th:only-of-type {\n",
       "        vertical-align: middle;\n",
       "    }\n",
       "\n",
       "    .dataframe tbody tr th {\n",
       "        vertical-align: top;\n",
       "    }\n",
       "\n",
       "    .dataframe thead th {\n",
       "        text-align: right;\n",
       "    }\n",
       "</style>\n",
       "<table border=\"1\" class=\"dataframe\">\n",
       "  <thead>\n",
       "    <tr style=\"text-align: right;\">\n",
       "      <th></th>\n",
       "      <th>model</th>\n",
       "      <th>train_rmse</th>\n",
       "      <th>train_mae</th>\n",
       "      <th>train_r2</th>\n",
       "      <th>val_rmse</th>\n",
       "      <th>val_mae</th>\n",
       "      <th>val_r2</th>\n",
       "      <th>duration</th>\n",
       "    </tr>\n",
       "  </thead>\n",
       "  <tbody>\n",
       "    <tr>\n",
       "      <th>0</th>\n",
       "      <td>LGBMRegressor(random_state=42)</td>\n",
       "      <td>1.702340e+01</td>\n",
       "      <td>8.741866e+00</td>\n",
       "      <td>0.981642</td>\n",
       "      <td>25.000677</td>\n",
       "      <td>12.221443</td>\n",
       "      <td>0.964213</td>\n",
       "      <td>0.493995</td>\n",
       "    </tr>\n",
       "    <tr>\n",
       "      <th>3</th>\n",
       "      <td>(ExtraTreeRegressor(random_state=1608637542), ...</td>\n",
       "      <td>2.098925e-13</td>\n",
       "      <td>1.061159e-13</td>\n",
       "      <td>1.000000</td>\n",
       "      <td>25.749358</td>\n",
       "      <td>12.754971</td>\n",
       "      <td>0.962038</td>\n",
       "      <td>12.323977</td>\n",
       "    </tr>\n",
       "    <tr>\n",
       "      <th>2</th>\n",
       "      <td>XGBRegressor(n_jobs=-1, objective='reg:squared...</td>\n",
       "      <td>2.391697e+01</td>\n",
       "      <td>1.223503e+01</td>\n",
       "      <td>0.963764</td>\n",
       "      <td>26.143264</td>\n",
       "      <td>13.368112</td>\n",
       "      <td>0.960867</td>\n",
       "      <td>2.194971</td>\n",
       "    </tr>\n",
       "    <tr>\n",
       "      <th>4</th>\n",
       "      <td>([DecisionTreeRegressor(criterion='friedman_ms...</td>\n",
       "      <td>2.386124e+01</td>\n",
       "      <td>1.225258e+01</td>\n",
       "      <td>0.963933</td>\n",
       "      <td>26.285189</td>\n",
       "      <td>13.546356</td>\n",
       "      <td>0.960441</td>\n",
       "      <td>4.743006</td>\n",
       "    </tr>\n",
       "    <tr>\n",
       "      <th>1</th>\n",
       "      <td>(DecisionTreeRegressor(max_features='auto', ra...</td>\n",
       "      <td>8.582807e+00</td>\n",
       "      <td>4.162435e+00</td>\n",
       "      <td>0.995334</td>\n",
       "      <td>26.660854</td>\n",
       "      <td>13.371014</td>\n",
       "      <td>0.959303</td>\n",
       "      <td>5.259995</td>\n",
       "    </tr>\n",
       "    <tr>\n",
       "      <th>5</th>\n",
       "      <td>(DecisionTreeRegressor(random_state=1952926171...</td>\n",
       "      <td>1.044991e+01</td>\n",
       "      <td>4.802196e+00</td>\n",
       "      <td>0.993082</td>\n",
       "      <td>27.898656</td>\n",
       "      <td>13.941053</td>\n",
       "      <td>0.955436</td>\n",
       "      <td>2.315997</td>\n",
       "    </tr>\n",
       "  </tbody>\n",
       "</table>\n",
       "</div>"
      ],
      "text/plain": [
       "                                               model    train_rmse  \\\n",
       "0                     LGBMRegressor(random_state=42)  1.702340e+01   \n",
       "3  (ExtraTreeRegressor(random_state=1608637542), ...  2.098925e-13   \n",
       "2  XGBRegressor(n_jobs=-1, objective='reg:squared...  2.391697e+01   \n",
       "4  ([DecisionTreeRegressor(criterion='friedman_ms...  2.386124e+01   \n",
       "1  (DecisionTreeRegressor(max_features='auto', ra...  8.582807e+00   \n",
       "5  (DecisionTreeRegressor(random_state=1952926171...  1.044991e+01   \n",
       "\n",
       "      train_mae  train_r2   val_rmse    val_mae    val_r2   duration  \n",
       "0  8.741866e+00  0.981642  25.000677  12.221443  0.964213   0.493995  \n",
       "3  1.061159e-13  1.000000  25.749358  12.754971  0.962038  12.323977  \n",
       "2  1.223503e+01  0.963764  26.143264  13.368112  0.960867   2.194971  \n",
       "4  1.225258e+01  0.963933  26.285189  13.546356  0.960441   4.743006  \n",
       "1  4.162435e+00  0.995334  26.660854  13.371014  0.959303   5.259995  \n",
       "5  4.802196e+00  0.993082  27.898656  13.941053  0.955436   2.315997  "
      ]
     },
     "execution_count": 811,
     "metadata": {},
     "output_type": "execute_result"
    }
   ],
   "source": [
    "modelsdf = pd.DataFrame(\n",
    "    {\n",
    "     'model': model_list,\n",
    "     'train_rmse': train_rmses,\n",
    "     'train_mae': train_maes,\n",
    "     'train_r2': train_r2s,\n",
    "     'val_rmse': val_rmses,\n",
    "     'val_mae': val_maes,\n",
    "     'val_r2': val_r2s,   \n",
    "     'duration': times\n",
    "    })\n",
    "\n",
    "modelsdf.sort_values(by='val_rmse', ascending=True)"
   ]
  },
  {
   "cell_type": "code",
   "execution_count": null,
   "metadata": {},
   "outputs": [],
   "source": [
    "#scale the target"
   ]
  },
  {
   "cell_type": "code",
   "execution_count": 836,
   "metadata": {
    "ExecuteTime": {
     "end_time": "2022-03-01T08:51:33.055247Z",
     "start_time": "2022-03-01T08:51:33.043209Z"
    }
   },
   "outputs": [],
   "source": [
    "from sklearn.preprocessing import RobustScaler, \n",
    "target_scaler = RobustScaler(quantile_range=(5.0, 90.0))\n",
    "y_imp_cl_train_lags_scaled = target_scaler.fit_transform(y_imp_cl_train_lag)\n",
    "y_imp_cl_val_lags_scaled = target_scaler.transform(y_imp_cl_val_lag)"
   ]
  },
  {
   "cell_type": "code",
   "execution_count": 837,
   "metadata": {
    "ExecuteTime": {
     "end_time": "2022-03-01T08:52:05.463528Z",
     "start_time": "2022-03-01T08:51:35.402217Z"
    }
   },
   "outputs": [
    {
     "name": "stdout",
     "output_type": "stream",
     "text": [
      "Prediction started...\n",
      "Model 0 is completed\n",
      "Model 1 is completed\n",
      "Model 2 is completed\n",
      "Model 3 is completed\n",
      "Model 4 is completed\n",
      "Model 5 is completed\n",
      "Prediction is completed...\n"
     ]
    }
   ],
   "source": [
    "model_list = [LGBMRegressor(n_jobs=-1, random_state=42), RandomForestRegressor(n_jobs=-1, random_state=42), \n",
    "              XGBRegressor(n_jobs=-1, random_state=42, objective='reg:squarederror'),ExtraTreesRegressor(random_state=42), \n",
    "              GradientBoostingRegressor(random_state=42), BaggingRegressor(random_state=42)\n",
    "             ]\n",
    "\n",
    "train_rmses = []\n",
    "train_maes = []\n",
    "train_r2s = []\n",
    "val_rmses = []\n",
    "val_maes = []\n",
    "val_r2s = []\n",
    "times = []\n",
    "counter = 0\n",
    "\n",
    "print(\"Prediction started...\")\n",
    "for model in model_list:\n",
    "    mod = model\n",
    "    start_time = time.time()\n",
    "    mod.fit(X_imp_cl_train_lag_filtered, np.ravel(y_imp_cl_train_lags_scaled))\n",
    "    end_time = time.time()\n",
    "    train_pred = mod.predict(X_imp_cl_train_lag_filtered)\n",
    "    val_pred = mod.predict(X_imp_cl_val_lag_filtered)\n",
    "    \n",
    "    train_pred_inv = target_scaler.inverse_transform(train_pred.reshape(-1, 1))\n",
    "    val_pred_inv = target_scaler.inverse_transform(val_pred.reshape(-1, 1))\n",
    "    \n",
    "    train_rmses.append(mean_squared_error(np.ravel(y_imp_cl_train_lag), train_pred_inv, squared=False))\n",
    "    train_maes.append(mean_absolute_error(np.ravel(y_imp_cl_train_lag), train_pred_inv))\n",
    "    train_r2s.append(r2_score(np.ravel(y_imp_cl_train_lag), train_pred_inv))\n",
    "    \n",
    "    val_rmses.append(mean_squared_error(np.ravel(y_imp_cl_val_lag), val_pred_inv, squared=False))\n",
    "    val_maes.append(mean_absolute_error(np.ravel(y_imp_cl_val_lag), val_pred_inv))\n",
    "    val_r2s.append(r2_score(np.ravel(y_imp_cl_val_lag), val_pred_inv))\n",
    "\n",
    "    times.append(end_time - start_time)\n",
    "    print(\"Model\",counter,\"is completed\")\n",
    "    counter += 1\n",
    "print(\"Prediction is completed...\")    "
   ]
  },
  {
   "cell_type": "code",
   "execution_count": 838,
   "metadata": {
    "ExecuteTime": {
     "end_time": "2022-03-01T08:52:59.302987Z",
     "start_time": "2022-03-01T08:52:59.110959Z"
    }
   },
   "outputs": [
    {
     "data": {
      "text/html": [
       "<div>\n",
       "<style scoped>\n",
       "    .dataframe tbody tr th:only-of-type {\n",
       "        vertical-align: middle;\n",
       "    }\n",
       "\n",
       "    .dataframe tbody tr th {\n",
       "        vertical-align: top;\n",
       "    }\n",
       "\n",
       "    .dataframe thead th {\n",
       "        text-align: right;\n",
       "    }\n",
       "</style>\n",
       "<table border=\"1\" class=\"dataframe\">\n",
       "  <thead>\n",
       "    <tr style=\"text-align: right;\">\n",
       "      <th></th>\n",
       "      <th>model</th>\n",
       "      <th>train_rmse</th>\n",
       "      <th>train_mae</th>\n",
       "      <th>train_r2</th>\n",
       "      <th>val_rmse</th>\n",
       "      <th>val_mae</th>\n",
       "      <th>val_r2</th>\n",
       "      <th>duration</th>\n",
       "    </tr>\n",
       "  </thead>\n",
       "  <tbody>\n",
       "    <tr>\n",
       "      <th>0</th>\n",
       "      <td>LGBMRegressor(random_state=42)</td>\n",
       "      <td>1.702340e+01</td>\n",
       "      <td>8.741866e+00</td>\n",
       "      <td>0.981642</td>\n",
       "      <td>25.000677</td>\n",
       "      <td>12.221443</td>\n",
       "      <td>0.964213</td>\n",
       "      <td>0.492030</td>\n",
       "    </tr>\n",
       "    <tr>\n",
       "      <th>3</th>\n",
       "      <td>(ExtraTreeRegressor(random_state=1608637542), ...</td>\n",
       "      <td>4.627303e-11</td>\n",
       "      <td>5.370054e-13</td>\n",
       "      <td>1.000000</td>\n",
       "      <td>25.955147</td>\n",
       "      <td>12.825396</td>\n",
       "      <td>0.961429</td>\n",
       "      <td>12.517713</td>\n",
       "    </tr>\n",
       "    <tr>\n",
       "      <th>4</th>\n",
       "      <td>([DecisionTreeRegressor(criterion='friedman_ms...</td>\n",
       "      <td>2.386124e+01</td>\n",
       "      <td>1.225258e+01</td>\n",
       "      <td>0.963933</td>\n",
       "      <td>26.285189</td>\n",
       "      <td>13.546356</td>\n",
       "      <td>0.960441</td>\n",
       "      <td>5.123056</td>\n",
       "    </tr>\n",
       "    <tr>\n",
       "      <th>2</th>\n",
       "      <td>XGBRegressor(n_jobs=-1, objective='reg:squared...</td>\n",
       "      <td>2.389819e+01</td>\n",
       "      <td>1.227153e+01</td>\n",
       "      <td>0.963821</td>\n",
       "      <td>26.381936</td>\n",
       "      <td>13.636554</td>\n",
       "      <td>0.960150</td>\n",
       "      <td>3.014445</td>\n",
       "    </tr>\n",
       "    <tr>\n",
       "      <th>1</th>\n",
       "      <td>(DecisionTreeRegressor(max_features='auto', ra...</td>\n",
       "      <td>8.583176e+00</td>\n",
       "      <td>4.159589e+00</td>\n",
       "      <td>0.995333</td>\n",
       "      <td>26.669539</td>\n",
       "      <td>13.341634</td>\n",
       "      <td>0.959276</td>\n",
       "      <td>4.940490</td>\n",
       "    </tr>\n",
       "    <tr>\n",
       "      <th>5</th>\n",
       "      <td>(DecisionTreeRegressor(random_state=1952926171...</td>\n",
       "      <td>1.047265e+01</td>\n",
       "      <td>4.799104e+00</td>\n",
       "      <td>0.993052</td>\n",
       "      <td>28.182309</td>\n",
       "      <td>14.132344</td>\n",
       "      <td>0.954525</td>\n",
       "      <td>2.552037</td>\n",
       "    </tr>\n",
       "  </tbody>\n",
       "</table>\n",
       "</div>"
      ],
      "text/plain": [
       "                                               model    train_rmse  \\\n",
       "0                     LGBMRegressor(random_state=42)  1.702340e+01   \n",
       "3  (ExtraTreeRegressor(random_state=1608637542), ...  4.627303e-11   \n",
       "4  ([DecisionTreeRegressor(criterion='friedman_ms...  2.386124e+01   \n",
       "2  XGBRegressor(n_jobs=-1, objective='reg:squared...  2.389819e+01   \n",
       "1  (DecisionTreeRegressor(max_features='auto', ra...  8.583176e+00   \n",
       "5  (DecisionTreeRegressor(random_state=1952926171...  1.047265e+01   \n",
       "\n",
       "      train_mae  train_r2   val_rmse    val_mae    val_r2   duration  \n",
       "0  8.741866e+00  0.981642  25.000677  12.221443  0.964213   0.492030  \n",
       "3  5.370054e-13  1.000000  25.955147  12.825396  0.961429  12.517713  \n",
       "4  1.225258e+01  0.963933  26.285189  13.546356  0.960441   5.123056  \n",
       "2  1.227153e+01  0.963821  26.381936  13.636554  0.960150   3.014445  \n",
       "1  4.159589e+00  0.995333  26.669539  13.341634  0.959276   4.940490  \n",
       "5  4.799104e+00  0.993052  28.182309  14.132344  0.954525   2.552037  "
      ]
     },
     "execution_count": 838,
     "metadata": {},
     "output_type": "execute_result"
    }
   ],
   "source": [
    "modelsdf = pd.DataFrame(\n",
    "    {\n",
    "     'model': model_list,\n",
    "     'train_rmse': train_rmses,\n",
    "     'train_mae': train_maes,\n",
    "     'train_r2': train_r2s,\n",
    "     'val_rmse': val_rmses,\n",
    "     'val_mae': val_maes,\n",
    "     'val_r2': val_r2s,   \n",
    "     'duration': times\n",
    "    })\n",
    "\n",
    "modelsdf.sort_values(by='val_rmse', ascending=True)"
   ]
  },
  {
   "cell_type": "code",
   "execution_count": null,
   "metadata": {},
   "outputs": [],
   "source": [
    "#Extract monthly, daily and hourly averages, max, min generations"
   ]
  },
  {
   "cell_type": "code",
   "execution_count": 898,
   "metadata": {
    "ExecuteTime": {
     "end_time": "2022-03-01T12:10:19.089016Z",
     "start_time": "2022-03-01T12:10:19.069981Z"
    }
   },
   "outputs": [
    {
     "name": "stdout",
     "output_type": "stream",
     "text": [
      "(23352, 1)\n",
      "(2184, 1)\n",
      "(25560, 2)\n"
     ]
    }
   ],
   "source": [
    "print(y_imp_cl_train_lag.shape)\n",
    "print(y_imp_cl_val_lag.shape)\n",
    "print(y_lagged.shape)"
   ]
  },
  {
   "cell_type": "code",
   "execution_count": 901,
   "metadata": {
    "ExecuteTime": {
     "end_time": "2022-03-01T12:13:50.501290Z",
     "start_time": "2022-03-01T12:13:50.379294Z"
    }
   },
   "outputs": [],
   "source": [
    "#X_imp_cl_train_lag_filtered\n",
    "y_averages = y_new[y_new.index.isin(pd.concat([X_imp_cl_train_lag_filtered, X_imp_cl_val_lag_filtered], axis=0).index)].copy()\n",
    "y_averages[\"year\"] = y_averages.index.year\n",
    "y_averages[\"month\"] = y_averages.index.month\n",
    "y_averages[\"day\"] = y_averages.index.day\n",
    "y_averages[\"hour\"] = y_averages.index.hour"
   ]
  },
  {
   "cell_type": "code",
   "execution_count": 903,
   "metadata": {
    "ExecuteTime": {
     "end_time": "2022-03-01T12:14:06.951545Z",
     "start_time": "2022-03-01T12:14:06.622482Z"
    }
   },
   "outputs": [],
   "source": [
    "monthly_averages = y_averages[['month', \"Generation\"]]\n",
    "monthly_averages2 = monthly_averages.groupby('month').expanding()[\"Generation\"].agg(['max', 'min', 'mean'])\n",
    "monthly_averages2 = monthly_averages2.reset_index().set_index('DateTime').rename(columns={'max': 'monthly_cummax',\n",
    "                                                                      'min': 'monthly_cummin',\n",
    "                                                                      'mean': 'monthly_cummean'\n",
    "                                                                     }).drop('month', axis=1)\n",
    "\n",
    "yearly_averages = y_averages[['year', \"Generation\"]]\n",
    "yearly_averages2 = yearly_averages.groupby('year').expanding()[\"Generation\"].agg(['max', 'min', 'mean'])\n",
    "yearly_averages2 = yearly_averages2.reset_index().set_index('DateTime').rename(columns={'max': 'yearly_cummax',\n",
    "                                                                      'min': 'yearly_cummin',\n",
    "                                                                      'mean': 'yearly_cummean'\n",
    "                                                                     }).drop('year', axis=1)\n",
    "\n",
    "daily_averages = y_averages[['day', \"Generation\"]]\n",
    "daily_averages2 = daily_averages.groupby('day').expanding()[\"Generation\"].agg(['max', 'min', 'mean'])\n",
    "daily_averages2 = daily_averages2.reset_index().set_index('DateTime').rename(columns={'max': 'daily_cummax',\n",
    "                                                                      'min': 'daily_cummin',\n",
    "                                                                      'mean': 'daily_cummean'\n",
    "                                                                     }).drop('day', axis=1)\n",
    "\n",
    "hourly_averages = y_averages[['hour', \"Generation\"]]\n",
    "hourly_averages2 = hourly_averages.groupby('hour').expanding()[\"Generation\"].agg(['max', 'min', 'mean'])\n",
    "hourly_averages2 = hourly_averages2.reset_index().set_index('DateTime').rename(columns={'max': 'hourly_max',\n",
    "                                                                      'min': 'hourly_min',\n",
    "                                                                      'mean': 'hourly_mean'\n",
    "                                                                     }).drop('hour', axis=1)\n",
    "\n",
    "averages = pd.concat([yearly_averages2, monthly_averages2, daily_averages2, hourly_averages2], axis=1)"
   ]
  },
  {
   "cell_type": "code",
   "execution_count": 904,
   "metadata": {
    "ExecuteTime": {
     "end_time": "2022-03-01T12:14:44.494258Z",
     "start_time": "2022-03-01T12:14:44.466244Z"
    }
   },
   "outputs": [
    {
     "name": "stdout",
     "output_type": "stream",
     "text": [
      "(23352, 32)\n",
      "(2184, 32)\n"
     ]
    }
   ],
   "source": [
    "X_imp_cl_train_lag_filtered2 = X_imp_cl_train_lag_filtered.merge(averages, left_index=True, right_index=True, how='left')\n",
    "X_imp_cl_val_lag_filtered2 = X_imp_cl_val_lag_filtered.merge(averages, left_index=True, right_index=True, how='left')\n",
    "\n",
    "print(X_imp_cl_train_lag_filtered2.shape)\n",
    "print(X_imp_cl_val_lag_filtered2.shape)"
   ]
  },
  {
   "cell_type": "code",
   "execution_count": 908,
   "metadata": {
    "ExecuteTime": {
     "end_time": "2022-03-01T12:18:43.322708Z",
     "start_time": "2022-03-01T12:18:43.278699Z"
    }
   },
   "outputs": [],
   "source": [
    "from sklearn.preprocessing import RobustScaler\n",
    "feature_scaler = RobustScaler(quantile_range=(25.0, 75.0))\n",
    "X_imp_cl_train_lag_filtered2_scaled = feature_scaler.fit_transform(X_imp_cl_train_lag_filtered2)\n",
    "X_imp_cl_val_lag_filtered2_scaled = feature_scaler.transform(X_imp_cl_val_lag_filtered2)"
   ]
  },
  {
   "cell_type": "code",
   "execution_count": 909,
   "metadata": {
    "ExecuteTime": {
     "end_time": "2022-03-01T12:19:43.254394Z",
     "start_time": "2022-03-01T12:19:00.429595Z"
    }
   },
   "outputs": [
    {
     "name": "stdout",
     "output_type": "stream",
     "text": [
      "Prediction started...\n",
      "Model 0 is completed\n",
      "Model 1 is completed\n",
      "Model 2 is completed\n",
      "Model 3 is completed\n",
      "Model 4 is completed\n",
      "Model 5 is completed\n",
      "Prediction is completed...\n"
     ]
    }
   ],
   "source": [
    "model_list = [LGBMRegressor(n_jobs=-1, random_state=42), RandomForestRegressor(n_jobs=-1, random_state=42), \n",
    "              XGBRegressor(n_jobs=-1, random_state=42, objective='reg:squarederror'),ExtraTreesRegressor(random_state=42), \n",
    "              GradientBoostingRegressor(random_state=42), BaggingRegressor(random_state=42)\n",
    "             ]\n",
    "\n",
    "train_rmses = []\n",
    "train_maes = []\n",
    "train_r2s = []\n",
    "val_rmses = []\n",
    "val_maes = []\n",
    "val_r2s = []\n",
    "times = []\n",
    "counter = 0\n",
    "\n",
    "print(\"Prediction started...\")\n",
    "for model in model_list:\n",
    "    mod = model\n",
    "    start_time = time.time()\n",
    "    mod.fit(X_imp_cl_train_lag_filtered2_scaled, np.ravel(y_imp_cl_train_lags_scaled))\n",
    "    end_time = time.time()\n",
    "    train_pred = mod.predict(X_imp_cl_train_lag_filtered2_scaled)\n",
    "    val_pred = mod.predict(X_imp_cl_val_lag_filtered2_scaled)\n",
    "    \n",
    "    train_pred_inv = target_scaler.inverse_transform(train_pred.reshape(-1, 1))\n",
    "    val_pred_inv = target_scaler.inverse_transform(val_pred.reshape(-1, 1))\n",
    "    \n",
    "    train_rmses.append(mean_squared_error(np.ravel(y_imp_cl_train_lag), train_pred_inv, squared=False))\n",
    "    train_maes.append(mean_absolute_error(np.ravel(y_imp_cl_train_lag), train_pred_inv))\n",
    "    train_r2s.append(r2_score(np.ravel(y_imp_cl_train_lag), train_pred_inv))\n",
    "    \n",
    "    val_rmses.append(mean_squared_error(np.ravel(y_imp_cl_val_lag), val_pred_inv, squared=False))\n",
    "    val_maes.append(mean_absolute_error(np.ravel(y_imp_cl_val_lag), val_pred_inv))\n",
    "    val_r2s.append(r2_score(np.ravel(y_imp_cl_val_lag), val_pred_inv))\n",
    "\n",
    "    times.append(end_time - start_time)\n",
    "    print(\"Model\",counter,\"is completed\")\n",
    "    counter += 1\n",
    "print(\"Prediction is completed...\")    "
   ]
  },
  {
   "cell_type": "code",
   "execution_count": 910,
   "metadata": {
    "ExecuteTime": {
     "end_time": "2022-03-01T12:19:54.252735Z",
     "start_time": "2022-03-01T12:19:54.053694Z"
    }
   },
   "outputs": [
    {
     "data": {
      "text/html": [
       "<div>\n",
       "<style scoped>\n",
       "    .dataframe tbody tr th:only-of-type {\n",
       "        vertical-align: middle;\n",
       "    }\n",
       "\n",
       "    .dataframe tbody tr th {\n",
       "        vertical-align: top;\n",
       "    }\n",
       "\n",
       "    .dataframe thead th {\n",
       "        text-align: right;\n",
       "    }\n",
       "</style>\n",
       "<table border=\"1\" class=\"dataframe\">\n",
       "  <thead>\n",
       "    <tr style=\"text-align: right;\">\n",
       "      <th></th>\n",
       "      <th>model</th>\n",
       "      <th>train_rmse</th>\n",
       "      <th>train_mae</th>\n",
       "      <th>train_r2</th>\n",
       "      <th>val_rmse</th>\n",
       "      <th>val_mae</th>\n",
       "      <th>val_r2</th>\n",
       "      <th>duration</th>\n",
       "    </tr>\n",
       "  </thead>\n",
       "  <tbody>\n",
       "    <tr>\n",
       "      <th>3</th>\n",
       "      <td>(ExtraTreeRegressor(random_state=1608637542), ...</td>\n",
       "      <td>1.580539e-09</td>\n",
       "      <td>3.404948e-11</td>\n",
       "      <td>1.000000</td>\n",
       "      <td>26.107049</td>\n",
       "      <td>12.812512</td>\n",
       "      <td>0.960976</td>\n",
       "      <td>16.179961</td>\n",
       "    </tr>\n",
       "    <tr>\n",
       "      <th>0</th>\n",
       "      <td>LGBMRegressor(random_state=42)</td>\n",
       "      <td>1.455513e+01</td>\n",
       "      <td>7.470629e+00</td>\n",
       "      <td>0.986580</td>\n",
       "      <td>26.950867</td>\n",
       "      <td>13.157561</td>\n",
       "      <td>0.958412</td>\n",
       "      <td>0.684998</td>\n",
       "    </tr>\n",
       "    <tr>\n",
       "      <th>2</th>\n",
       "      <td>XGBRegressor(n_jobs=-1, objective='reg:squared...</td>\n",
       "      <td>2.156950e+01</td>\n",
       "      <td>1.122674e+01</td>\n",
       "      <td>0.970528</td>\n",
       "      <td>27.754787</td>\n",
       "      <td>14.573128</td>\n",
       "      <td>0.955894</td>\n",
       "      <td>4.036694</td>\n",
       "    </tr>\n",
       "    <tr>\n",
       "      <th>4</th>\n",
       "      <td>([DecisionTreeRegressor(criterion='friedman_ms...</td>\n",
       "      <td>2.160600e+01</td>\n",
       "      <td>1.124163e+01</td>\n",
       "      <td>0.970428</td>\n",
       "      <td>28.110428</td>\n",
       "      <td>16.220833</td>\n",
       "      <td>0.954757</td>\n",
       "      <td>8.527995</td>\n",
       "    </tr>\n",
       "    <tr>\n",
       "      <th>1</th>\n",
       "      <td>(DecisionTreeRegressor(max_features='auto', ra...</td>\n",
       "      <td>7.368613e+00</td>\n",
       "      <td>3.520487e+00</td>\n",
       "      <td>0.996560</td>\n",
       "      <td>31.454764</td>\n",
       "      <td>15.958464</td>\n",
       "      <td>0.943351</td>\n",
       "      <td>8.140064</td>\n",
       "    </tr>\n",
       "    <tr>\n",
       "      <th>5</th>\n",
       "      <td>(DecisionTreeRegressor(random_state=1952926171...</td>\n",
       "      <td>9.000326e+00</td>\n",
       "      <td>4.052940e+00</td>\n",
       "      <td>0.994869</td>\n",
       "      <td>32.949776</td>\n",
       "      <td>16.668187</td>\n",
       "      <td>0.937838</td>\n",
       "      <td>3.872997</td>\n",
       "    </tr>\n",
       "  </tbody>\n",
       "</table>\n",
       "</div>"
      ],
      "text/plain": [
       "                                               model    train_rmse  \\\n",
       "3  (ExtraTreeRegressor(random_state=1608637542), ...  1.580539e-09   \n",
       "0                     LGBMRegressor(random_state=42)  1.455513e+01   \n",
       "2  XGBRegressor(n_jobs=-1, objective='reg:squared...  2.156950e+01   \n",
       "4  ([DecisionTreeRegressor(criterion='friedman_ms...  2.160600e+01   \n",
       "1  (DecisionTreeRegressor(max_features='auto', ra...  7.368613e+00   \n",
       "5  (DecisionTreeRegressor(random_state=1952926171...  9.000326e+00   \n",
       "\n",
       "      train_mae  train_r2   val_rmse    val_mae    val_r2   duration  \n",
       "3  3.404948e-11  1.000000  26.107049  12.812512  0.960976  16.179961  \n",
       "0  7.470629e+00  0.986580  26.950867  13.157561  0.958412   0.684998  \n",
       "2  1.122674e+01  0.970528  27.754787  14.573128  0.955894   4.036694  \n",
       "4  1.124163e+01  0.970428  28.110428  16.220833  0.954757   8.527995  \n",
       "1  3.520487e+00  0.996560  31.454764  15.958464  0.943351   8.140064  \n",
       "5  4.052940e+00  0.994869  32.949776  16.668187  0.937838   3.872997  "
      ]
     },
     "execution_count": 910,
     "metadata": {},
     "output_type": "execute_result"
    }
   ],
   "source": [
    "modelsdf = pd.DataFrame(\n",
    "    {\n",
    "     'model': model_list,\n",
    "     'train_rmse': train_rmses,\n",
    "     'train_mae': train_maes,\n",
    "     'train_r2': train_r2s,\n",
    "     'val_rmse': val_rmses,\n",
    "     'val_mae': val_maes,\n",
    "     'val_r2': val_r2s,   \n",
    "     'duration': times\n",
    "    })\n",
    "\n",
    "modelsdf.sort_values(by='val_rmse', ascending=True)"
   ]
  },
  {
   "cell_type": "code",
   "execution_count": 911,
   "metadata": {
    "ExecuteTime": {
     "end_time": "2022-03-01T12:25:37.046451Z",
     "start_time": "2022-03-01T12:25:37.023445Z"
    }
   },
   "outputs": [
    {
     "data": {
      "text/html": [
       "<div>\n",
       "<style scoped>\n",
       "    .dataframe tbody tr th:only-of-type {\n",
       "        vertical-align: middle;\n",
       "    }\n",
       "\n",
       "    .dataframe tbody tr th {\n",
       "        vertical-align: top;\n",
       "    }\n",
       "\n",
       "    .dataframe thead th {\n",
       "        text-align: right;\n",
       "    }\n",
       "</style>\n",
       "<table border=\"1\" class=\"dataframe\">\n",
       "  <thead>\n",
       "    <tr style=\"text-align: right;\">\n",
       "      <th></th>\n",
       "      <th>Generation</th>\n",
       "    </tr>\n",
       "    <tr>\n",
       "      <th>DateTime</th>\n",
       "      <th></th>\n",
       "    </tr>\n",
       "  </thead>\n",
       "  <tbody>\n",
       "    <tr>\n",
       "      <th>2019-01-02 00:00:00</th>\n",
       "      <td>0.000008</td>\n",
       "    </tr>\n",
       "    <tr>\n",
       "      <th>2019-01-02 01:00:00</th>\n",
       "      <td>0.000000</td>\n",
       "    </tr>\n",
       "    <tr>\n",
       "      <th>2019-01-02 02:00:00</th>\n",
       "      <td>0.000000</td>\n",
       "    </tr>\n",
       "    <tr>\n",
       "      <th>2019-01-02 03:00:00</th>\n",
       "      <td>0.000008</td>\n",
       "    </tr>\n",
       "    <tr>\n",
       "      <th>2019-01-02 04:00:00</th>\n",
       "      <td>0.000000</td>\n",
       "    </tr>\n",
       "    <tr>\n",
       "      <th>...</th>\n",
       "      <td>...</td>\n",
       "    </tr>\n",
       "    <tr>\n",
       "      <th>2021-08-31 19:00:00</th>\n",
       "      <td>1.064835</td>\n",
       "    </tr>\n",
       "    <tr>\n",
       "      <th>2021-08-31 20:00:00</th>\n",
       "      <td>0.009499</td>\n",
       "    </tr>\n",
       "    <tr>\n",
       "      <th>2021-08-31 21:00:00</th>\n",
       "      <td>0.000000</td>\n",
       "    </tr>\n",
       "    <tr>\n",
       "      <th>2021-08-31 22:00:00</th>\n",
       "      <td>0.000000</td>\n",
       "    </tr>\n",
       "    <tr>\n",
       "      <th>2021-08-31 23:00:00</th>\n",
       "      <td>0.000000</td>\n",
       "    </tr>\n",
       "  </tbody>\n",
       "</table>\n",
       "<p>23352 rows × 1 columns</p>\n",
       "</div>"
      ],
      "text/plain": [
       "                     Generation\n",
       "DateTime                       \n",
       "2019-01-02 00:00:00    0.000008\n",
       "2019-01-02 01:00:00    0.000000\n",
       "2019-01-02 02:00:00    0.000000\n",
       "2019-01-02 03:00:00    0.000008\n",
       "2019-01-02 04:00:00    0.000000\n",
       "...                         ...\n",
       "2021-08-31 19:00:00    1.064835\n",
       "2021-08-31 20:00:00    0.009499\n",
       "2021-08-31 21:00:00    0.000000\n",
       "2021-08-31 22:00:00    0.000000\n",
       "2021-08-31 23:00:00    0.000000\n",
       "\n",
       "[23352 rows x 1 columns]"
      ]
     },
     "execution_count": 911,
     "metadata": {},
     "output_type": "execute_result"
    }
   ],
   "source": [
    "y_imp_cl_train_lag"
   ]
  },
  {
   "cell_type": "code",
   "execution_count": 912,
   "metadata": {
    "ExecuteTime": {
     "end_time": "2022-03-01T12:38:08.027641Z",
     "start_time": "2022-03-01T12:27:55.103570Z"
    }
   },
   "outputs": [
    {
     "name": "stdout",
     "output_type": "stream",
     "text": [
      "Fitting 3 folds for each of 144 candidates, totalling 432 fits\n"
     ]
    },
    {
     "name": "stderr",
     "output_type": "stream",
     "text": [
      "[Parallel(n_jobs=-1)]: Using backend LokyBackend with 8 concurrent workers.\n",
      "[Parallel(n_jobs=-1)]: Done  34 tasks      | elapsed:   37.6s\n",
      "[Parallel(n_jobs=-1)]: Done 184 tasks      | elapsed:  2.7min\n",
      "[Parallel(n_jobs=-1)]: Done 432 out of 432 | elapsed: 10.0min finished\n"
     ]
    },
    {
     "name": "stdout",
     "output_type": "stream",
     "text": [
      "{'boosting_type': 'gbdt', 'learning_rate': 0.01, 'max_depth': 50, 'min_child_samples': 5, 'min_split_gain': 0.0001, 'n_estimators': 1000, 'num_leaves': 50}\n",
      "Train Set RMSE: 11.696352991023993\n",
      "Train Set MAE: 6.134007215463198\n",
      "Train Set R2: 0.9913338364567597\n",
      "\n",
      "Val Set RMSE: 26.855968941696226\n",
      "Val Set MAE: 13.069088516360315\n",
      "Val Set R2: 0.9587046554780029\n"
     ]
    }
   ],
   "source": [
    "lgbm_imp2 = LGBMRegressor(n_jobs=-1, random_state=42)\n",
    "\n",
    "\n",
    "params2 = {\n",
    "    \"boosting_type\": ['gbdt'],\n",
    "    \"n_estimators\": [500, 1000],\n",
    "    \"min_split_gain\": [0.00001, 0.0001],\n",
    "    \"min_child_samples\":[5, 10],\n",
    "    \"max_depth\": [10, 15, 50],\n",
    "    \"learning_rate\": [0.1, 0.01],\n",
    "    \"num_leaves\": [50, 70, 100]   \n",
    "}\n",
    "\n",
    "\n",
    "#define mse and set greater_is_better=False\n",
    "mse = make_scorer(mean_squared_error,greater_is_better=False)\n",
    "\n",
    "grid_imp2 = GridSearchCV(lgbm_imp2, param_grid=params2, cv=3, n_jobs=-1, scoring=mse, verbose=1)\n",
    "grid_imp2.fit(X_imp_cl_train_lag_filtered2_scaled, np.ravel(y_imp_cl_train_lags_scaled))\n",
    "\n",
    "print(grid_imp2.best_params_)\n",
    "\n",
    "y_train_grid_imp2 = grid_imp2.predict(X_imp_cl_train_lag_filtered2_scaled)\n",
    "y_val_grid_imp2 = grid_imp2.predict(X_imp_cl_val_lag_filtered2_scaled)\n",
    "\n",
    "train_pred_inv2 = target_scaler.inverse_transform(y_train_grid_imp2.reshape(-1, 1))\n",
    "val_pred_inv2 = target_scaler.inverse_transform(y_val_grid_imp2.reshape(-1, 1))\n",
    "\n",
    "\n",
    "print(\"Train Set RMSE:\", mean_squared_error(y_imp_cl_train_lag, train_pred_inv2, squared=False))\n",
    "print(\"Train Set MAE:\", mean_absolute_error(y_imp_cl_train_lag, train_pred_inv2))\n",
    "print(\"Train Set R2:\", r2_score(y_imp_cl_train_lag, train_pred_inv2))\n",
    "\n",
    "print()\n",
    "print(\"Val Set RMSE:\", mean_squared_error(y_imp_cl_val_lag, val_pred_inv2, squared=False))\n",
    "print(\"Val Set MAE:\", mean_absolute_error(y_imp_cl_val_lag, val_pred_inv2))\n",
    "print(\"Val Set R2:\", r2_score(y_imp_cl_val_lag, val_pred_inv2))"
   ]
  }
 ],
 "metadata": {
  "kernelspec": {
   "display_name": "Python 3",
   "language": "python",
   "name": "python3"
  },
  "language_info": {
   "codemirror_mode": {
    "name": "ipython",
    "version": 3
   },
   "file_extension": ".py",
   "mimetype": "text/x-python",
   "name": "python",
   "nbconvert_exporter": "python",
   "pygments_lexer": "ipython3",
   "version": "3.7.6"
  },
  "toc": {
   "base_numbering": 1,
   "nav_menu": {},
   "number_sections": true,
   "sideBar": true,
   "skip_h1_title": false,
   "title_cell": "Table of Contents",
   "title_sidebar": "Contents",
   "toc_cell": false,
   "toc_position": {},
   "toc_section_display": true,
   "toc_window_display": false
  },
  "varInspector": {
   "cols": {
    "lenName": 16,
    "lenType": 16,
    "lenVar": 40
   },
   "kernels_config": {
    "python": {
     "delete_cmd_postfix": "",
     "delete_cmd_prefix": "del ",
     "library": "var_list.py",
     "varRefreshCmd": "print(var_dic_list())"
    },
    "r": {
     "delete_cmd_postfix": ") ",
     "delete_cmd_prefix": "rm(",
     "library": "var_list.r",
     "varRefreshCmd": "cat(var_dic_list()) "
    }
   },
   "types_to_exclude": [
    "module",
    "function",
    "builtin_function_or_method",
    "instance",
    "_Feature"
   ],
   "window_display": false
  }
 },
 "nbformat": 4,
 "nbformat_minor": 2
}
